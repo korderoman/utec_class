{
 "cells": [
  {
   "metadata": {},
   "cell_type": "markdown",
   "source": "# Creando el Basic Block",
   "id": "612b768b17bad67"
  },
  {
   "cell_type": "code",
   "id": "initial_id",
   "metadata": {
    "collapsed": true,
    "ExecuteTime": {
     "end_time": "2025-04-30T00:54:42.724325Z",
     "start_time": "2025-04-30T00:54:37.303963Z"
    }
   },
   "source": [
    "import torch\n",
    "import torch.nn as nn\n",
    "\n",
    "class BasicBlock(nn.Module):\n",
    "    expansion = 1\n",
    "    def __init__(self, in_channels, out_channels, stride=1):\n",
    "        super(BasicBlock, self).__init__()\n",
    "        self.conv1 = nn.Conv2d(in_channels, out_channels, kernel_size=3, stride=stride, padding=1, bias=False)\n",
    "        self.bn1 = nn.BatchNorm2d(out_channels)\n",
    "        self.conv2 = nn.Conv2d(out_channels, out_channels, kernel_size=3, stride=1, padding=1, bias=False)\n",
    "        self.bn2 = nn.BatchNorm2d(out_channels)\n",
    "        self.shortcut = nn.Sequential()\n",
    "        if stride != 1 or in_channels != out_channels:\n",
    "            self.shortcut = nn.Sequential(\n",
    "                nn.Conv2d(in_channels, out_channels, kernel_size=1, stride=stride, bias=False),\n",
    "                nn.BatchNorm2d(out_channels)\n",
    "            )\n",
    "    def forward(self, x):\n",
    "        identity=self.shortcut(x)\n",
    "        out = self.conv1(x)\n",
    "        out = self.bn1(out)\n",
    "        out=nn.ReLU()(out)\n",
    "        out = self.conv2(out)\n",
    "        out = self.bn2(out)\n",
    "        out+=identity\n",
    "        out=nn.ReLU()(out)\n",
    "        return out"
   ],
   "outputs": [],
   "execution_count": 1
  },
  {
   "metadata": {},
   "cell_type": "markdown",
   "source": "# Construcción de la Red Resnet 18",
   "id": "e5414e151ca67ec0"
  },
  {
   "metadata": {
    "ExecuteTime": {
     "end_time": "2025-04-30T00:54:43.010312Z",
     "start_time": "2025-04-30T00:54:43.004411Z"
    }
   },
   "cell_type": "code",
   "source": [
    "class ResNet18(nn.Module):\n",
    "    def __init__(self, num_classes=10):\n",
    "        super(ResNet18, self).__init__()\n",
    "        self.conv1 = nn.Conv2d(3, 64, kernel_size=3, stride=1, padding=1, bias=False)\n",
    "        self.bn1 = nn.BatchNorm2d(64)\n",
    "        self.relu = nn.ReLU(inplace=True)\n",
    "\n",
    "        self.layer1 = self._make_layer(64, 64, 2, stride=1)\n",
    "        self.layer2 = self._make_layer(64, 128, 2, stride=2)\n",
    "        self.layer3 = self._make_layer(128, 256, 2, stride=2)\n",
    "        self.layer4 = self._make_layer(256, 512, 2, stride=2)\n",
    "        self.avg_pool=nn.AdaptiveAvgPool2d((1,1))\n",
    "        self.fc=nn.Linear(512, num_classes)\n",
    "\n",
    "    def _make_layer(self, in_channels, out_channels, blocks,stride):\n",
    "        layers=[]\n",
    "        layers.append(BasicBlock(in_channels, out_channels, stride))\n",
    "        for _ in range(1, blocks):\n",
    "            layers.append(BasicBlock(out_channels, out_channels))\n",
    "        return nn.Sequential(*layers)\n",
    "    def forward(self, x):\n",
    "        x=self.conv1(x)\n",
    "        x=self.bn1(x)\n",
    "        x=self.relu(x)\n",
    "        x=self.layer1(x)\n",
    "        x=self.layer2(x)\n",
    "        x=self.layer3(x)\n",
    "        x=self.layer4(x)\n",
    "        x=self.avg_pool(x)\n",
    "        x=torch.flatten(x, 1)\n",
    "        x=self.fc(x)\n",
    "        return x"
   ],
   "id": "e20f37cd278bc406",
   "outputs": [],
   "execution_count": 2
  },
  {
   "metadata": {},
   "cell_type": "markdown",
   "source": "# Carga de datos cifar-10",
   "id": "e138fb761b8bfb30"
  },
  {
   "metadata": {
    "ExecuteTime": {
     "end_time": "2025-04-30T00:54:43.338626Z",
     "start_time": "2025-04-30T00:54:43.316598Z"
    }
   },
   "cell_type": "code",
   "source": [
    "device=torch.device('cuda' if torch.cuda.is_available() else 'cpu')\n",
    "print(f\"Usando dispositivo: {device}\")"
   ],
   "id": "46870d88c59cf527",
   "outputs": [
    {
     "name": "stdout",
     "output_type": "stream",
     "text": [
      "Usando dispositivo: cuda\n"
     ]
    }
   ],
   "execution_count": 3
  },
  {
   "metadata": {
    "ExecuteTime": {
     "end_time": "2025-04-30T00:56:18.754101Z",
     "start_time": "2025-04-30T00:55:07.157705Z"
    }
   },
   "cell_type": "code",
   "source": [
    "import torchvision.transforms as transforms\n",
    "import  torchvision\n",
    "transform_train=transforms.Compose([\n",
    "    transforms.RandomCrop(32, padding=4),\n",
    "    transforms.RandomHorizontalFlip(),\n",
    "    transforms.ToTensor(),\n",
    "    transforms.Normalize((0.4914, 0.4822, 0.4465),(0.2470, 0.2435, 0.2616)),\n",
    "])\n",
    "transform_test = transforms.Compose([\n",
    "    transforms.ToTensor(),\n",
    "    transforms.Normalize((0.4914, 0.4822, 0.4465),(0.2470, 0.2435, 0.2616)),\n",
    "])\n",
    "\n",
    "batch_size=128\n",
    "trainset=torchvision.datasets.CIFAR10(root='./data', train=True, download=True, transform=transform_train)\n",
    "trainloader=torch.utils.data.DataLoader(trainset, batch_size=batch_size, shuffle=True, num_workers=2)\n",
    "testset=torchvision.datasets.CIFAR10(root='./data', train=False, download=True, transform=transform_test)\n",
    "testloader=torch.utils.data.DataLoader(testset, batch_size=batch_size, shuffle=False, num_workers=2)\n",
    "#definir de cifar-10\n",
    "classes = ('avión', 'automóvil', 'pájaro', 'gato', 'ciervo', 'perro', 'rana', 'caballo', 'barco', 'camión')\n"
   ],
   "id": "eae04bf7eefeda31",
   "outputs": [
    {
     "name": "stderr",
     "output_type": "stream",
     "text": [
      "100.0%\n"
     ]
    }
   ],
   "execution_count": 4
  },
  {
   "metadata": {},
   "cell_type": "markdown",
   "source": "# Cargar el modelo Resnett 18",
   "id": "6e2371e36a1e9434"
  },
  {
   "metadata": {
    "ExecuteTime": {
     "end_time": "2025-04-30T01:01:28.666477Z",
     "start_time": "2025-04-30T01:01:28.464419Z"
    }
   },
   "cell_type": "code",
   "source": [
    "model = ResNet18(num_classes=10).to(device)\n",
    "criterion = nn.CrossEntropyLoss()\n",
    "optimizer = torch.optim.Adam(model.parameters(), lr=0.001)\n",
    "scheduler = torch.optim.lr_scheduler.StepLR(optimizer, step_size=10, gamma=0.1)"
   ],
   "id": "55a41ff0bfb96322",
   "outputs": [],
   "execution_count": 5
  },
  {
   "metadata": {},
   "cell_type": "markdown",
   "source": "# Entrenamiento del modelo",
   "id": "15500ddf5cab0421"
  },
  {
   "metadata": {
    "ExecuteTime": {
     "end_time": "2025-04-30T01:12:54.914711Z",
     "start_time": "2025-04-30T01:01:45.782154Z"
    }
   },
   "cell_type": "code",
   "source": [
    "num_epochs=20\n",
    "for epoch in range(num_epochs):\n",
    "    model.train()\n",
    "    running_loss = 0.0\n",
    "    correct=0\n",
    "    total=0\n",
    "\n",
    "    for images, labels in trainloader:\n",
    "        images, labels=images.to(device), labels.to(device)\n",
    "\n",
    "        optimizer.zero_grad()\n",
    "        outputs=model(images)\n",
    "        loss=criterion(outputs, labels)\n",
    "        loss.backward()\n",
    "        optimizer.step()\n",
    "        running_loss+=loss.item()\n",
    "        _, predicted = torch.max(outputs.data, 1)\n",
    "        total+=labels.size(0)\n",
    "        correct+=(predicted== labels).sum().item()\n",
    "    scheduler.step()\n",
    "    epoch_loss = running_loss/len(trainloader)\n",
    "    epoch_acc=100*correct/total\n",
    "    print(f\"Época [{epoch+1}/{num_epochs}, Pérdida: {epoch_loss:.4f}, Precisión: {epoch_acc:.2f}]\")\n",
    "\n"
   ],
   "id": "ab1e3912a51b5d41",
   "outputs": [
    {
     "name": "stdout",
     "output_type": "stream",
     "text": [
      "Época [1/20, Pérdida: 1.4845, Precisión: 45.25]\n",
      "Época [2/20, Pérdida: 0.9990, Precisión: 64.26]\n",
      "Época [3/20, Pérdida: 0.7970, Precisión: 71.98]\n",
      "Época [4/20, Pérdida: 0.6637, Precisión: 77.11]\n",
      "Época [5/20, Pérdida: 0.5662, Precisión: 80.24]\n",
      "Época [6/20, Pérdida: 0.4966, Precisión: 82.75]\n",
      "Época [7/20, Pérdida: 0.4426, Precisión: 84.64]\n",
      "Época [8/20, Pérdida: 0.4046, Precisión: 86.06]\n",
      "Época [9/20, Pérdida: 0.3701, Precisión: 87.05]\n",
      "Época [10/20, Pérdida: 0.3370, Precisión: 88.38]\n",
      "Época [11/20, Pérdida: 0.2290, Precisión: 92.13]\n",
      "Época [12/20, Pérdida: 0.1985, Precisión: 93.14]\n",
      "Época [13/20, Pérdida: 0.1889, Precisión: 93.54]\n",
      "Época [14/20, Pérdida: 0.1736, Precisión: 94.10]\n",
      "Época [15/20, Pérdida: 0.1657, Precisión: 94.26]\n",
      "Época [16/20, Pérdida: 0.1577, Precisión: 94.49]\n",
      "Época [17/20, Pérdida: 0.1500, Precisión: 94.75]\n",
      "Época [18/20, Pérdida: 0.1436, Precisión: 95.07]\n",
      "Época [19/20, Pérdida: 0.1339, Precisión: 95.35]\n",
      "Época [20/20, Pérdida: 0.1280, Precisión: 95.50]\n"
     ]
    }
   ],
   "execution_count": 6
  },
  {
   "metadata": {},
   "cell_type": "markdown",
   "source": "#Evaluación del modelo en datos de prueba",
   "id": "dd6b552481f4d3d9"
  },
  {
   "metadata": {
    "ExecuteTime": {
     "end_time": "2025-04-30T01:13:57.634701Z",
     "start_time": "2025-04-30T01:13:48.029714Z"
    }
   },
   "cell_type": "code",
   "source": [
    "model.eval()\n",
    "correct=0\n",
    "total=0\n",
    "with torch.no_grad():\n",
    "    for images, labels in testloader:\n",
    "        images, labels=images.to(device), labels.to(device)\n",
    "        outputs=model(images)\n",
    "        _, predicted = torch.max(outputs.data, 1)\n",
    "        total+=labels.size(0)\n",
    "        correct+=predicted.eq(labels).sum().item()\n",
    "accuracy=100*correct/total\n",
    "print(f\"Precisión en el conjunto de pruebas: {accuracy:.2f}%\")"
   ],
   "id": "818d4a29eddfa255",
   "outputs": [
    {
     "name": "stdout",
     "output_type": "stream",
     "text": [
      "Precisión en el conjunto de pruebas: 90.87%\n"
     ]
    }
   ],
   "execution_count": 7
  },
  {
   "metadata": {},
   "cell_type": "markdown",
   "source": "# Salvamos el modelo",
   "id": "f8dba2fb95195788"
  },
  {
   "metadata": {
    "ExecuteTime": {
     "end_time": "2025-04-30T01:21:12.979775Z",
     "start_time": "2025-04-30T01:21:12.909893Z"
    }
   },
   "cell_type": "code",
   "source": [
    "save_path = \"resnet18_cifar10.pth\"\n",
    "torch.save(model.state_dict(), save_path)\n",
    "print(f\"Modelo guardado en '{save_path}'\")"
   ],
   "id": "63890d400e055b44",
   "outputs": [
    {
     "name": "stdout",
     "output_type": "stream",
     "text": [
      "✅ Modelo guardado en 'resnet18_cifar10.pth'\n"
     ]
    }
   ],
   "execution_count": 8
  },
  {
   "metadata": {},
   "cell_type": "markdown",
   "source": "# Mostramos un test",
   "id": "b94e5fcc324e264c"
  },
  {
   "metadata": {
    "ExecuteTime": {
     "end_time": "2025-04-30T01:27:15.026848Z",
     "start_time": "2025-04-30T01:27:07.330256Z"
    }
   },
   "cell_type": "code",
   "source": [
    "import matplotlib.pyplot as plt\n",
    "import numpy as np\n",
    "\n",
    "model = ResNet18(num_classes=10)\n",
    "model.load_state_dict(torch.load(\"resnet18_cifar10.pth\", map_location=device))\n",
    "model = model.to(device)\n",
    "model.eval()\n",
    "\n",
    "dataiter = iter(testloader)\n",
    "images, labels = next(dataiter)\n",
    "\n",
    "img = images[0].unsqueeze(0).to(device) #[1,3,32,32]\n",
    "true_label = labels[0].item()\n",
    "\n",
    "with torch.no_grad():\n",
    "    output = model(img)\n",
    "    _, predicted = torch.max(output, 1)\n",
    "    pred_label = predicted.item()\n",
    "\n",
    "\n",
    "mean = np.array([0.4914, 0.4822, 0.4465])\n",
    "std = np.array([0.2470, 0.2435, 0.2616])\n",
    "img_np = images[0].permute(1, 2, 0).cpu().numpy() #[3,32,32]\n",
    "img_np = std * img_np + mean\n",
    "img_np = np.clip(img_np, 0, 1)\n",
    "\n",
    "plt.figure(figsize=(4, 4))\n",
    "plt.imshow(img_np) #[32,32,3]\n",
    "plt.title(f\"Predicho: {classes[pred_label]}  |  Real: {classes[true_label]}\")\n",
    "plt.axis(\"off\")\n",
    "plt.show()"
   ],
   "id": "2b02d961802beea8",
   "outputs": [
    {
     "data": {
      "text/plain": [
       "<Figure size 400x400 with 1 Axes>"
      ],
      "image/png": "[encoded data removed]"
     },
     "metadata": {},
     "output_type": "display_data"
    }
   ],
   "execution_count": 13
  }
 ],
 "metadata": {
  "kernelspec": {
   "display_name": "Python 3",
   "language": "python",
   "name": "python3"
  },
  "language_info": {
   "codemirror_mode": {
    "name": "ipython",
    "version": 2
   },
   "file_extension": ".py",
   "mimetype": "text/x-python",
   "name": "python",
   "nbconvert_exporter": "python",
   "pygments_lexer": "ipython2",
   "version": "2.7.6"
  }
 },
 "nbformat": 4,
 "nbformat_minor": 5
}
