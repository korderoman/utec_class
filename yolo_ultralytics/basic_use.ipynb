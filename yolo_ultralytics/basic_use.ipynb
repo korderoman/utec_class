{
 "cells": [
  {
   "cell_type": "code",
   "id": "initial_id",
   "metadata": {
    "collapsed": true,
    "ExecuteTime": {
     "end_time": "2025-05-14T01:20:44.291724Z",
     "start_time": "2025-05-14T01:20:42.366566Z"
    }
   },
   "source": "from ultralytics import YOLO",
   "outputs": [],
   "execution_count": 2
  },
  {
   "metadata": {
    "ExecuteTime": {
     "end_time": "2025-05-14T01:20:45.438451Z",
     "start_time": "2025-05-14T01:20:44.949650Z"
    }
   },
   "cell_type": "code",
   "source": "model=YOLO(\"yolo11n.pt\")",
   "id": "c9f37ad9948b6b7",
   "outputs": [],
   "execution_count": 3
  },
  {
   "metadata": {
    "ExecuteTime": {
     "end_time": "2025-05-14T01:25:44.738585Z",
     "start_time": "2025-05-14T01:20:47.646828Z"
    }
   },
   "cell_type": "code",
   "source": "results=model.train(data=\"coco8.yaml\", epochs=100, imgsz=640)",
   "id": "5d53114907a23c01",
   "outputs": [
    {
     "name": "stdout",
     "output_type": "stream",
     "text": [
      "Ultralytics 8.3.133  Python-3.13.1 torch-2.7.0+cpu CPU (Intel Core(TM) i7-9700KF 3.60GHz)\n",
      "\u001B[34m\u001B[1mengine\\trainer: \u001B[0magnostic_nms=False, amp=True, augment=False, auto_augment=randaugment, batch=16, bgr=0.0, box=7.5, cache=False, cfg=None, classes=None, close_mosaic=10, cls=0.5, conf=None, copy_paste=0.0, copy_paste_mode=flip, cos_lr=False, cutmix=0.0, data=coco8.yaml, degrees=0.0, deterministic=True, device=cpu, dfl=1.5, dnn=False, dropout=0.0, dynamic=False, embed=None, epochs=100, erasing=0.4, exist_ok=False, fliplr=0.5, flipud=0.0, format=torchscript, fraction=1.0, freeze=None, half=False, hsv_h=0.015, hsv_s=0.7, hsv_v=0.4, imgsz=640, int8=False, iou=0.7, keras=False, kobj=1.0, line_width=None, lr0=0.01, lrf=0.01, mask_ratio=4, max_det=300, mixup=0.0, mode=train, model=yolo11n.pt, momentum=0.937, mosaic=1.0, multi_scale=False, name=train8, nbs=64, nms=False, opset=None, optimize=False, optimizer=auto, overlap_mask=True, patience=100, perspective=0.0, plots=True, pose=12.0, pretrained=True, profile=False, project=None, rect=False, resume=False, retina_masks=False, save=True, save_conf=False, save_crop=False, save_dir=D:\\programacion\\proyectos\\utec\\IA\\runs\\detect\\train8, save_frames=False, save_json=False, save_period=-1, save_txt=False, scale=0.5, seed=0, shear=0.0, show=False, show_boxes=True, show_conf=True, show_labels=True, simplify=True, single_cls=False, source=None, split=val, stream_buffer=False, task=detect, time=None, tracker=botsort.yaml, translate=0.1, val=True, verbose=True, vid_stride=1, visualize=False, warmup_bias_lr=0.1, warmup_epochs=3.0, warmup_momentum=0.8, weight_decay=0.0005, workers=8, workspace=None\n",
      "\n",
      "                   from  n    params  module                                       arguments                     \n",
      "  0                  -1  1       464  ultralytics.nn.modules.conv.Conv             [3, 16, 3, 2]                 \n",
      "  1                  -1  1      4672  ultralytics.nn.modules.conv.Conv             [16, 32, 3, 2]                \n",
      "  2                  -1  1      6640  ultralytics.nn.modules.block.C3k2            [32, 64, 1, False, 0.25]      \n",
      "  3                  -1  1     36992  ultralytics.nn.modules.conv.Conv             [64, 64, 3, 2]                \n",
      "  4                  -1  1     26080  ultralytics.nn.modules.block.C3k2            [64, 128, 1, False, 0.25]     \n",
      "  5                  -1  1    147712  ultralytics.nn.modules.conv.Conv             [128, 128, 3, 2]              \n",
      "  6                  -1  1     87040  ultralytics.nn.modules.block.C3k2            [128, 128, 1, True]           \n",
      "  7                  -1  1    295424  ultralytics.nn.modules.conv.Conv             [128, 256, 3, 2]              \n",
      "  8                  -1  1    346112  ultralytics.nn.modules.block.C3k2            [256, 256, 1, True]           \n",
      "  9                  -1  1    164608  ultralytics.nn.modules.block.SPPF            [256, 256, 5]                 \n",
      " 10                  -1  1    249728  ultralytics.nn.modules.block.C2PSA           [256, 256, 1]                 \n",
      " 11                  -1  1         0  torch.nn.modules.upsampling.Upsample         [None, 2, 'nearest']          \n",
      " 12             [-1, 6]  1         0  ultralytics.nn.modules.conv.Concat           [1]                           \n",
      " 13                  -1  1    111296  ultralytics.nn.modules.block.C3k2            [384, 128, 1, False]          \n",
      " 14                  -1  1         0  torch.nn.modules.upsampling.Upsample         [None, 2, 'nearest']          \n",
      " 15             [-1, 4]  1         0  ultralytics.nn.modules.conv.Concat           [1]                           \n",
      " 16                  -1  1     32096  ultralytics.nn.modules.block.C3k2            [256, 64, 1, False]           \n",
      " 17                  -1  1     36992  ultralytics.nn.modules.conv.Conv             [64, 64, 3, 2]                \n",
      " 18            [-1, 13]  1         0  ultralytics.nn.modules.conv.Concat           [1]                           \n",
      " 19                  -1  1     86720  ultralytics.nn.modules.block.C3k2            [192, 128, 1, False]          \n",
      " 20                  -1  1    147712  ultralytics.nn.modules.conv.Conv             [128, 128, 3, 2]              \n",
      " 21            [-1, 10]  1         0  ultralytics.nn.modules.conv.Concat           [1]                           \n",
      " 22                  -1  1    378880  ultralytics.nn.modules.block.C3k2            [384, 256, 1, True]           \n",
      " 23        [16, 19, 22]  1    464912  ultralytics.nn.modules.head.Detect           [80, [64, 128, 256]]          \n",
      "YOLO11n summary: 181 layers, 2,624,080 parameters, 2,624,064 gradients, 6.6 GFLOPs\n",
      "\n",
      "Transferred 499/499 items from pretrained weights\n",
      "Freezing layer 'model.23.dfl.conv.weight'\n",
      "\u001B[34m\u001B[1mtrain: \u001B[0mFast image access  (ping: 0.10.0 ms, read: 328.996.2 MB/s, size: 50.0 KB)\n"
     ]
    },
    {
     "name": "stderr",
     "output_type": "stream",
     "text": [
      "\u001B[34m\u001B[1mtrain: \u001B[0mScanning D:\\programacion\\proyectos\\utec\\datasets\\coco8\\labels\\train.cache... 4 images, 0 backgrounds, 0 corrupt: 100%|██████████| 4/4 [00:00<?, ?it/s]"
     ]
    },
    {
     "name": "stdout",
     "output_type": "stream",
     "text": [
      "\u001B[34m\u001B[1mval: \u001B[0mFast image access  (ping: 0.00.0 ms, read: 413.3169.5 MB/s, size: 54.0 KB)\n"
     ]
    },
    {
     "name": "stderr",
     "output_type": "stream",
     "text": [
      "\n",
      "D:\\programacion\\proyectos\\utec\\IA\\modulo_2_only_yolo\\.venv\\Lib\\site-packages\\torch\\utils\\data\\dataloader.py:665: UserWarning: 'pin_memory' argument is set as true but no accelerator is found, then device pinned memory won't be used.\n",
      "  warnings.warn(warn_msg)\n",
      "\u001B[34m\u001B[1mval: \u001B[0mScanning D:\\programacion\\proyectos\\utec\\datasets\\coco8\\labels\\val.cache... 4 images, 0 backgrounds, 0 corrupt: 100%|██████████| 4/4 [00:00<?, ?it/s]\n",
      "D:\\programacion\\proyectos\\utec\\IA\\modulo_2_only_yolo\\.venv\\Lib\\site-packages\\torch\\utils\\data\\dataloader.py:665: UserWarning: 'pin_memory' argument is set as true but no accelerator is found, then device pinned memory won't be used.\n",
      "  warnings.warn(warn_msg)\n"
     ]
    },
    {
     "name": "stdout",
     "output_type": "stream",
     "text": [
      "Plotting labels to D:\\programacion\\proyectos\\utec\\IA\\runs\\detect\\train8\\labels.jpg... \n",
      "\u001B[34m\u001B[1moptimizer:\u001B[0m 'optimizer=auto' found, ignoring 'lr0=0.01' and 'momentum=0.937' and determining best 'optimizer', 'lr0' and 'momentum' automatically... \n",
      "\u001B[34m\u001B[1moptimizer:\u001B[0m AdamW(lr=0.000119, momentum=0.9) with parameter groups 81 weight(decay=0.0), 88 weight(decay=0.0005), 87 bias(decay=0.0)\n",
      "Image sizes 640 train, 640 val\n",
      "Using 0 dataloader workers\n",
      "Logging results to \u001B[1mD:\\programacion\\proyectos\\utec\\IA\\runs\\detect\\train8\u001B[0m\n",
      "Starting training for 100 epochs...\n",
      "\n",
      "      Epoch    GPU_mem   box_loss   cls_loss   dfl_loss  Instances       Size\n"
     ]
    },
    {
     "name": "stderr",
     "output_type": "stream",
     "text": [
      "      1/100         0G      1.063      3.437      1.224         24        640: 100%|██████████| 1/1 [00:01<00:00,  1.86s/it]\n",
      "                 Class     Images  Instances      Box(P          R      mAP50  mAP50-95): 100%|██████████| 1/1 [00:00<00:00,  1.06it/s]"
     ]
    },
    {
     "name": "stdout",
     "output_type": "stream",
     "text": [
      "                   all          4         17      0.575       0.85      0.877      0.635\n"
     ]
    },
    {
     "name": "stderr",
     "output_type": "stream",
     "text": [
      "\n"
     ]
    },
    {
     "name": "stdout",
     "output_type": "stream",
     "text": [
      "\n",
      "      Epoch    GPU_mem   box_loss   cls_loss   dfl_loss  Instances       Size\n"
     ]
    },
    {
     "name": "stderr",
     "output_type": "stream",
     "text": [
      "      2/100         0G      1.523      2.506      1.728         28        640: 100%|██████████| 1/1 [00:01<00:00,  1.84s/it]\n",
      "                 Class     Images  Instances      Box(P          R      mAP50  mAP50-95): 100%|██████████| 1/1 [00:00<00:00,  1.44it/s]"
     ]
    },
    {
     "name": "stdout",
     "output_type": "stream",
     "text": [
      "                   all          4         17      0.582       0.85      0.847      0.633\n"
     ]
    },
    {
     "name": "stderr",
     "output_type": "stream",
     "text": [
      "\n"
     ]
    },
    {
     "name": "stdout",
     "output_type": "stream",
     "text": [
      "\n",
      "      Epoch    GPU_mem   box_loss   cls_loss   dfl_loss  Instances       Size\n"
     ]
    },
    {
     "name": "stderr",
     "output_type": "stream",
     "text": [
      "      3/100         0G      1.309      2.247       1.85         19        640: 100%|██████████| 1/1 [00:01<00:00,  1.93s/it]\n",
      "                 Class     Images  Instances      Box(P          R      mAP50  mAP50-95): 100%|██████████| 1/1 [00:00<00:00,  1.58it/s]"
     ]
    },
    {
     "name": "stdout",
     "output_type": "stream",
     "text": [
      "                   all          4         17      0.577       0.85      0.849      0.635\n"
     ]
    },
    {
     "name": "stderr",
     "output_type": "stream",
     "text": [
      "\n"
     ]
    },
    {
     "name": "stdout",
     "output_type": "stream",
     "text": [
      "\n",
      "      Epoch    GPU_mem   box_loss   cls_loss   dfl_loss  Instances       Size\n"
     ]
    },
    {
     "name": "stderr",
     "output_type": "stream",
     "text": [
      "      4/100         0G      1.724      2.984      1.891         21        640: 100%|██████████| 1/1 [00:01<00:00,  1.77s/it]\n",
      "                 Class     Images  Instances      Box(P          R      mAP50  mAP50-95): 100%|██████████| 1/1 [00:00<00:00,  1.59it/s]"
     ]
    },
    {
     "name": "stdout",
     "output_type": "stream",
     "text": [
      "                   all          4         17      0.576       0.85      0.851      0.636\n"
     ]
    },
    {
     "name": "stderr",
     "output_type": "stream",
     "text": [
      "\n"
     ]
    },
    {
     "name": "stdout",
     "output_type": "stream",
     "text": [
      "\n",
      "      Epoch    GPU_mem   box_loss   cls_loss   dfl_loss  Instances       Size\n"
     ]
    },
    {
     "name": "stderr",
     "output_type": "stream",
     "text": [
      "      5/100         0G      1.364      3.156      1.672         19        640: 100%|██████████| 1/1 [00:01<00:00,  1.83s/it]\n",
      "                 Class     Images  Instances      Box(P          R      mAP50  mAP50-95): 100%|██████████| 1/1 [00:00<00:00,  1.37it/s]"
     ]
    },
    {
     "name": "stdout",
     "output_type": "stream",
     "text": [
      "                   all          4         17      0.617      0.923      0.905      0.642\n"
     ]
    },
    {
     "name": "stderr",
     "output_type": "stream",
     "text": [
      "\n"
     ]
    },
    {
     "name": "stdout",
     "output_type": "stream",
     "text": [
      "\n",
      "      Epoch    GPU_mem   box_loss   cls_loss   dfl_loss  Instances       Size\n"
     ]
    },
    {
     "name": "stderr",
     "output_type": "stream",
     "text": [
      "      6/100         0G      1.536      4.119       1.92         21        640: 100%|██████████| 1/1 [00:01<00:00,  1.68s/it]\n",
      "                 Class     Images  Instances      Box(P          R      mAP50  mAP50-95): 100%|██████████| 1/1 [00:00<00:00,  1.46it/s]"
     ]
    },
    {
     "name": "stdout",
     "output_type": "stream",
     "text": [
      "                   all          4         17      0.558       0.85      0.856      0.637\n"
     ]
    },
    {
     "name": "stderr",
     "output_type": "stream",
     "text": [
      "\n"
     ]
    },
    {
     "name": "stdout",
     "output_type": "stream",
     "text": [
      "\n",
      "      Epoch    GPU_mem   box_loss   cls_loss   dfl_loss  Instances       Size\n"
     ]
    },
    {
     "name": "stderr",
     "output_type": "stream",
     "text": [
      "      7/100         0G      1.116      1.919      1.313         28        640: 100%|██████████| 1/1 [00:02<00:00,  2.11s/it]\n",
      "                 Class     Images  Instances      Box(P          R      mAP50  mAP50-95): 100%|██████████| 1/1 [00:00<00:00,  1.68it/s]"
     ]
    },
    {
     "name": "stdout",
     "output_type": "stream",
     "text": [
      "                   all          4         17       0.57       0.85      0.858       0.63\n"
     ]
    },
    {
     "name": "stderr",
     "output_type": "stream",
     "text": [
      "\n"
     ]
    },
    {
     "name": "stdout",
     "output_type": "stream",
     "text": [
      "\n",
      "      Epoch    GPU_mem   box_loss   cls_loss   dfl_loss  Instances       Size\n"
     ]
    },
    {
     "name": "stderr",
     "output_type": "stream",
     "text": [
      "      8/100         0G     0.9697      2.981      1.341         31        640: 100%|██████████| 1/1 [00:01<00:00,  1.66s/it]\n",
      "                 Class     Images  Instances      Box(P          R      mAP50  mAP50-95): 100%|██████████| 1/1 [00:00<00:00,  1.46it/s]"
     ]
    },
    {
     "name": "stdout",
     "output_type": "stream",
     "text": [
      "                   all          4         17       0.56       0.85      0.859      0.631\n"
     ]
    },
    {
     "name": "stderr",
     "output_type": "stream",
     "text": [
      "\n"
     ]
    },
    {
     "name": "stdout",
     "output_type": "stream",
     "text": [
      "\n",
      "      Epoch    GPU_mem   box_loss   cls_loss   dfl_loss  Instances       Size\n"
     ]
    },
    {
     "name": "stderr",
     "output_type": "stream",
     "text": [
      "      9/100         0G      1.129       2.38        1.4         33        640: 100%|██████████| 1/1 [00:01<00:00,  1.67s/it]\n",
      "                 Class     Images  Instances      Box(P          R      mAP50  mAP50-95): 100%|██████████| 1/1 [00:00<00:00,  1.61it/s]"
     ]
    },
    {
     "name": "stdout",
     "output_type": "stream",
     "text": [
      "                   all          4         17       0.57      0.866       0.86       0.63\n"
     ]
    },
    {
     "name": "stderr",
     "output_type": "stream",
     "text": [
      "\n"
     ]
    },
    {
     "name": "stdout",
     "output_type": "stream",
     "text": [
      "\n",
      "      Epoch    GPU_mem   box_loss   cls_loss   dfl_loss  Instances       Size\n"
     ]
    },
    {
     "name": "stderr",
     "output_type": "stream",
     "text": [
      "     10/100         0G      1.169      2.388      1.617         25        640: 100%|██████████| 1/1 [00:02<00:00,  2.14s/it]\n",
      "                 Class     Images  Instances      Box(P          R      mAP50  mAP50-95): 100%|██████████| 1/1 [00:00<00:00,  1.41it/s]"
     ]
    },
    {
     "name": "stdout",
     "output_type": "stream",
     "text": [
      "                   all          4         17      0.574      0.867      0.896      0.634\n"
     ]
    },
    {
     "name": "stderr",
     "output_type": "stream",
     "text": [
      "\n"
     ]
    },
    {
     "name": "stdout",
     "output_type": "stream",
     "text": [
      "\n",
      "      Epoch    GPU_mem   box_loss   cls_loss   dfl_loss  Instances       Size\n"
     ]
    },
    {
     "name": "stderr",
     "output_type": "stream",
     "text": [
      "     11/100         0G      1.117      1.927      1.348         40        640: 100%|██████████| 1/1 [00:02<00:00,  2.10s/it]\n",
      "                 Class     Images  Instances      Box(P          R      mAP50  mAP50-95): 100%|██████████| 1/1 [00:00<00:00,  1.65it/s]"
     ]
    },
    {
     "name": "stdout",
     "output_type": "stream",
     "text": [
      "                   all          4         17      0.548      0.867      0.895      0.642\n"
     ]
    },
    {
     "name": "stderr",
     "output_type": "stream",
     "text": [
      "\n"
     ]
    },
    {
     "name": "stdout",
     "output_type": "stream",
     "text": [
      "\n",
      "      Epoch    GPU_mem   box_loss   cls_loss   dfl_loss  Instances       Size\n"
     ]
    },
    {
     "name": "stderr",
     "output_type": "stream",
     "text": [
      "     12/100         0G      0.962      1.939      1.319         30        640: 100%|██████████| 1/1 [00:01<00:00,  1.90s/it]\n",
      "                 Class     Images  Instances      Box(P          R      mAP50  mAP50-95): 100%|██████████| 1/1 [00:00<00:00,  1.42it/s]"
     ]
    },
    {
     "name": "stdout",
     "output_type": "stream",
     "text": [
      "                   all          4         17      0.577      0.867      0.854      0.637\n"
     ]
    },
    {
     "name": "stderr",
     "output_type": "stream",
     "text": [
      "\n"
     ]
    },
    {
     "name": "stdout",
     "output_type": "stream",
     "text": [
      "\n",
      "      Epoch    GPU_mem   box_loss   cls_loss   dfl_loss  Instances       Size\n"
     ]
    },
    {
     "name": "stderr",
     "output_type": "stream",
     "text": [
      "     13/100         0G      1.036      3.105      1.398         46        640: 100%|██████████| 1/1 [00:01<00:00,  1.72s/it]\n",
      "                 Class     Images  Instances      Box(P          R      mAP50  mAP50-95): 100%|██████████| 1/1 [00:00<00:00,  1.61it/s]"
     ]
    },
    {
     "name": "stdout",
     "output_type": "stream",
     "text": [
      "                   all          4         17      0.635      0.941      0.913      0.652\n"
     ]
    },
    {
     "name": "stderr",
     "output_type": "stream",
     "text": [
      "\n"
     ]
    },
    {
     "name": "stdout",
     "output_type": "stream",
     "text": [
      "\n",
      "      Epoch    GPU_mem   box_loss   cls_loss   dfl_loss  Instances       Size\n"
     ]
    },
    {
     "name": "stderr",
     "output_type": "stream",
     "text": [
      "     14/100         0G       1.02      2.579      1.433         27        640: 100%|██████████| 1/1 [00:02<00:00,  2.02s/it]\n",
      "                 Class     Images  Instances      Box(P          R      mAP50  mAP50-95): 100%|██████████| 1/1 [00:00<00:00,  1.81it/s]"
     ]
    },
    {
     "name": "stdout",
     "output_type": "stream",
     "text": [
      "                   all          4         17      0.652       0.94      0.914      0.653\n"
     ]
    },
    {
     "name": "stderr",
     "output_type": "stream",
     "text": [
      "\n"
     ]
    },
    {
     "name": "stdout",
     "output_type": "stream",
     "text": [
      "\n",
      "      Epoch    GPU_mem   box_loss   cls_loss   dfl_loss  Instances       Size\n"
     ]
    },
    {
     "name": "stderr",
     "output_type": "stream",
     "text": [
      "     15/100         0G      1.207      2.339       1.39         12        640: 100%|██████████| 1/1 [00:01<00:00,  1.67s/it]\n",
      "                 Class     Images  Instances      Box(P          R      mAP50  mAP50-95): 100%|██████████| 1/1 [00:00<00:00,  1.73it/s]"
     ]
    },
    {
     "name": "stdout",
     "output_type": "stream",
     "text": [
      "                   all          4         17      0.636      0.939      0.912      0.647\n"
     ]
    },
    {
     "name": "stderr",
     "output_type": "stream",
     "text": [
      "\n"
     ]
    },
    {
     "name": "stdout",
     "output_type": "stream",
     "text": [
      "\n",
      "      Epoch    GPU_mem   box_loss   cls_loss   dfl_loss  Instances       Size\n"
     ]
    },
    {
     "name": "stderr",
     "output_type": "stream",
     "text": [
      "     16/100         0G      1.086      1.873      1.386         31        640: 100%|██████████| 1/1 [00:01<00:00,  1.60s/it]\n",
      "                 Class     Images  Instances      Box(P          R      mAP50  mAP50-95): 100%|██████████| 1/1 [00:00<00:00,  1.58it/s]"
     ]
    },
    {
     "name": "stdout",
     "output_type": "stream",
     "text": [
      "                   all          4         17      0.647      0.938      0.914      0.647\n"
     ]
    },
    {
     "name": "stderr",
     "output_type": "stream",
     "text": [
      "\n"
     ]
    },
    {
     "name": "stdout",
     "output_type": "stream",
     "text": [
      "\n",
      "      Epoch    GPU_mem   box_loss   cls_loss   dfl_loss  Instances       Size\n"
     ]
    },
    {
     "name": "stderr",
     "output_type": "stream",
     "text": [
      "     17/100         0G     0.8984      1.567      1.217         39        640: 100%|██████████| 1/1 [00:01<00:00,  1.85s/it]\n",
      "                 Class     Images  Instances      Box(P          R      mAP50  mAP50-95): 100%|██████████| 1/1 [00:00<00:00,  1.63it/s]"
     ]
    },
    {
     "name": "stdout",
     "output_type": "stream",
     "text": [
      "                   all          4         17      0.658      0.773      0.914      0.643\n"
     ]
    },
    {
     "name": "stderr",
     "output_type": "stream",
     "text": [
      "\n"
     ]
    },
    {
     "name": "stdout",
     "output_type": "stream",
     "text": [
      "\n",
      "      Epoch    GPU_mem   box_loss   cls_loss   dfl_loss  Instances       Size\n"
     ]
    },
    {
     "name": "stderr",
     "output_type": "stream",
     "text": [
      "     18/100         0G      0.992      1.777      1.381         32        640: 100%|██████████| 1/1 [00:02<00:00,  2.18s/it]\n",
      "                 Class     Images  Instances      Box(P          R      mAP50  mAP50-95): 100%|██████████| 1/1 [00:00<00:00,  1.43it/s]"
     ]
    },
    {
     "name": "stdout",
     "output_type": "stream",
     "text": [
      "                   all          4         17      0.658      0.773      0.914      0.643\n"
     ]
    },
    {
     "name": "stderr",
     "output_type": "stream",
     "text": [
      "\n"
     ]
    },
    {
     "name": "stdout",
     "output_type": "stream",
     "text": [
      "\n",
      "      Epoch    GPU_mem   box_loss   cls_loss   dfl_loss  Instances       Size\n"
     ]
    },
    {
     "name": "stderr",
     "output_type": "stream",
     "text": [
      "     19/100         0G      0.923      1.401      1.212         36        640: 100%|██████████| 1/1 [00:01<00:00,  1.66s/it]\n",
      "                 Class     Images  Instances      Box(P          R      mAP50  mAP50-95): 100%|██████████| 1/1 [00:00<00:00,  1.88it/s]"
     ]
    },
    {
     "name": "stdout",
     "output_type": "stream",
     "text": [
      "                   all          4         17      0.864      0.633      0.873      0.641\n"
     ]
    },
    {
     "name": "stderr",
     "output_type": "stream",
     "text": [
      "\n"
     ]
    },
    {
     "name": "stdout",
     "output_type": "stream",
     "text": [
      "\n",
      "      Epoch    GPU_mem   box_loss   cls_loss   dfl_loss  Instances       Size\n"
     ]
    },
    {
     "name": "stderr",
     "output_type": "stream",
     "text": [
      "     20/100         0G     0.7928      1.683      1.234         28        640: 100%|██████████| 1/1 [00:01<00:00,  1.80s/it]\n",
      "                 Class     Images  Instances      Box(P          R      mAP50  mAP50-95): 100%|██████████| 1/1 [00:00<00:00,  1.85it/s]"
     ]
    },
    {
     "name": "stdout",
     "output_type": "stream",
     "text": [
      "                   all          4         17      0.864      0.633      0.873      0.641\n"
     ]
    },
    {
     "name": "stderr",
     "output_type": "stream",
     "text": [
      "\n"
     ]
    },
    {
     "name": "stdout",
     "output_type": "stream",
     "text": [
      "\n",
      "      Epoch    GPU_mem   box_loss   cls_loss   dfl_loss  Instances       Size\n"
     ]
    },
    {
     "name": "stderr",
     "output_type": "stream",
     "text": [
      "     21/100         0G     0.8763      1.883      1.311         28        640: 100%|██████████| 1/1 [00:02<00:00,  2.12s/it]\n",
      "                 Class     Images  Instances      Box(P          R      mAP50  mAP50-95): 100%|██████████| 1/1 [00:01<00:00,  1.16s/it]"
     ]
    },
    {
     "name": "stdout",
     "output_type": "stream",
     "text": [
      "                   all          4         17      0.868      0.632      0.855       0.64\n"
     ]
    },
    {
     "name": "stderr",
     "output_type": "stream",
     "text": [
      "\n"
     ]
    },
    {
     "name": "stdout",
     "output_type": "stream",
     "text": [
      "\n",
      "      Epoch    GPU_mem   box_loss   cls_loss   dfl_loss  Instances       Size\n"
     ]
    },
    {
     "name": "stderr",
     "output_type": "stream",
     "text": [
      "     22/100         0G     0.8092      1.591      1.126         34        640: 100%|██████████| 1/1 [00:01<00:00,  1.72s/it]\n",
      "                 Class     Images  Instances      Box(P          R      mAP50  mAP50-95): 100%|██████████| 1/1 [00:00<00:00,  1.65it/s]"
     ]
    },
    {
     "name": "stdout",
     "output_type": "stream",
     "text": [
      "                   all          4         17      0.868      0.632      0.855       0.64\n"
     ]
    },
    {
     "name": "stderr",
     "output_type": "stream",
     "text": [
      "\n"
     ]
    },
    {
     "name": "stdout",
     "output_type": "stream",
     "text": [
      "\n",
      "      Epoch    GPU_mem   box_loss   cls_loss   dfl_loss  Instances       Size\n"
     ]
    },
    {
     "name": "stderr",
     "output_type": "stream",
     "text": [
      "     23/100         0G      1.097      2.234      1.377         38        640: 100%|██████████| 1/1 [00:01<00:00,  1.87s/it]\n",
      "                 Class     Images  Instances      Box(P          R      mAP50  mAP50-95): 100%|██████████| 1/1 [00:00<00:00,  1.51it/s]"
     ]
    },
    {
     "name": "stdout",
     "output_type": "stream",
     "text": [
      "                   all          4         17      0.867       0.65      0.881       0.64\n"
     ]
    },
    {
     "name": "stderr",
     "output_type": "stream",
     "text": [
      "\n"
     ]
    },
    {
     "name": "stdout",
     "output_type": "stream",
     "text": [
      "\n",
      "      Epoch    GPU_mem   box_loss   cls_loss   dfl_loss  Instances       Size\n"
     ]
    },
    {
     "name": "stderr",
     "output_type": "stream",
     "text": [
      "     24/100         0G      1.042      2.376      1.466         22        640: 100%|██████████| 1/1 [00:01<00:00,  1.52s/it]\n",
      "                 Class     Images  Instances      Box(P          R      mAP50  mAP50-95): 100%|██████████| 1/1 [00:00<00:00,  1.72it/s]"
     ]
    },
    {
     "name": "stdout",
     "output_type": "stream",
     "text": [
      "                   all          4         17      0.867       0.65      0.881       0.64\n"
     ]
    },
    {
     "name": "stderr",
     "output_type": "stream",
     "text": [
      "\n"
     ]
    },
    {
     "name": "stdout",
     "output_type": "stream",
     "text": [
      "\n",
      "      Epoch    GPU_mem   box_loss   cls_loss   dfl_loss  Instances       Size\n"
     ]
    },
    {
     "name": "stderr",
     "output_type": "stream",
     "text": [
      "     25/100         0G     0.7478      1.717      1.135         23        640: 100%|██████████| 1/1 [00:01<00:00,  1.66s/it]\n",
      "                 Class     Images  Instances      Box(P          R      mAP50  mAP50-95): 100%|██████████| 1/1 [00:00<00:00,  1.78it/s]"
     ]
    },
    {
     "name": "stdout",
     "output_type": "stream",
     "text": [
      "                   all          4         17      0.862       0.65      0.855      0.629\n"
     ]
    },
    {
     "name": "stderr",
     "output_type": "stream",
     "text": [
      "\n"
     ]
    },
    {
     "name": "stdout",
     "output_type": "stream",
     "text": [
      "\n",
      "      Epoch    GPU_mem   box_loss   cls_loss   dfl_loss  Instances       Size\n"
     ]
    },
    {
     "name": "stderr",
     "output_type": "stream",
     "text": [
      "     26/100         0G     0.8753      1.562       1.16         45        640: 100%|██████████| 1/1 [00:01<00:00,  1.56s/it]\n",
      "                 Class     Images  Instances      Box(P          R      mAP50  mAP50-95): 100%|██████████| 1/1 [00:00<00:00,  1.89it/s]"
     ]
    },
    {
     "name": "stdout",
     "output_type": "stream",
     "text": [
      "                   all          4         17      0.862       0.65      0.855      0.629\n"
     ]
    },
    {
     "name": "stderr",
     "output_type": "stream",
     "text": [
      "\n"
     ]
    },
    {
     "name": "stdout",
     "output_type": "stream",
     "text": [
      "\n",
      "      Epoch    GPU_mem   box_loss   cls_loss   dfl_loss  Instances       Size\n"
     ]
    },
    {
     "name": "stderr",
     "output_type": "stream",
     "text": [
      "     27/100         0G     0.9479      1.602      1.348         36        640: 100%|██████████| 1/1 [00:01<00:00,  1.95s/it]\n",
      "                 Class     Images  Instances      Box(P          R      mAP50  mAP50-95): 100%|██████████| 1/1 [00:01<00:00,  1.05s/it]"
     ]
    },
    {
     "name": "stdout",
     "output_type": "stream",
     "text": [
      "                   all          4         17      0.837       0.65      0.856      0.619\n"
     ]
    },
    {
     "name": "stderr",
     "output_type": "stream",
     "text": [
      "\n"
     ]
    },
    {
     "name": "stdout",
     "output_type": "stream",
     "text": [
      "\n",
      "      Epoch    GPU_mem   box_loss   cls_loss   dfl_loss  Instances       Size\n"
     ]
    },
    {
     "name": "stderr",
     "output_type": "stream",
     "text": [
      "     28/100         0G      1.099      1.638      1.498         22        640: 100%|██████████| 1/1 [00:03<00:00,  3.51s/it]\n",
      "                 Class     Images  Instances      Box(P          R      mAP50  mAP50-95): 100%|██████████| 1/1 [00:00<00:00,  1.71it/s]"
     ]
    },
    {
     "name": "stdout",
     "output_type": "stream",
     "text": [
      "                   all          4         17      0.837       0.65      0.856      0.619\n"
     ]
    },
    {
     "name": "stderr",
     "output_type": "stream",
     "text": [
      "\n"
     ]
    },
    {
     "name": "stdout",
     "output_type": "stream",
     "text": [
      "\n",
      "      Epoch    GPU_mem   box_loss   cls_loss   dfl_loss  Instances       Size\n"
     ]
    },
    {
     "name": "stderr",
     "output_type": "stream",
     "text": [
      "     29/100         0G      1.015      1.344      1.369         23        640: 100%|██████████| 1/1 [00:01<00:00,  1.66s/it]\n",
      "                 Class     Images  Instances      Box(P          R      mAP50  mAP50-95): 100%|██████████| 1/1 [00:00<00:00,  1.71it/s]"
     ]
    },
    {
     "name": "stdout",
     "output_type": "stream",
     "text": [
      "                   all          4         17      0.794       0.65      0.853      0.602\n"
     ]
    },
    {
     "name": "stderr",
     "output_type": "stream",
     "text": [
      "\n"
     ]
    },
    {
     "name": "stdout",
     "output_type": "stream",
     "text": [
      "\n",
      "      Epoch    GPU_mem   box_loss   cls_loss   dfl_loss  Instances       Size\n"
     ]
    },
    {
     "name": "stderr",
     "output_type": "stream",
     "text": [
      "     30/100         0G      1.296      2.722       1.69         33        640: 100%|██████████| 1/1 [00:01<00:00,  1.70s/it]\n",
      "                 Class     Images  Instances      Box(P          R      mAP50  mAP50-95): 100%|██████████| 1/1 [00:00<00:00,  1.50it/s]"
     ]
    },
    {
     "name": "stdout",
     "output_type": "stream",
     "text": [
      "                   all          4         17      0.794       0.65      0.853      0.602\n"
     ]
    },
    {
     "name": "stderr",
     "output_type": "stream",
     "text": [
      "\n"
     ]
    },
    {
     "name": "stdout",
     "output_type": "stream",
     "text": [
      "\n",
      "      Epoch    GPU_mem   box_loss   cls_loss   dfl_loss  Instances       Size\n"
     ]
    },
    {
     "name": "stderr",
     "output_type": "stream",
     "text": [
      "     31/100         0G     0.7978      1.374      1.265         25        640: 100%|██████████| 1/1 [00:01<00:00,  1.89s/it]\n",
      "                 Class     Images  Instances      Box(P          R      mAP50  mAP50-95): 100%|██████████| 1/1 [00:00<00:00,  1.61it/s]"
     ]
    },
    {
     "name": "stdout",
     "output_type": "stream",
     "text": [
      "                   all          4         17      0.789       0.65      0.857      0.616\n"
     ]
    },
    {
     "name": "stderr",
     "output_type": "stream",
     "text": [
      "\n"
     ]
    },
    {
     "name": "stdout",
     "output_type": "stream",
     "text": [
      "\n",
      "      Epoch    GPU_mem   box_loss   cls_loss   dfl_loss  Instances       Size\n"
     ]
    },
    {
     "name": "stderr",
     "output_type": "stream",
     "text": [
      "     32/100         0G     0.8073      1.182      1.126         21        640: 100%|██████████| 1/1 [00:03<00:00,  3.32s/it]\n",
      "                 Class     Images  Instances      Box(P          R      mAP50  mAP50-95): 100%|██████████| 1/1 [00:00<00:00,  1.50it/s]"
     ]
    },
    {
     "name": "stdout",
     "output_type": "stream",
     "text": [
      "                   all          4         17      0.789       0.65      0.857      0.616\n"
     ]
    },
    {
     "name": "stderr",
     "output_type": "stream",
     "text": [
      "\n"
     ]
    },
    {
     "name": "stdout",
     "output_type": "stream",
     "text": [
      "\n",
      "      Epoch    GPU_mem   box_loss   cls_loss   dfl_loss  Instances       Size\n"
     ]
    },
    {
     "name": "stderr",
     "output_type": "stream",
     "text": [
      "     33/100         0G      1.035      2.759      1.362         32        640: 100%|██████████| 1/1 [00:02<00:00,  2.25s/it]\n",
      "                 Class     Images  Instances      Box(P          R      mAP50  mAP50-95): 100%|██████████| 1/1 [00:00<00:00,  1.21it/s]"
     ]
    },
    {
     "name": "stdout",
     "output_type": "stream",
     "text": [
      "                   all          4         17      0.753       0.65      0.763      0.524\n"
     ]
    },
    {
     "name": "stderr",
     "output_type": "stream",
     "text": [
      "\n"
     ]
    },
    {
     "name": "stdout",
     "output_type": "stream",
     "text": [
      "\n",
      "      Epoch    GPU_mem   box_loss   cls_loss   dfl_loss  Instances       Size\n"
     ]
    },
    {
     "name": "stderr",
     "output_type": "stream",
     "text": [
      "     34/100         0G     0.9475      1.041       1.37         33        640: 100%|██████████| 1/1 [00:02<00:00,  2.27s/it]\n",
      "                 Class     Images  Instances      Box(P          R      mAP50  mAP50-95): 100%|██████████| 1/1 [00:00<00:00,  1.18it/s]"
     ]
    },
    {
     "name": "stdout",
     "output_type": "stream",
     "text": [
      "                   all          4         17      0.753       0.65      0.763      0.524\n"
     ]
    },
    {
     "name": "stderr",
     "output_type": "stream",
     "text": [
      "\n"
     ]
    },
    {
     "name": "stdout",
     "output_type": "stream",
     "text": [
      "\n",
      "      Epoch    GPU_mem   box_loss   cls_loss   dfl_loss  Instances       Size\n"
     ]
    },
    {
     "name": "stderr",
     "output_type": "stream",
     "text": [
      "     35/100         0G     0.8298      1.676      1.276         25        640: 100%|██████████| 1/1 [00:02<00:00,  2.26s/it]\n",
      "                 Class     Images  Instances      Box(P          R      mAP50  mAP50-95): 100%|██████████| 1/1 [00:00<00:00,  1.31it/s]"
     ]
    },
    {
     "name": "stdout",
     "output_type": "stream",
     "text": [
      "                   all          4         17      0.745      0.658      0.764      0.559\n"
     ]
    },
    {
     "name": "stderr",
     "output_type": "stream",
     "text": [
      "\n"
     ]
    },
    {
     "name": "stdout",
     "output_type": "stream",
     "text": [
      "\n",
      "      Epoch    GPU_mem   box_loss   cls_loss   dfl_loss  Instances       Size\n"
     ]
    },
    {
     "name": "stderr",
     "output_type": "stream",
     "text": [
      "     36/100         0G     0.8062      1.585       1.15         29        640: 100%|██████████| 1/1 [00:02<00:00,  2.42s/it]\n",
      "                 Class     Images  Instances      Box(P          R      mAP50  mAP50-95): 100%|██████████| 1/1 [00:00<00:00,  1.09it/s]"
     ]
    },
    {
     "name": "stdout",
     "output_type": "stream",
     "text": [
      "                   all          4         17      0.745      0.658      0.764      0.559\n"
     ]
    },
    {
     "name": "stderr",
     "output_type": "stream",
     "text": [
      "\n"
     ]
    },
    {
     "name": "stdout",
     "output_type": "stream",
     "text": [
      "\n",
      "      Epoch    GPU_mem   box_loss   cls_loss   dfl_loss  Instances       Size\n"
     ]
    },
    {
     "name": "stderr",
     "output_type": "stream",
     "text": [
      "     37/100         0G     0.8633      1.282      1.336         24        640: 100%|██████████| 1/1 [00:02<00:00,  2.24s/it]\n",
      "                 Class     Images  Instances      Box(P          R      mAP50  mAP50-95): 100%|██████████| 1/1 [00:00<00:00,  1.30it/s]"
     ]
    },
    {
     "name": "stdout",
     "output_type": "stream",
     "text": [
      "                   all          4         17      0.656      0.691      0.764      0.526\n"
     ]
    },
    {
     "name": "stderr",
     "output_type": "stream",
     "text": [
      "\n"
     ]
    },
    {
     "name": "stdout",
     "output_type": "stream",
     "text": [
      "\n",
      "      Epoch    GPU_mem   box_loss   cls_loss   dfl_loss  Instances       Size\n"
     ]
    },
    {
     "name": "stderr",
     "output_type": "stream",
     "text": [
      "     38/100         0G     0.7276      1.058      1.102         43        640: 100%|██████████| 1/1 [00:01<00:00,  1.57s/it]\n",
      "                 Class     Images  Instances      Box(P          R      mAP50  mAP50-95): 100%|██████████| 1/1 [00:00<00:00,  1.64it/s]"
     ]
    },
    {
     "name": "stdout",
     "output_type": "stream",
     "text": [
      "                   all          4         17      0.656      0.691      0.764      0.526\n"
     ]
    },
    {
     "name": "stderr",
     "output_type": "stream",
     "text": [
      "\n"
     ]
    },
    {
     "name": "stdout",
     "output_type": "stream",
     "text": [
      "\n",
      "      Epoch    GPU_mem   box_loss   cls_loss   dfl_loss  Instances       Size\n"
     ]
    },
    {
     "name": "stderr",
     "output_type": "stream",
     "text": [
      "     39/100         0G     0.8841      1.965      1.245         52        640: 100%|██████████| 1/1 [00:01<00:00,  1.85s/it]\n",
      "                 Class     Images  Instances      Box(P          R      mAP50  mAP50-95): 100%|██████████| 1/1 [00:00<00:00,  1.73it/s]"
     ]
    },
    {
     "name": "stdout",
     "output_type": "stream",
     "text": [
      "                   all          4         17      0.631      0.591      0.654      0.467\n"
     ]
    },
    {
     "name": "stderr",
     "output_type": "stream",
     "text": [
      "\n"
     ]
    },
    {
     "name": "stdout",
     "output_type": "stream",
     "text": [
      "\n",
      "      Epoch    GPU_mem   box_loss   cls_loss   dfl_loss  Instances       Size\n"
     ]
    },
    {
     "name": "stderr",
     "output_type": "stream",
     "text": [
      "     40/100         0G     0.7368      1.095      1.086         34        640: 100%|██████████| 1/1 [00:01<00:00,  1.72s/it]\n",
      "                 Class     Images  Instances      Box(P          R      mAP50  mAP50-95): 100%|██████████| 1/1 [00:00<00:00,  1.33it/s]"
     ]
    },
    {
     "name": "stdout",
     "output_type": "stream",
     "text": [
      "                   all          4         17      0.631      0.591      0.654      0.467\n"
     ]
    },
    {
     "name": "stderr",
     "output_type": "stream",
     "text": [
      "\n"
     ]
    },
    {
     "name": "stdout",
     "output_type": "stream",
     "text": [
      "\n",
      "      Epoch    GPU_mem   box_loss   cls_loss   dfl_loss  Instances       Size\n"
     ]
    },
    {
     "name": "stderr",
     "output_type": "stream",
     "text": [
      "     41/100         0G      1.089      1.975      1.477         22        640: 100%|██████████| 1/1 [00:01<00:00,  1.98s/it]\n",
      "                 Class     Images  Instances      Box(P          R      mAP50  mAP50-95): 100%|██████████| 1/1 [00:00<00:00,  1.42it/s]"
     ]
    },
    {
     "name": "stdout",
     "output_type": "stream",
     "text": [
      "                   all          4         17      0.629      0.591      0.629      0.421\n"
     ]
    },
    {
     "name": "stderr",
     "output_type": "stream",
     "text": [
      "\n"
     ]
    },
    {
     "name": "stdout",
     "output_type": "stream",
     "text": [
      "\n",
      "      Epoch    GPU_mem   box_loss   cls_loss   dfl_loss  Instances       Size\n"
     ]
    },
    {
     "name": "stderr",
     "output_type": "stream",
     "text": [
      "     42/100         0G     0.8349      1.182      1.218         33        640: 100%|██████████| 1/1 [00:01<00:00,  1.75s/it]\n",
      "                 Class     Images  Instances      Box(P          R      mAP50  mAP50-95): 100%|██████████| 1/1 [00:00<00:00,  1.32it/s]"
     ]
    },
    {
     "name": "stdout",
     "output_type": "stream",
     "text": [
      "                   all          4         17      0.629      0.591      0.629      0.421\n"
     ]
    },
    {
     "name": "stderr",
     "output_type": "stream",
     "text": [
      "\n"
     ]
    },
    {
     "name": "stdout",
     "output_type": "stream",
     "text": [
      "\n",
      "      Epoch    GPU_mem   box_loss   cls_loss   dfl_loss  Instances       Size\n"
     ]
    },
    {
     "name": "stderr",
     "output_type": "stream",
     "text": [
      "     43/100         0G     0.7213     0.8506       1.05         31        640: 100%|██████████| 1/1 [00:01<00:00,  1.92s/it]\n",
      "                 Class     Images  Instances      Box(P          R      mAP50  mAP50-95): 100%|██████████| 1/1 [00:00<00:00,  1.47it/s]"
     ]
    },
    {
     "name": "stdout",
     "output_type": "stream",
     "text": [
      "                   all          4         17      0.592      0.506      0.565      0.348\n"
     ]
    },
    {
     "name": "stderr",
     "output_type": "stream",
     "text": [
      "\n"
     ]
    },
    {
     "name": "stdout",
     "output_type": "stream",
     "text": [
      "\n",
      "      Epoch    GPU_mem   box_loss   cls_loss   dfl_loss  Instances       Size\n"
     ]
    },
    {
     "name": "stderr",
     "output_type": "stream",
     "text": [
      "     44/100         0G     0.8361       1.12      1.215         28        640: 100%|██████████| 1/1 [00:01<00:00,  1.86s/it]\n",
      "                 Class     Images  Instances      Box(P          R      mAP50  mAP50-95): 100%|██████████| 1/1 [00:00<00:00,  1.42it/s]"
     ]
    },
    {
     "name": "stdout",
     "output_type": "stream",
     "text": [
      "                   all          4         17      0.592      0.506      0.565      0.348\n"
     ]
    },
    {
     "name": "stderr",
     "output_type": "stream",
     "text": [
      "\n"
     ]
    },
    {
     "name": "stdout",
     "output_type": "stream",
     "text": [
      "\n",
      "      Epoch    GPU_mem   box_loss   cls_loss   dfl_loss  Instances       Size\n"
     ]
    },
    {
     "name": "stderr",
     "output_type": "stream",
     "text": [
      "     45/100         0G     0.6413     0.9832      1.171         18        640: 100%|██████████| 1/1 [00:01<00:00,  1.97s/it]\n",
      "                 Class     Images  Instances      Box(P          R      mAP50  mAP50-95): 100%|██████████| 1/1 [00:00<00:00,  1.69it/s]"
     ]
    },
    {
     "name": "stdout",
     "output_type": "stream",
     "text": [
      "                   all          4         17      0.604        0.5      0.555      0.338\n"
     ]
    },
    {
     "name": "stderr",
     "output_type": "stream",
     "text": [
      "\n"
     ]
    },
    {
     "name": "stdout",
     "output_type": "stream",
     "text": [
      "\n",
      "      Epoch    GPU_mem   box_loss   cls_loss   dfl_loss  Instances       Size\n"
     ]
    },
    {
     "name": "stderr",
     "output_type": "stream",
     "text": [
      "     46/100         0G     0.7067     0.9293      1.029         35        640: 100%|██████████| 1/1 [00:01<00:00,  1.90s/it]\n",
      "                 Class     Images  Instances      Box(P          R      mAP50  mAP50-95): 100%|██████████| 1/1 [00:00<00:00,  1.44it/s]"
     ]
    },
    {
     "name": "stdout",
     "output_type": "stream",
     "text": [
      "                   all          4         17      0.604        0.5      0.555      0.338\n"
     ]
    },
    {
     "name": "stderr",
     "output_type": "stream",
     "text": [
      "\n"
     ]
    },
    {
     "name": "stdout",
     "output_type": "stream",
     "text": [
      "\n",
      "      Epoch    GPU_mem   box_loss   cls_loss   dfl_loss  Instances       Size\n"
     ]
    },
    {
     "name": "stderr",
     "output_type": "stream",
     "text": [
      "     47/100         0G     0.7589     0.9516      1.063         37        640: 100%|██████████| 1/1 [00:02<00:00,  2.26s/it]\n",
      "                 Class     Images  Instances      Box(P          R      mAP50  mAP50-95): 100%|██████████| 1/1 [00:00<00:00,  1.60it/s]"
     ]
    },
    {
     "name": "stdout",
     "output_type": "stream",
     "text": [
      "                   all          4         17      0.616        0.5      0.532      0.315\n"
     ]
    },
    {
     "name": "stderr",
     "output_type": "stream",
     "text": [
      "\n"
     ]
    },
    {
     "name": "stdout",
     "output_type": "stream",
     "text": [
      "\n",
      "      Epoch    GPU_mem   box_loss   cls_loss   dfl_loss  Instances       Size\n"
     ]
    },
    {
     "name": "stderr",
     "output_type": "stream",
     "text": [
      "     48/100         0G     0.7185     0.8316      1.157         23        640: 100%|██████████| 1/1 [00:01<00:00,  1.81s/it]\n",
      "                 Class     Images  Instances      Box(P          R      mAP50  mAP50-95): 100%|██████████| 1/1 [00:00<00:00,  1.77it/s]"
     ]
    },
    {
     "name": "stdout",
     "output_type": "stream",
     "text": [
      "                   all          4         17      0.616        0.5      0.532      0.315\n"
     ]
    },
    {
     "name": "stderr",
     "output_type": "stream",
     "text": [
      "\n"
     ]
    },
    {
     "name": "stdout",
     "output_type": "stream",
     "text": [
      "\n",
      "      Epoch    GPU_mem   box_loss   cls_loss   dfl_loss  Instances       Size\n"
     ]
    },
    {
     "name": "stderr",
     "output_type": "stream",
     "text": [
      "     49/100         0G     0.9951      1.207      1.406         24        640: 100%|██████████| 1/1 [00:01<00:00,  1.75s/it]\n",
      "                 Class     Images  Instances      Box(P          R      mAP50  mAP50-95): 100%|██████████| 1/1 [00:00<00:00,  1.52it/s]"
     ]
    },
    {
     "name": "stdout",
     "output_type": "stream",
     "text": [
      "                   all          4         17      0.792        0.5      0.533      0.313\n"
     ]
    },
    {
     "name": "stderr",
     "output_type": "stream",
     "text": [
      "\n"
     ]
    },
    {
     "name": "stdout",
     "output_type": "stream",
     "text": [
      "\n",
      "      Epoch    GPU_mem   box_loss   cls_loss   dfl_loss  Instances       Size\n"
     ]
    },
    {
     "name": "stderr",
     "output_type": "stream",
     "text": [
      "     50/100         0G     0.9432      1.585      1.358         25        640: 100%|██████████| 1/1 [00:01<00:00,  1.62s/it]\n",
      "                 Class     Images  Instances      Box(P          R      mAP50  mAP50-95): 100%|██████████| 1/1 [00:00<00:00,  1.49it/s]"
     ]
    },
    {
     "name": "stdout",
     "output_type": "stream",
     "text": [
      "                   all          4         17      0.792        0.5      0.533      0.313\n"
     ]
    },
    {
     "name": "stderr",
     "output_type": "stream",
     "text": [
      "\n"
     ]
    },
    {
     "name": "stdout",
     "output_type": "stream",
     "text": [
      "\n",
      "      Epoch    GPU_mem   box_loss   cls_loss   dfl_loss  Instances       Size\n"
     ]
    },
    {
     "name": "stderr",
     "output_type": "stream",
     "text": [
      "     51/100         0G     0.6739     0.8948      1.117         19        640: 100%|██████████| 1/1 [00:01<00:00,  1.84s/it]\n",
      "                 Class     Images  Instances      Box(P          R      mAP50  mAP50-95): 100%|██████████| 1/1 [00:00<00:00,  1.46it/s]"
     ]
    },
    {
     "name": "stdout",
     "output_type": "stream",
     "text": [
      "                   all          4         17      0.805      0.499      0.515      0.307\n"
     ]
    },
    {
     "name": "stderr",
     "output_type": "stream",
     "text": [
      "\n"
     ]
    },
    {
     "name": "stdout",
     "output_type": "stream",
     "text": [
      "\n",
      "      Epoch    GPU_mem   box_loss   cls_loss   dfl_loss  Instances       Size\n"
     ]
    },
    {
     "name": "stderr",
     "output_type": "stream",
     "text": [
      "     52/100         0G     0.8509      1.786      1.416         15        640: 100%|██████████| 1/1 [00:01<00:00,  1.83s/it]\n",
      "                 Class     Images  Instances      Box(P          R      mAP50  mAP50-95): 100%|██████████| 1/1 [00:00<00:00,  1.35it/s]"
     ]
    },
    {
     "name": "stdout",
     "output_type": "stream",
     "text": [
      "                   all          4         17      0.805      0.499      0.515      0.307\n"
     ]
    },
    {
     "name": "stderr",
     "output_type": "stream",
     "text": [
      "\n"
     ]
    },
    {
     "name": "stdout",
     "output_type": "stream",
     "text": [
      "\n",
      "      Epoch    GPU_mem   box_loss   cls_loss   dfl_loss  Instances       Size\n"
     ]
    },
    {
     "name": "stderr",
     "output_type": "stream",
     "text": [
      "     53/100         0G     0.8792     0.8453      1.288         10        640: 100%|██████████| 1/1 [00:01<00:00,  1.90s/it]\n",
      "                 Class     Images  Instances      Box(P          R      mAP50  mAP50-95): 100%|██████████| 1/1 [00:00<00:00,  1.58it/s]"
     ]
    },
    {
     "name": "stdout",
     "output_type": "stream",
     "text": [
      "                   all          4         17      0.805      0.499      0.515      0.307\n"
     ]
    },
    {
     "name": "stderr",
     "output_type": "stream",
     "text": [
      "\n"
     ]
    },
    {
     "name": "stdout",
     "output_type": "stream",
     "text": [
      "\n",
      "      Epoch    GPU_mem   box_loss   cls_loss   dfl_loss  Instances       Size\n"
     ]
    },
    {
     "name": "stderr",
     "output_type": "stream",
     "text": [
      "     54/100         0G     0.8352     0.8937      1.178         19        640: 100%|██████████| 1/1 [00:01<00:00,  1.89s/it]\n",
      "                 Class     Images  Instances      Box(P          R      mAP50  mAP50-95): 100%|██████████| 1/1 [00:00<00:00,  1.48it/s]"
     ]
    },
    {
     "name": "stdout",
     "output_type": "stream",
     "text": [
      "                   all          4         17      0.814      0.416      0.522      0.298\n"
     ]
    },
    {
     "name": "stderr",
     "output_type": "stream",
     "text": [
      "\n"
     ]
    },
    {
     "name": "stdout",
     "output_type": "stream",
     "text": [
      "\n",
      "      Epoch    GPU_mem   box_loss   cls_loss   dfl_loss  Instances       Size\n"
     ]
    },
    {
     "name": "stderr",
     "output_type": "stream",
     "text": [
      "     55/100         0G     0.7792     0.7317      1.189         18        640: 100%|██████████| 1/1 [00:01<00:00,  1.76s/it]\n",
      "                 Class     Images  Instances      Box(P          R      mAP50  mAP50-95): 100%|██████████| 1/1 [00:00<00:00,  1.32it/s]"
     ]
    },
    {
     "name": "stdout",
     "output_type": "stream",
     "text": [
      "                   all          4         17      0.814      0.416      0.522      0.298\n"
     ]
    },
    {
     "name": "stderr",
     "output_type": "stream",
     "text": [
      "\n"
     ]
    },
    {
     "name": "stdout",
     "output_type": "stream",
     "text": [
      "\n",
      "      Epoch    GPU_mem   box_loss   cls_loss   dfl_loss  Instances       Size\n"
     ]
    },
    {
     "name": "stderr",
     "output_type": "stream",
     "text": [
      "     56/100         0G     0.8586       1.09      1.286         37        640: 100%|██████████| 1/1 [00:01<00:00,  1.98s/it]\n",
      "                 Class     Images  Instances      Box(P          R      mAP50  mAP50-95): 100%|██████████| 1/1 [00:00<00:00,  1.60it/s]"
     ]
    },
    {
     "name": "stdout",
     "output_type": "stream",
     "text": [
      "                   all          4         17      0.814      0.416      0.522      0.298\n"
     ]
    },
    {
     "name": "stderr",
     "output_type": "stream",
     "text": [
      "\n"
     ]
    },
    {
     "name": "stdout",
     "output_type": "stream",
     "text": [
      "\n",
      "      Epoch    GPU_mem   box_loss   cls_loss   dfl_loss  Instances       Size\n"
     ]
    },
    {
     "name": "stderr",
     "output_type": "stream",
     "text": [
      "     57/100         0G     0.7202     0.8119      1.121         32        640: 100%|██████████| 1/1 [00:02<00:00,  2.68s/it]\n",
      "                 Class     Images  Instances      Box(P          R      mAP50  mAP50-95): 100%|██████████| 1/1 [00:00<00:00,  1.52it/s]"
     ]
    },
    {
     "name": "stdout",
     "output_type": "stream",
     "text": [
      "                   all          4         17      0.813      0.416       0.53      0.302\n"
     ]
    },
    {
     "name": "stderr",
     "output_type": "stream",
     "text": [
      "\n"
     ]
    },
    {
     "name": "stdout",
     "output_type": "stream",
     "text": [
      "\n",
      "      Epoch    GPU_mem   box_loss   cls_loss   dfl_loss  Instances       Size\n"
     ]
    },
    {
     "name": "stderr",
     "output_type": "stream",
     "text": [
      "     58/100         0G     0.7005     0.8823      1.097         46        640: 100%|██████████| 1/1 [00:02<00:00,  2.07s/it]\n",
      "                 Class     Images  Instances      Box(P          R      mAP50  mAP50-95): 100%|██████████| 1/1 [00:00<00:00,  1.27it/s]"
     ]
    },
    {
     "name": "stdout",
     "output_type": "stream",
     "text": [
      "                   all          4         17      0.813      0.416       0.53      0.302\n"
     ]
    },
    {
     "name": "stderr",
     "output_type": "stream",
     "text": [
      "\n"
     ]
    },
    {
     "name": "stdout",
     "output_type": "stream",
     "text": [
      "\n",
      "      Epoch    GPU_mem   box_loss   cls_loss   dfl_loss  Instances       Size\n"
     ]
    },
    {
     "name": "stderr",
     "output_type": "stream",
     "text": [
      "     59/100         0G     0.6427     0.8046      1.086         27        640: 100%|██████████| 1/1 [00:01<00:00,  1.93s/it]\n",
      "                 Class     Images  Instances      Box(P          R      mAP50  mAP50-95): 100%|██████████| 1/1 [00:00<00:00,  1.67it/s]"
     ]
    },
    {
     "name": "stdout",
     "output_type": "stream",
     "text": [
      "                   all          4         17      0.813      0.416       0.53      0.302\n"
     ]
    },
    {
     "name": "stderr",
     "output_type": "stream",
     "text": [
      "\n"
     ]
    },
    {
     "name": "stdout",
     "output_type": "stream",
     "text": [
      "\n",
      "      Epoch    GPU_mem   box_loss   cls_loss   dfl_loss  Instances       Size\n"
     ]
    },
    {
     "name": "stderr",
     "output_type": "stream",
     "text": [
      "     60/100         0G     0.4821     0.8408      0.944         22        640: 100%|██████████| 1/1 [00:01<00:00,  1.77s/it]\n",
      "                 Class     Images  Instances      Box(P          R      mAP50  mAP50-95): 100%|██████████| 1/1 [00:00<00:00,  1.26it/s]"
     ]
    },
    {
     "name": "stdout",
     "output_type": "stream",
     "text": [
      "                   all          4         17      0.832      0.417      0.524      0.304\n"
     ]
    },
    {
     "name": "stderr",
     "output_type": "stream",
     "text": [
      "\n"
     ]
    },
    {
     "name": "stdout",
     "output_type": "stream",
     "text": [
      "\n",
      "      Epoch    GPU_mem   box_loss   cls_loss   dfl_loss  Instances       Size\n"
     ]
    },
    {
     "name": "stderr",
     "output_type": "stream",
     "text": [
      "     61/100         0G     0.7941     0.8194      1.271         19        640: 100%|██████████| 1/1 [00:01<00:00,  1.72s/it]\n",
      "                 Class     Images  Instances      Box(P          R      mAP50  mAP50-95): 100%|██████████| 1/1 [00:00<00:00,  1.58it/s]"
     ]
    },
    {
     "name": "stdout",
     "output_type": "stream",
     "text": [
      "                   all          4         17      0.832      0.417      0.524      0.304\n"
     ]
    },
    {
     "name": "stderr",
     "output_type": "stream",
     "text": [
      "\n"
     ]
    },
    {
     "name": "stdout",
     "output_type": "stream",
     "text": [
      "\n",
      "      Epoch    GPU_mem   box_loss   cls_loss   dfl_loss  Instances       Size\n"
     ]
    },
    {
     "name": "stderr",
     "output_type": "stream",
     "text": [
      "     62/100         0G     0.8648     0.9798      1.288         31        640: 100%|██████████| 1/1 [00:01<00:00,  1.67s/it]\n",
      "                 Class     Images  Instances      Box(P          R      mAP50  mAP50-95): 100%|██████████| 1/1 [00:00<00:00,  1.73it/s]"
     ]
    },
    {
     "name": "stdout",
     "output_type": "stream",
     "text": [
      "                   all          4         17      0.832      0.417      0.524      0.304\n"
     ]
    },
    {
     "name": "stderr",
     "output_type": "stream",
     "text": [
      "\n"
     ]
    },
    {
     "name": "stdout",
     "output_type": "stream",
     "text": [
      "\n",
      "      Epoch    GPU_mem   box_loss   cls_loss   dfl_loss  Instances       Size\n"
     ]
    },
    {
     "name": "stderr",
     "output_type": "stream",
     "text": [
      "     63/100         0G      0.897     0.7334      1.381         20        640: 100%|██████████| 1/1 [00:01<00:00,  1.70s/it]\n",
      "                 Class     Images  Instances      Box(P          R      mAP50  mAP50-95): 100%|██████████| 1/1 [00:00<00:00,  1.03it/s]"
     ]
    },
    {
     "name": "stdout",
     "output_type": "stream",
     "text": [
      "                   all          4         17      0.831      0.416      0.529      0.288\n"
     ]
    },
    {
     "name": "stderr",
     "output_type": "stream",
     "text": [
      "\n"
     ]
    },
    {
     "name": "stdout",
     "output_type": "stream",
     "text": [
      "\n",
      "      Epoch    GPU_mem   box_loss   cls_loss   dfl_loss  Instances       Size\n"
     ]
    },
    {
     "name": "stderr",
     "output_type": "stream",
     "text": [
      "     64/100         0G     0.7177      1.044      1.129         41        640: 100%|██████████| 1/1 [00:01<00:00,  1.65s/it]\n",
      "                 Class     Images  Instances      Box(P          R      mAP50  mAP50-95): 100%|██████████| 1/1 [00:00<00:00,  1.64it/s]"
     ]
    },
    {
     "name": "stdout",
     "output_type": "stream",
     "text": [
      "                   all          4         17      0.831      0.416      0.529      0.288\n"
     ]
    },
    {
     "name": "stderr",
     "output_type": "stream",
     "text": [
      "\n"
     ]
    },
    {
     "name": "stdout",
     "output_type": "stream",
     "text": [
      "\n",
      "      Epoch    GPU_mem   box_loss   cls_loss   dfl_loss  Instances       Size\n"
     ]
    },
    {
     "name": "stderr",
     "output_type": "stream",
     "text": [
      "     65/100         0G     0.5864     0.6858      1.078         20        640: 100%|██████████| 1/1 [00:01<00:00,  1.63s/it]\n",
      "                 Class     Images  Instances      Box(P          R      mAP50  mAP50-95): 100%|██████████| 1/1 [00:00<00:00,  1.85it/s]"
     ]
    },
    {
     "name": "stdout",
     "output_type": "stream",
     "text": [
      "                   all          4         17      0.831      0.416      0.529      0.288\n"
     ]
    },
    {
     "name": "stderr",
     "output_type": "stream",
     "text": [
      "\n"
     ]
    },
    {
     "name": "stdout",
     "output_type": "stream",
     "text": [
      "\n",
      "      Epoch    GPU_mem   box_loss   cls_loss   dfl_loss  Instances       Size\n"
     ]
    },
    {
     "name": "stderr",
     "output_type": "stream",
     "text": [
      "     66/100         0G      0.961      1.218      1.239         22        640: 100%|██████████| 1/1 [00:01<00:00,  1.65s/it]\n",
      "                 Class     Images  Instances      Box(P          R      mAP50  mAP50-95): 100%|██████████| 1/1 [00:00<00:00,  1.78it/s]"
     ]
    },
    {
     "name": "stdout",
     "output_type": "stream",
     "text": [
      "                   all          4         17      0.837      0.415       0.53      0.288\n"
     ]
    },
    {
     "name": "stderr",
     "output_type": "stream",
     "text": [
      "\n"
     ]
    },
    {
     "name": "stdout",
     "output_type": "stream",
     "text": [
      "\n",
      "      Epoch    GPU_mem   box_loss   cls_loss   dfl_loss  Instances       Size\n"
     ]
    },
    {
     "name": "stderr",
     "output_type": "stream",
     "text": [
      "     67/100         0G     0.8766      1.243      1.258         31        640: 100%|██████████| 1/1 [00:01<00:00,  1.48s/it]\n",
      "                 Class     Images  Instances      Box(P          R      mAP50  mAP50-95): 100%|██████████| 1/1 [00:00<00:00,  1.72it/s]"
     ]
    },
    {
     "name": "stdout",
     "output_type": "stream",
     "text": [
      "                   all          4         17      0.837      0.415       0.53      0.288\n"
     ]
    },
    {
     "name": "stderr",
     "output_type": "stream",
     "text": [
      "\n"
     ]
    },
    {
     "name": "stdout",
     "output_type": "stream",
     "text": [
      "\n",
      "      Epoch    GPU_mem   box_loss   cls_loss   dfl_loss  Instances       Size\n"
     ]
    },
    {
     "name": "stderr",
     "output_type": "stream",
     "text": [
      "     68/100         0G     0.9437      1.342      1.412         23        640: 100%|██████████| 1/1 [00:01<00:00,  1.54s/it]\n",
      "                 Class     Images  Instances      Box(P          R      mAP50  mAP50-95): 100%|██████████| 1/1 [00:00<00:00,  1.71it/s]"
     ]
    },
    {
     "name": "stdout",
     "output_type": "stream",
     "text": [
      "                   all          4         17      0.837      0.415       0.53      0.288\n"
     ]
    },
    {
     "name": "stderr",
     "output_type": "stream",
     "text": [
      "\n"
     ]
    },
    {
     "name": "stdout",
     "output_type": "stream",
     "text": [
      "\n",
      "      Epoch    GPU_mem   box_loss   cls_loss   dfl_loss  Instances       Size\n"
     ]
    },
    {
     "name": "stderr",
     "output_type": "stream",
     "text": [
      "     69/100         0G     0.6437     0.6581      1.029         25        640: 100%|██████████| 1/1 [00:01<00:00,  1.66s/it]\n",
      "                 Class     Images  Instances      Box(P          R      mAP50  mAP50-95): 100%|██████████| 1/1 [00:00<00:00,  1.72it/s]"
     ]
    },
    {
     "name": "stdout",
     "output_type": "stream",
     "text": [
      "                   all          4         17      0.838      0.498      0.531      0.288\n"
     ]
    },
    {
     "name": "stderr",
     "output_type": "stream",
     "text": [
      "\n"
     ]
    },
    {
     "name": "stdout",
     "output_type": "stream",
     "text": [
      "\n",
      "      Epoch    GPU_mem   box_loss   cls_loss   dfl_loss  Instances       Size\n"
     ]
    },
    {
     "name": "stderr",
     "output_type": "stream",
     "text": [
      "     70/100         0G       1.15      1.146      1.487         26        640: 100%|██████████| 1/1 [00:01<00:00,  1.80s/it]\n",
      "                 Class     Images  Instances      Box(P          R      mAP50  mAP50-95): 100%|██████████| 1/1 [00:00<00:00,  1.32it/s]"
     ]
    },
    {
     "name": "stdout",
     "output_type": "stream",
     "text": [
      "                   all          4         17      0.838      0.498      0.531      0.288\n"
     ]
    },
    {
     "name": "stderr",
     "output_type": "stream",
     "text": [
      "\n"
     ]
    },
    {
     "name": "stdout",
     "output_type": "stream",
     "text": [
      "\n",
      "      Epoch    GPU_mem   box_loss   cls_loss   dfl_loss  Instances       Size\n"
     ]
    },
    {
     "name": "stderr",
     "output_type": "stream",
     "text": [
      "     71/100         0G     0.7634     0.6366      1.172         24        640: 100%|██████████| 1/1 [00:01<00:00,  1.73s/it]\n",
      "                 Class     Images  Instances      Box(P          R      mAP50  mAP50-95): 100%|██████████| 1/1 [00:00<00:00,  1.58it/s]"
     ]
    },
    {
     "name": "stdout",
     "output_type": "stream",
     "text": [
      "                   all          4         17      0.838      0.498      0.531      0.288\n"
     ]
    },
    {
     "name": "stderr",
     "output_type": "stream",
     "text": [
      "\n"
     ]
    },
    {
     "name": "stdout",
     "output_type": "stream",
     "text": [
      "\n",
      "      Epoch    GPU_mem   box_loss   cls_loss   dfl_loss  Instances       Size\n"
     ]
    },
    {
     "name": "stderr",
     "output_type": "stream",
     "text": [
      "     72/100         0G     0.6862      1.034      1.105         21        640: 100%|██████████| 1/1 [00:01<00:00,  1.81s/it]\n",
      "                 Class     Images  Instances      Box(P          R      mAP50  mAP50-95): 100%|██████████| 1/1 [00:00<00:00,  1.32it/s]"
     ]
    },
    {
     "name": "stdout",
     "output_type": "stream",
     "text": [
      "                   all          4         17      0.857       0.41      0.465      0.298\n"
     ]
    },
    {
     "name": "stderr",
     "output_type": "stream",
     "text": [
      "\n"
     ]
    },
    {
     "name": "stdout",
     "output_type": "stream",
     "text": [
      "\n",
      "      Epoch    GPU_mem   box_loss   cls_loss   dfl_loss  Instances       Size\n"
     ]
    },
    {
     "name": "stderr",
     "output_type": "stream",
     "text": [
      "     73/100         0G      0.598     0.6342     0.9574         44        640: 100%|██████████| 1/1 [00:01<00:00,  1.82s/it]\n",
      "                 Class     Images  Instances      Box(P          R      mAP50  mAP50-95): 100%|██████████| 1/1 [00:00<00:00,  1.52it/s]"
     ]
    },
    {
     "name": "stdout",
     "output_type": "stream",
     "text": [
      "                   all          4         17      0.857       0.41      0.465      0.298\n"
     ]
    },
    {
     "name": "stderr",
     "output_type": "stream",
     "text": [
      "\n"
     ]
    },
    {
     "name": "stdout",
     "output_type": "stream",
     "text": [
      "\n",
      "      Epoch    GPU_mem   box_loss   cls_loss   dfl_loss  Instances       Size\n"
     ]
    },
    {
     "name": "stderr",
     "output_type": "stream",
     "text": [
      "     74/100         0G     0.7554     0.8751      1.231         30        640: 100%|██████████| 1/1 [00:01<00:00,  1.76s/it]\n",
      "                 Class     Images  Instances      Box(P          R      mAP50  mAP50-95): 100%|██████████| 1/1 [00:00<00:00,  1.72it/s]"
     ]
    },
    {
     "name": "stdout",
     "output_type": "stream",
     "text": [
      "                   all          4         17      0.857       0.41      0.465      0.298\n"
     ]
    },
    {
     "name": "stderr",
     "output_type": "stream",
     "text": [
      "\n"
     ]
    },
    {
     "name": "stdout",
     "output_type": "stream",
     "text": [
      "\n",
      "      Epoch    GPU_mem   box_loss   cls_loss   dfl_loss  Instances       Size\n"
     ]
    },
    {
     "name": "stderr",
     "output_type": "stream",
     "text": [
      "     75/100         0G     0.8712     0.8582      1.387         15        640: 100%|██████████| 1/1 [00:01<00:00,  1.88s/it]\n",
      "                 Class     Images  Instances      Box(P          R      mAP50  mAP50-95): 100%|██████████| 1/1 [00:00<00:00,  1.37it/s]"
     ]
    },
    {
     "name": "stdout",
     "output_type": "stream",
     "text": [
      "                   all          4         17      0.854      0.409      0.464      0.298\n"
     ]
    },
    {
     "name": "stderr",
     "output_type": "stream",
     "text": [
      "\n"
     ]
    },
    {
     "name": "stdout",
     "output_type": "stream",
     "text": [
      "\n",
      "      Epoch    GPU_mem   box_loss   cls_loss   dfl_loss  Instances       Size\n"
     ]
    },
    {
     "name": "stderr",
     "output_type": "stream",
     "text": [
      "     76/100         0G     0.6178     0.7354      1.082         28        640: 100%|██████████| 1/1 [00:01<00:00,  1.66s/it]\n",
      "                 Class     Images  Instances      Box(P          R      mAP50  mAP50-95): 100%|██████████| 1/1 [00:00<00:00,  1.48it/s]"
     ]
    },
    {
     "name": "stdout",
     "output_type": "stream",
     "text": [
      "                   all          4         17      0.854      0.409      0.464      0.298\n"
     ]
    },
    {
     "name": "stderr",
     "output_type": "stream",
     "text": [
      "\n"
     ]
    },
    {
     "name": "stdout",
     "output_type": "stream",
     "text": [
      "\n",
      "      Epoch    GPU_mem   box_loss   cls_loss   dfl_loss  Instances       Size\n"
     ]
    },
    {
     "name": "stderr",
     "output_type": "stream",
     "text": [
      "     77/100         0G     0.7964      1.015      1.212         34        640: 100%|██████████| 1/1 [00:01<00:00,  1.86s/it]\n",
      "                 Class     Images  Instances      Box(P          R      mAP50  mAP50-95): 100%|██████████| 1/1 [00:00<00:00,  1.49it/s]"
     ]
    },
    {
     "name": "stdout",
     "output_type": "stream",
     "text": [
      "                   all          4         17      0.854      0.409      0.464      0.298\n"
     ]
    },
    {
     "name": "stderr",
     "output_type": "stream",
     "text": [
      "\n"
     ]
    },
    {
     "name": "stdout",
     "output_type": "stream",
     "text": [
      "\n",
      "      Epoch    GPU_mem   box_loss   cls_loss   dfl_loss  Instances       Size\n"
     ]
    },
    {
     "name": "stderr",
     "output_type": "stream",
     "text": [
      "     78/100         0G     0.7487     0.8405      1.151         23        640: 100%|██████████| 1/1 [00:01<00:00,  1.69s/it]\n",
      "                 Class     Images  Instances      Box(P          R      mAP50  mAP50-95): 100%|██████████| 1/1 [00:00<00:00,  1.56it/s]"
     ]
    },
    {
     "name": "stdout",
     "output_type": "stream",
     "text": [
      "                   all          4         17      0.854      0.409      0.426       0.28\n"
     ]
    },
    {
     "name": "stderr",
     "output_type": "stream",
     "text": [
      "\n"
     ]
    },
    {
     "name": "stdout",
     "output_type": "stream",
     "text": [
      "\n",
      "      Epoch    GPU_mem   box_loss   cls_loss   dfl_loss  Instances       Size\n"
     ]
    },
    {
     "name": "stderr",
     "output_type": "stream",
     "text": [
      "     79/100         0G     0.7833     0.7695      1.156         28        640: 100%|██████████| 1/1 [00:02<00:00,  2.26s/it]\n",
      "                 Class     Images  Instances      Box(P          R      mAP50  mAP50-95): 100%|██████████| 1/1 [00:00<00:00,  1.56it/s]"
     ]
    },
    {
     "name": "stdout",
     "output_type": "stream",
     "text": [
      "                   all          4         17      0.854      0.409      0.426       0.28\n"
     ]
    },
    {
     "name": "stderr",
     "output_type": "stream",
     "text": [
      "\n"
     ]
    },
    {
     "name": "stdout",
     "output_type": "stream",
     "text": [
      "\n",
      "      Epoch    GPU_mem   box_loss   cls_loss   dfl_loss  Instances       Size\n"
     ]
    },
    {
     "name": "stderr",
     "output_type": "stream",
     "text": [
      "     80/100         0G      0.878      0.745      1.328         26        640: 100%|██████████| 1/1 [00:01<00:00,  1.67s/it]\n",
      "                 Class     Images  Instances      Box(P          R      mAP50  mAP50-95): 100%|██████████| 1/1 [00:00<00:00,  1.40it/s]"
     ]
    },
    {
     "name": "stdout",
     "output_type": "stream",
     "text": [
      "                   all          4         17      0.854      0.409      0.426       0.28\n"
     ]
    },
    {
     "name": "stderr",
     "output_type": "stream",
     "text": [
      "\n"
     ]
    },
    {
     "name": "stdout",
     "output_type": "stream",
     "text": [
      "\n",
      "      Epoch    GPU_mem   box_loss   cls_loss   dfl_loss  Instances       Size\n"
     ]
    },
    {
     "name": "stderr",
     "output_type": "stream",
     "text": [
      "     81/100         0G      0.664     0.5798      1.161         21        640: 100%|██████████| 1/1 [00:01<00:00,  1.55s/it]\n",
      "                 Class     Images  Instances      Box(P          R      mAP50  mAP50-95): 100%|██████████| 1/1 [00:00<00:00,  1.24it/s]"
     ]
    },
    {
     "name": "stdout",
     "output_type": "stream",
     "text": [
      "                   all          4         17      0.856      0.409      0.425      0.276\n"
     ]
    },
    {
     "name": "stderr",
     "output_type": "stream",
     "text": [
      "\n"
     ]
    },
    {
     "name": "stdout",
     "output_type": "stream",
     "text": [
      "\n",
      "      Epoch    GPU_mem   box_loss   cls_loss   dfl_loss  Instances       Size\n"
     ]
    },
    {
     "name": "stderr",
     "output_type": "stream",
     "text": [
      "     82/100         0G     0.6586     0.6558      1.167         26        640: 100%|██████████| 1/1 [00:02<00:00,  2.19s/it]\n",
      "                 Class     Images  Instances      Box(P          R      mAP50  mAP50-95): 100%|██████████| 1/1 [00:00<00:00,  1.62it/s]"
     ]
    },
    {
     "name": "stdout",
     "output_type": "stream",
     "text": [
      "                   all          4         17      0.856      0.409      0.425      0.276\n"
     ]
    },
    {
     "name": "stderr",
     "output_type": "stream",
     "text": [
      "\n"
     ]
    },
    {
     "name": "stdout",
     "output_type": "stream",
     "text": [
      "\n",
      "      Epoch    GPU_mem   box_loss   cls_loss   dfl_loss  Instances       Size\n"
     ]
    },
    {
     "name": "stderr",
     "output_type": "stream",
     "text": [
      "     83/100         0G     0.6057     0.9615      1.061         49        640: 100%|██████████| 1/1 [00:01<00:00,  1.77s/it]\n",
      "                 Class     Images  Instances      Box(P          R      mAP50  mAP50-95): 100%|██████████| 1/1 [00:00<00:00,  1.30it/s]"
     ]
    },
    {
     "name": "stdout",
     "output_type": "stream",
     "text": [
      "                   all          4         17      0.856      0.409      0.425      0.276\n"
     ]
    },
    {
     "name": "stderr",
     "output_type": "stream",
     "text": [
      "\n"
     ]
    },
    {
     "name": "stdout",
     "output_type": "stream",
     "text": [
      "\n",
      "      Epoch    GPU_mem   box_loss   cls_loss   dfl_loss  Instances       Size\n"
     ]
    },
    {
     "name": "stderr",
     "output_type": "stream",
     "text": [
      "     84/100         0G     0.6242     0.7071     0.9835         42        640: 100%|██████████| 1/1 [00:01<00:00,  1.84s/it]\n",
      "                 Class     Images  Instances      Box(P          R      mAP50  mAP50-95): 100%|██████████| 1/1 [00:00<00:00,  1.53it/s]"
     ]
    },
    {
     "name": "stdout",
     "output_type": "stream",
     "text": [
      "                   all          4         17      0.858      0.409      0.424      0.279\n"
     ]
    },
    {
     "name": "stderr",
     "output_type": "stream",
     "text": [
      "\n"
     ]
    },
    {
     "name": "stdout",
     "output_type": "stream",
     "text": [
      "\n",
      "      Epoch    GPU_mem   box_loss   cls_loss   dfl_loss  Instances       Size\n"
     ]
    },
    {
     "name": "stderr",
     "output_type": "stream",
     "text": [
      "     85/100         0G     0.5867     0.6001      1.076         36        640: 100%|██████████| 1/1 [00:01<00:00,  1.93s/it]\n",
      "                 Class     Images  Instances      Box(P          R      mAP50  mAP50-95): 100%|██████████| 1/1 [00:01<00:00,  1.04s/it]"
     ]
    },
    {
     "name": "stdout",
     "output_type": "stream",
     "text": [
      "                   all          4         17      0.858      0.409      0.424      0.279\n"
     ]
    },
    {
     "name": "stderr",
     "output_type": "stream",
     "text": [
      "\n"
     ]
    },
    {
     "name": "stdout",
     "output_type": "stream",
     "text": [
      "\n",
      "      Epoch    GPU_mem   box_loss   cls_loss   dfl_loss  Instances       Size\n"
     ]
    },
    {
     "name": "stderr",
     "output_type": "stream",
     "text": [
      "     86/100         0G     0.8222     0.9992      1.342         25        640: 100%|██████████| 1/1 [00:03<00:00,  3.95s/it]\n",
      "                 Class     Images  Instances      Box(P          R      mAP50  mAP50-95): 100%|██████████| 1/1 [00:00<00:00,  1.80it/s]"
     ]
    },
    {
     "name": "stdout",
     "output_type": "stream",
     "text": [
      "                   all          4         17      0.858      0.409      0.424      0.279\n"
     ]
    },
    {
     "name": "stderr",
     "output_type": "stream",
     "text": [
      "\n"
     ]
    },
    {
     "name": "stdout",
     "output_type": "stream",
     "text": [
      "\n",
      "      Epoch    GPU_mem   box_loss   cls_loss   dfl_loss  Instances       Size\n"
     ]
    },
    {
     "name": "stderr",
     "output_type": "stream",
     "text": [
      "     87/100         0G     0.5301     0.7114       1.08         25        640: 100%|██████████| 1/1 [00:01<00:00,  1.58s/it]\n",
      "                 Class     Images  Instances      Box(P          R      mAP50  mAP50-95): 100%|██████████| 1/1 [00:00<00:00,  1.64it/s]"
     ]
    },
    {
     "name": "stdout",
     "output_type": "stream",
     "text": [
      "                   all          4         17      0.858      0.409      0.424      0.279\n"
     ]
    },
    {
     "name": "stderr",
     "output_type": "stream",
     "text": [
      "\n"
     ]
    },
    {
     "name": "stdout",
     "output_type": "stream",
     "text": [
      "\n",
      "      Epoch    GPU_mem   box_loss   cls_loss   dfl_loss  Instances       Size\n"
     ]
    },
    {
     "name": "stderr",
     "output_type": "stream",
     "text": [
      "     88/100         0G     0.6874     0.9565      1.144         15        640: 100%|██████████| 1/1 [00:01<00:00,  1.78s/it]\n",
      "                 Class     Images  Instances      Box(P          R      mAP50  mAP50-95): 100%|██████████| 1/1 [00:00<00:00,  1.62it/s]"
     ]
    },
    {
     "name": "stdout",
     "output_type": "stream",
     "text": [
      "                   all          4         17      0.864       0.41      0.424      0.278\n"
     ]
    },
    {
     "name": "stderr",
     "output_type": "stream",
     "text": [
      "\n"
     ]
    },
    {
     "name": "stdout",
     "output_type": "stream",
     "text": [
      "\n",
      "      Epoch    GPU_mem   box_loss   cls_loss   dfl_loss  Instances       Size\n"
     ]
    },
    {
     "name": "stderr",
     "output_type": "stream",
     "text": [
      "     89/100         0G     0.5267       0.64      1.054         36        640: 100%|██████████| 1/1 [00:02<00:00,  2.55s/it]\n",
      "                 Class     Images  Instances      Box(P          R      mAP50  mAP50-95): 100%|██████████| 1/1 [00:00<00:00,  1.14it/s]"
     ]
    },
    {
     "name": "stdout",
     "output_type": "stream",
     "text": [
      "                   all          4         17      0.864       0.41      0.424      0.278\n"
     ]
    },
    {
     "name": "stderr",
     "output_type": "stream",
     "text": [
      "\n"
     ]
    },
    {
     "name": "stdout",
     "output_type": "stream",
     "text": [
      "\n",
      "      Epoch    GPU_mem   box_loss   cls_loss   dfl_loss  Instances       Size\n"
     ]
    },
    {
     "name": "stderr",
     "output_type": "stream",
     "text": [
      "     90/100         0G     0.6004     0.5493      1.014         20        640: 100%|██████████| 1/1 [00:01<00:00,  1.61s/it]\n",
      "                 Class     Images  Instances      Box(P          R      mAP50  mAP50-95): 100%|██████████| 1/1 [00:00<00:00,  1.26it/s]"
     ]
    },
    {
     "name": "stdout",
     "output_type": "stream",
     "text": [
      "                   all          4         17      0.864       0.41      0.424      0.278\n"
     ]
    },
    {
     "name": "stderr",
     "output_type": "stream",
     "text": [
      "\n"
     ]
    },
    {
     "name": "stdout",
     "output_type": "stream",
     "text": [
      "Closing dataloader mosaic\n",
      "\n",
      "      Epoch    GPU_mem   box_loss   cls_loss   dfl_loss  Instances       Size\n"
     ]
    },
    {
     "name": "stderr",
     "output_type": "stream",
     "text": [
      "D:\\programacion\\proyectos\\utec\\IA\\modulo_2_only_yolo\\.venv\\Lib\\site-packages\\torch\\utils\\data\\dataloader.py:665: UserWarning: 'pin_memory' argument is set as true but no accelerator is found, then device pinned memory won't be used.\n",
      "  warnings.warn(warn_msg)\n",
      "     91/100         0G     0.5474     0.5206      1.021         13        640: 100%|██████████| 1/1 [00:01<00:00,  1.95s/it]\n",
      "                 Class     Images  Instances      Box(P          R      mAP50  mAP50-95): 100%|██████████| 1/1 [00:00<00:00,  1.69it/s]"
     ]
    },
    {
     "name": "stdout",
     "output_type": "stream",
     "text": [
      "                   all          4         17      0.864       0.41      0.424      0.278\n"
     ]
    },
    {
     "name": "stderr",
     "output_type": "stream",
     "text": [
      "\n"
     ]
    },
    {
     "name": "stdout",
     "output_type": "stream",
     "text": [
      "\n",
      "      Epoch    GPU_mem   box_loss   cls_loss   dfl_loss  Instances       Size\n"
     ]
    },
    {
     "name": "stderr",
     "output_type": "stream",
     "text": [
      "     92/100         0G     0.5513     0.5176     0.8695         13        640: 100%|██████████| 1/1 [00:01<00:00,  1.75s/it]\n",
      "                 Class     Images  Instances      Box(P          R      mAP50  mAP50-95): 100%|██████████| 1/1 [00:00<00:00,  1.48it/s]"
     ]
    },
    {
     "name": "stdout",
     "output_type": "stream",
     "text": [
      "                   all          4         17      0.863       0.41      0.424      0.276\n"
     ]
    },
    {
     "name": "stderr",
     "output_type": "stream",
     "text": [
      "\n"
     ]
    },
    {
     "name": "stdout",
     "output_type": "stream",
     "text": [
      "\n",
      "      Epoch    GPU_mem   box_loss   cls_loss   dfl_loss  Instances       Size\n"
     ]
    },
    {
     "name": "stderr",
     "output_type": "stream",
     "text": [
      "     93/100         0G     0.6042     0.6093       1.08         13        640: 100%|██████████| 1/1 [00:01<00:00,  1.71s/it]\n",
      "                 Class     Images  Instances      Box(P          R      mAP50  mAP50-95): 100%|██████████| 1/1 [00:00<00:00,  1.62it/s]"
     ]
    },
    {
     "name": "stdout",
     "output_type": "stream",
     "text": [
      "                   all          4         17      0.863       0.41      0.424      0.276\n"
     ]
    },
    {
     "name": "stderr",
     "output_type": "stream",
     "text": [
      "\n"
     ]
    },
    {
     "name": "stdout",
     "output_type": "stream",
     "text": [
      "\n",
      "      Epoch    GPU_mem   box_loss   cls_loss   dfl_loss  Instances       Size\n"
     ]
    },
    {
     "name": "stderr",
     "output_type": "stream",
     "text": [
      "     94/100         0G     0.4376     0.4685     0.8933         13        640: 100%|██████████| 1/1 [00:02<00:00,  2.06s/it]\n",
      "                 Class     Images  Instances      Box(P          R      mAP50  mAP50-95): 100%|██████████| 1/1 [00:00<00:00,  1.72it/s]"
     ]
    },
    {
     "name": "stdout",
     "output_type": "stream",
     "text": [
      "                   all          4         17      0.863       0.41      0.424      0.276\n"
     ]
    },
    {
     "name": "stderr",
     "output_type": "stream",
     "text": [
      "\n"
     ]
    },
    {
     "name": "stdout",
     "output_type": "stream",
     "text": [
      "\n",
      "      Epoch    GPU_mem   box_loss   cls_loss   dfl_loss  Instances       Size\n"
     ]
    },
    {
     "name": "stderr",
     "output_type": "stream",
     "text": [
      "     95/100         0G     0.4646     0.4373     0.9063         13        640: 100%|██████████| 1/1 [00:01<00:00,  1.80s/it]\n",
      "                 Class     Images  Instances      Box(P          R      mAP50  mAP50-95): 100%|██████████| 1/1 [00:00<00:00,  1.35it/s]"
     ]
    },
    {
     "name": "stdout",
     "output_type": "stream",
     "text": [
      "                   all          4         17      0.863       0.41      0.424      0.276\n"
     ]
    },
    {
     "name": "stderr",
     "output_type": "stream",
     "text": [
      "\n"
     ]
    },
    {
     "name": "stdout",
     "output_type": "stream",
     "text": [
      "\n",
      "      Epoch    GPU_mem   box_loss   cls_loss   dfl_loss  Instances       Size\n"
     ]
    },
    {
     "name": "stderr",
     "output_type": "stream",
     "text": [
      "     96/100         0G     0.5872     0.4624     0.9856         13        640: 100%|██████████| 1/1 [00:02<00:00,  2.14s/it]\n",
      "                 Class     Images  Instances      Box(P          R      mAP50  mAP50-95): 100%|██████████| 1/1 [00:00<00:00,  1.31it/s]"
     ]
    },
    {
     "name": "stdout",
     "output_type": "stream",
     "text": [
      "                   all          4         17      0.833      0.499      0.514      0.295\n"
     ]
    },
    {
     "name": "stderr",
     "output_type": "stream",
     "text": [
      "\n"
     ]
    },
    {
     "name": "stdout",
     "output_type": "stream",
     "text": [
      "\n",
      "      Epoch    GPU_mem   box_loss   cls_loss   dfl_loss  Instances       Size\n"
     ]
    },
    {
     "name": "stderr",
     "output_type": "stream",
     "text": [
      "     97/100         0G      0.566     0.5486     0.9043         13        640: 100%|██████████| 1/1 [00:01<00:00,  1.69s/it]\n",
      "                 Class     Images  Instances      Box(P          R      mAP50  mAP50-95): 100%|██████████| 1/1 [00:00<00:00,  1.73it/s]"
     ]
    },
    {
     "name": "stdout",
     "output_type": "stream",
     "text": [
      "                   all          4         17      0.833      0.499      0.514      0.295\n"
     ]
    },
    {
     "name": "stderr",
     "output_type": "stream",
     "text": [
      "\n"
     ]
    },
    {
     "name": "stdout",
     "output_type": "stream",
     "text": [
      "\n",
      "      Epoch    GPU_mem   box_loss   cls_loss   dfl_loss  Instances       Size\n"
     ]
    },
    {
     "name": "stderr",
     "output_type": "stream",
     "text": [
      "     98/100         0G     0.6037     0.5583     0.9887         13        640: 100%|██████████| 1/1 [00:01<00:00,  1.66s/it]\n",
      "                 Class     Images  Instances      Box(P          R      mAP50  mAP50-95): 100%|██████████| 1/1 [00:01<00:00,  1.06s/it]"
     ]
    },
    {
     "name": "stdout",
     "output_type": "stream",
     "text": [
      "                   all          4         17      0.833      0.499      0.514      0.295\n"
     ]
    },
    {
     "name": "stderr",
     "output_type": "stream",
     "text": [
      "\n"
     ]
    },
    {
     "name": "stdout",
     "output_type": "stream",
     "text": [
      "\n",
      "      Epoch    GPU_mem   box_loss   cls_loss   dfl_loss  Instances       Size\n"
     ]
    },
    {
     "name": "stderr",
     "output_type": "stream",
     "text": [
      "     99/100         0G     0.6112     0.5318      1.048         13        640: 100%|██████████| 1/1 [00:01<00:00,  1.74s/it]\n",
      "                 Class     Images  Instances      Box(P          R      mAP50  mAP50-95): 100%|██████████| 1/1 [00:00<00:00,  1.81it/s]"
     ]
    },
    {
     "name": "stdout",
     "output_type": "stream",
     "text": [
      "                   all          4         17      0.833      0.499      0.514      0.295\n"
     ]
    },
    {
     "name": "stderr",
     "output_type": "stream",
     "text": [
      "\n"
     ]
    },
    {
     "name": "stdout",
     "output_type": "stream",
     "text": [
      "\n",
      "      Epoch    GPU_mem   box_loss   cls_loss   dfl_loss  Instances       Size\n"
     ]
    },
    {
     "name": "stderr",
     "output_type": "stream",
     "text": [
      "    100/100         0G     0.4175     0.4562     0.9523         13        640: 100%|██████████| 1/1 [00:01<00:00,  1.74s/it]\n",
      "                 Class     Images  Instances      Box(P          R      mAP50  mAP50-95): 100%|██████████| 1/1 [00:00<00:00,  1.66it/s]"
     ]
    },
    {
     "name": "stdout",
     "output_type": "stream",
     "text": [
      "                   all          4         17      0.642      0.513       0.54      0.288\n"
     ]
    },
    {
     "name": "stderr",
     "output_type": "stream",
     "text": [
      "\n"
     ]
    },
    {
     "name": "stdout",
     "output_type": "stream",
     "text": [
      "\n",
      "100 epochs completed in 0.080 hours.\n",
      "Optimizer stripped from D:\\programacion\\proyectos\\utec\\IA\\runs\\detect\\train8\\weights\\last.pt, 5.5MB\n",
      "Optimizer stripped from D:\\programacion\\proyectos\\utec\\IA\\runs\\detect\\train8\\weights\\best.pt, 5.5MB\n",
      "\n",
      "Validating D:\\programacion\\proyectos\\utec\\IA\\runs\\detect\\train8\\weights\\best.pt...\n",
      "Ultralytics 8.3.133  Python-3.13.1 torch-2.7.0+cpu CPU (Intel Core(TM) i7-9700KF 3.60GHz)\n",
      "YOLO11n summary (fused): 100 layers, 2,616,248 parameters, 0 gradients, 6.5 GFLOPs\n"
     ]
    },
    {
     "name": "stderr",
     "output_type": "stream",
     "text": [
      "                 Class     Images  Instances      Box(P          R      mAP50  mAP50-95): 100%|██████████| 1/1 [00:00<00:00,  2.48it/s]\n"
     ]
    },
    {
     "name": "stdout",
     "output_type": "stream",
     "text": [
      "                   all          4         17      0.657       0.94      0.914      0.653\n",
      "                person          3         10      0.618        0.7      0.673      0.333\n",
      "                   dog          1          1       0.53          1      0.995      0.796\n",
      "                 horse          1          2       0.62          1      0.995      0.676\n",
      "              elephant          1          2      0.647       0.94      0.828      0.323\n",
      "              umbrella          1          1      0.556          1      0.995      0.895\n",
      "          potted plant          1          1      0.973          1      0.995      0.895\n",
      "Speed: 3.1ms preprocess, 89.6ms inference, 0.0ms loss, 1.1ms postprocess per image\n",
      "Results saved to \u001B[1mD:\\programacion\\proyectos\\utec\\IA\\runs\\detect\\train8\u001B[0m\n"
     ]
    }
   ],
   "execution_count": 4
  },
  {
   "metadata": {
    "ExecuteTime": {
     "end_time": "2025-05-14T01:26:53.104207Z",
     "start_time": "2025-05-14T01:26:08.135246Z"
    }
   },
   "cell_type": "code",
   "source": [
    "path=r\"D:\\programacion\\proyectos\\utec\\IA\\modulo_2_only_yolo\\basic_use\\data\\test.mp4\"\n",
    "results=model(path, save=True, show=True)"
   ],
   "id": "e378fc9fed9614d0",
   "outputs": [
    {
     "name": "stdout",
     "output_type": "stream",
     "text": [
      "\n",
      "WARNING \n",
      "inference results will accumulate in RAM unless `stream=True` is passed, causing potential out-of-memory\n",
      "errors for large sources or long-running streams and videos. See https://docs.ultralytics.com/modes/predict/ for help.\n",
      "\n",
      "Example:\n",
      "    results = model(source=..., stream=True)  # generator of Results objects\n",
      "    for r in results:\n",
      "        boxes = r.boxes  # Boxes object for bbox outputs\n",
      "        masks = r.masks  # Masks object for segment masks outputs\n",
      "        probs = r.probs  # Class probabilities for classification outputs\n",
      "\n",
      "video 1/1 (frame 1/622) D:\\programacion\\proyectos\\utec\\IA\\modulo_2_only_yolo\\basic_use\\data\\test.mp4: 640x384 (no detections), 188.3ms\n",
      "video 1/1 (frame 2/622) D:\\programacion\\proyectos\\utec\\IA\\modulo_2_only_yolo\\basic_use\\data\\test.mp4: 640x384 (no detections), 110.6ms\n",
      "video 1/1 (frame 3/622) D:\\programacion\\proyectos\\utec\\IA\\modulo_2_only_yolo\\basic_use\\data\\test.mp4: 640x384 (no detections), 94.0ms\n",
      "video 1/1 (frame 4/622) D:\\programacion\\proyectos\\utec\\IA\\modulo_2_only_yolo\\basic_use\\data\\test.mp4: 640x384 2 persons, 1 bench, 56.0ms\n",
      "video 1/1 (frame 5/622) D:\\programacion\\proyectos\\utec\\IA\\modulo_2_only_yolo\\basic_use\\data\\test.mp4: 640x384 3 persons, 64.3ms\n",
      "video 1/1 (frame 6/622) D:\\programacion\\proyectos\\utec\\IA\\modulo_2_only_yolo\\basic_use\\data\\test.mp4: 640x384 3 persons, 1 chair, 64.9ms\n",
      "video 1/1 (frame 7/622) D:\\programacion\\proyectos\\utec\\IA\\modulo_2_only_yolo\\basic_use\\data\\test.mp4: 640x384 1 person, 65.0ms\n",
      "video 1/1 (frame 8/622) D:\\programacion\\proyectos\\utec\\IA\\modulo_2_only_yolo\\basic_use\\data\\test.mp4: 640x384 4 persons, 61.1ms\n",
      "video 1/1 (frame 9/622) D:\\programacion\\proyectos\\utec\\IA\\modulo_2_only_yolo\\basic_use\\data\\test.mp4: 640x384 4 persons, 45.5ms\n",
      "video 1/1 (frame 10/622) D:\\programacion\\proyectos\\utec\\IA\\modulo_2_only_yolo\\basic_use\\data\\test.mp4: 640x384 3 persons, 53.1ms\n",
      "video 1/1 (frame 11/622) D:\\programacion\\proyectos\\utec\\IA\\modulo_2_only_yolo\\basic_use\\data\\test.mp4: 640x384 5 persons, 66.8ms\n",
      "video 1/1 (frame 12/622) D:\\programacion\\proyectos\\utec\\IA\\modulo_2_only_yolo\\basic_use\\data\\test.mp4: 640x384 3 persons, 52.6ms\n",
      "video 1/1 (frame 13/622) D:\\programacion\\proyectos\\utec\\IA\\modulo_2_only_yolo\\basic_use\\data\\test.mp4: 640x384 4 persons, 67.9ms\n",
      "video 1/1 (frame 14/622) D:\\programacion\\proyectos\\utec\\IA\\modulo_2_only_yolo\\basic_use\\data\\test.mp4: 640x384 4 persons, 60.2ms\n",
      "video 1/1 (frame 15/622) D:\\programacion\\proyectos\\utec\\IA\\modulo_2_only_yolo\\basic_use\\data\\test.mp4: 640x384 5 persons, 44.8ms\n",
      "video 1/1 (frame 16/622) D:\\programacion\\proyectos\\utec\\IA\\modulo_2_only_yolo\\basic_use\\data\\test.mp4: 640x384 5 persons, 55.1ms\n",
      "video 1/1 (frame 17/622) D:\\programacion\\proyectos\\utec\\IA\\modulo_2_only_yolo\\basic_use\\data\\test.mp4: 640x384 5 persons, 1 handbag, 68.1ms\n",
      "video 1/1 (frame 18/622) D:\\programacion\\proyectos\\utec\\IA\\modulo_2_only_yolo\\basic_use\\data\\test.mp4: 640x384 4 persons, 77.4ms\n",
      "video 1/1 (frame 19/622) D:\\programacion\\proyectos\\utec\\IA\\modulo_2_only_yolo\\basic_use\\data\\test.mp4: 640x384 6 persons, 68.8ms\n",
      "video 1/1 (frame 20/622) D:\\programacion\\proyectos\\utec\\IA\\modulo_2_only_yolo\\basic_use\\data\\test.mp4: 640x384 4 persons, 66.5ms\n",
      "video 1/1 (frame 21/622) D:\\programacion\\proyectos\\utec\\IA\\modulo_2_only_yolo\\basic_use\\data\\test.mp4: 640x384 6 persons, 72.5ms\n",
      "video 1/1 (frame 22/622) D:\\programacion\\proyectos\\utec\\IA\\modulo_2_only_yolo\\basic_use\\data\\test.mp4: 640x384 6 persons, 75.1ms\n",
      "video 1/1 (frame 23/622) D:\\programacion\\proyectos\\utec\\IA\\modulo_2_only_yolo\\basic_use\\data\\test.mp4: 640x384 6 persons, 68.6ms\n",
      "video 1/1 (frame 24/622) D:\\programacion\\proyectos\\utec\\IA\\modulo_2_only_yolo\\basic_use\\data\\test.mp4: 640x384 5 persons, 60.0ms\n",
      "video 1/1 (frame 25/622) D:\\programacion\\proyectos\\utec\\IA\\modulo_2_only_yolo\\basic_use\\data\\test.mp4: 640x384 6 persons, 1 handbag, 66.2ms\n",
      "video 1/1 (frame 26/622) D:\\programacion\\proyectos\\utec\\IA\\modulo_2_only_yolo\\basic_use\\data\\test.mp4: 640x384 6 persons, 57.1ms\n",
      "video 1/1 (frame 27/622) D:\\programacion\\proyectos\\utec\\IA\\modulo_2_only_yolo\\basic_use\\data\\test.mp4: 640x384 5 persons, 55.5ms\n",
      "video 1/1 (frame 28/622) D:\\programacion\\proyectos\\utec\\IA\\modulo_2_only_yolo\\basic_use\\data\\test.mp4: 640x384 4 persons, 56.4ms\n",
      "video 1/1 (frame 29/622) D:\\programacion\\proyectos\\utec\\IA\\modulo_2_only_yolo\\basic_use\\data\\test.mp4: 640x384 4 persons, 54.9ms\n",
      "video 1/1 (frame 30/622) D:\\programacion\\proyectos\\utec\\IA\\modulo_2_only_yolo\\basic_use\\data\\test.mp4: 640x384 5 persons, 1 handbag, 59.0ms\n",
      "video 1/1 (frame 31/622) D:\\programacion\\proyectos\\utec\\IA\\modulo_2_only_yolo\\basic_use\\data\\test.mp4: 640x384 5 persons, 54.8ms\n",
      "video 1/1 (frame 32/622) D:\\programacion\\proyectos\\utec\\IA\\modulo_2_only_yolo\\basic_use\\data\\test.mp4: 640x384 2 persons, 49.6ms\n",
      "video 1/1 (frame 33/622) D:\\programacion\\proyectos\\utec\\IA\\modulo_2_only_yolo\\basic_use\\data\\test.mp4: 640x384 4 persons, 52.9ms\n",
      "video 1/1 (frame 34/622) D:\\programacion\\proyectos\\utec\\IA\\modulo_2_only_yolo\\basic_use\\data\\test.mp4: 640x384 3 persons, 51.4ms\n",
      "video 1/1 (frame 35/622) D:\\programacion\\proyectos\\utec\\IA\\modulo_2_only_yolo\\basic_use\\data\\test.mp4: 640x384 3 persons, 45.2ms\n",
      "video 1/1 (frame 36/622) D:\\programacion\\proyectos\\utec\\IA\\modulo_2_only_yolo\\basic_use\\data\\test.mp4: 640x384 5 persons, 48.7ms\n",
      "video 1/1 (frame 37/622) D:\\programacion\\proyectos\\utec\\IA\\modulo_2_only_yolo\\basic_use\\data\\test.mp4: 640x384 3 persons, 46.7ms\n",
      "video 1/1 (frame 38/622) D:\\programacion\\proyectos\\utec\\IA\\modulo_2_only_yolo\\basic_use\\data\\test.mp4: 640x384 3 persons, 49.4ms\n",
      "video 1/1 (frame 39/622) D:\\programacion\\proyectos\\utec\\IA\\modulo_2_only_yolo\\basic_use\\data\\test.mp4: 640x384 3 persons, 47.5ms\n",
      "video 1/1 (frame 40/622) D:\\programacion\\proyectos\\utec\\IA\\modulo_2_only_yolo\\basic_use\\data\\test.mp4: 640x384 4 persons, 1 handbag, 56.6ms\n",
      "video 1/1 (frame 41/622) D:\\programacion\\proyectos\\utec\\IA\\modulo_2_only_yolo\\basic_use\\data\\test.mp4: 640x384 5 persons, 52.0ms\n",
      "video 1/1 (frame 42/622) D:\\programacion\\proyectos\\utec\\IA\\modulo_2_only_yolo\\basic_use\\data\\test.mp4: 640x384 5 persons, 52.2ms\n",
      "video 1/1 (frame 43/622) D:\\programacion\\proyectos\\utec\\IA\\modulo_2_only_yolo\\basic_use\\data\\test.mp4: 640x384 4 persons, 53.0ms\n",
      "video 1/1 (frame 44/622) D:\\programacion\\proyectos\\utec\\IA\\modulo_2_only_yolo\\basic_use\\data\\test.mp4: 640x384 4 persons, 1 handbag, 59.9ms\n",
      "video 1/1 (frame 45/622) D:\\programacion\\proyectos\\utec\\IA\\modulo_2_only_yolo\\basic_use\\data\\test.mp4: 640x384 5 persons, 1 handbag, 50.4ms\n",
      "video 1/1 (frame 46/622) D:\\programacion\\proyectos\\utec\\IA\\modulo_2_only_yolo\\basic_use\\data\\test.mp4: 640x384 6 persons, 57.1ms\n",
      "video 1/1 (frame 47/622) D:\\programacion\\proyectos\\utec\\IA\\modulo_2_only_yolo\\basic_use\\data\\test.mp4: 640x384 5 persons, 59.1ms\n",
      "video 1/1 (frame 48/622) D:\\programacion\\proyectos\\utec\\IA\\modulo_2_only_yolo\\basic_use\\data\\test.mp4: 640x384 4 persons, 46.0ms\n",
      "video 1/1 (frame 49/622) D:\\programacion\\proyectos\\utec\\IA\\modulo_2_only_yolo\\basic_use\\data\\test.mp4: 640x384 6 persons, 54.0ms\n",
      "video 1/1 (frame 50/622) D:\\programacion\\proyectos\\utec\\IA\\modulo_2_only_yolo\\basic_use\\data\\test.mp4: 640x384 2 persons, 45.7ms\n",
      "video 1/1 (frame 51/622) D:\\programacion\\proyectos\\utec\\IA\\modulo_2_only_yolo\\basic_use\\data\\test.mp4: 640x384 3 persons, 50.2ms\n",
      "video 1/1 (frame 52/622) D:\\programacion\\proyectos\\utec\\IA\\modulo_2_only_yolo\\basic_use\\data\\test.mp4: 640x384 3 persons, 50.7ms\n",
      "video 1/1 (frame 53/622) D:\\programacion\\proyectos\\utec\\IA\\modulo_2_only_yolo\\basic_use\\data\\test.mp4: 640x384 2 persons, 54.7ms\n",
      "video 1/1 (frame 54/622) D:\\programacion\\proyectos\\utec\\IA\\modulo_2_only_yolo\\basic_use\\data\\test.mp4: 640x384 1 person, 52.4ms\n",
      "video 1/1 (frame 55/622) D:\\programacion\\proyectos\\utec\\IA\\modulo_2_only_yolo\\basic_use\\data\\test.mp4: 640x384 2 persons, 50.9ms\n",
      "video 1/1 (frame 56/622) D:\\programacion\\proyectos\\utec\\IA\\modulo_2_only_yolo\\basic_use\\data\\test.mp4: 640x384 2 persons, 46.9ms\n",
      "video 1/1 (frame 57/622) D:\\programacion\\proyectos\\utec\\IA\\modulo_2_only_yolo\\basic_use\\data\\test.mp4: 640x384 3 persons, 1 umbrella, 52.8ms\n",
      "video 1/1 (frame 58/622) D:\\programacion\\proyectos\\utec\\IA\\modulo_2_only_yolo\\basic_use\\data\\test.mp4: 640x384 1 person, 49.5ms\n",
      "video 1/1 (frame 59/622) D:\\programacion\\proyectos\\utec\\IA\\modulo_2_only_yolo\\basic_use\\data\\test.mp4: 640x384 1 person, 47.5ms\n",
      "video 1/1 (frame 60/622) D:\\programacion\\proyectos\\utec\\IA\\modulo_2_only_yolo\\basic_use\\data\\test.mp4: 640x384 2 persons, 46.9ms\n",
      "video 1/1 (frame 61/622) D:\\programacion\\proyectos\\utec\\IA\\modulo_2_only_yolo\\basic_use\\data\\test.mp4: 640x384 1 person, 48.2ms\n",
      "video 1/1 (frame 62/622) D:\\programacion\\proyectos\\utec\\IA\\modulo_2_only_yolo\\basic_use\\data\\test.mp4: 640x384 3 persons, 57.7ms\n",
      "video 1/1 (frame 63/622) D:\\programacion\\proyectos\\utec\\IA\\modulo_2_only_yolo\\basic_use\\data\\test.mp4: 640x384 2 persons, 48.3ms\n",
      "video 1/1 (frame 64/622) D:\\programacion\\proyectos\\utec\\IA\\modulo_2_only_yolo\\basic_use\\data\\test.mp4: 640x384 3 persons, 56.1ms\n",
      "video 1/1 (frame 65/622) D:\\programacion\\proyectos\\utec\\IA\\modulo_2_only_yolo\\basic_use\\data\\test.mp4: 640x384 2 persons, 50.7ms\n",
      "video 1/1 (frame 66/622) D:\\programacion\\proyectos\\utec\\IA\\modulo_2_only_yolo\\basic_use\\data\\test.mp4: 640x384 4 persons, 45.9ms\n",
      "video 1/1 (frame 67/622) D:\\programacion\\proyectos\\utec\\IA\\modulo_2_only_yolo\\basic_use\\data\\test.mp4: 640x384 4 persons, 46.0ms\n",
      "video 1/1 (frame 68/622) D:\\programacion\\proyectos\\utec\\IA\\modulo_2_only_yolo\\basic_use\\data\\test.mp4: 640x384 4 persons, 54.0ms\n",
      "video 1/1 (frame 69/622) D:\\programacion\\proyectos\\utec\\IA\\modulo_2_only_yolo\\basic_use\\data\\test.mp4: 640x384 2 persons, 54.3ms\n",
      "video 1/1 (frame 70/622) D:\\programacion\\proyectos\\utec\\IA\\modulo_2_only_yolo\\basic_use\\data\\test.mp4: 640x384 2 persons, 66.7ms\n",
      "video 1/1 (frame 71/622) D:\\programacion\\proyectos\\utec\\IA\\modulo_2_only_yolo\\basic_use\\data\\test.mp4: 640x384 2 persons, 57.8ms\n",
      "video 1/1 (frame 72/622) D:\\programacion\\proyectos\\utec\\IA\\modulo_2_only_yolo\\basic_use\\data\\test.mp4: 640x384 2 persons, 54.6ms\n",
      "video 1/1 (frame 73/622) D:\\programacion\\proyectos\\utec\\IA\\modulo_2_only_yolo\\basic_use\\data\\test.mp4: 640x384 1 person, 56.8ms\n",
      "video 1/1 (frame 74/622) D:\\programacion\\proyectos\\utec\\IA\\modulo_2_only_yolo\\basic_use\\data\\test.mp4: 640x384 5 persons, 56.5ms\n",
      "video 1/1 (frame 75/622) D:\\programacion\\proyectos\\utec\\IA\\modulo_2_only_yolo\\basic_use\\data\\test.mp4: 640x384 4 persons, 1 handbag, 54.6ms\n",
      "video 1/1 (frame 76/622) D:\\programacion\\proyectos\\utec\\IA\\modulo_2_only_yolo\\basic_use\\data\\test.mp4: 640x384 4 persons, 1 umbrella, 54.5ms\n",
      "video 1/1 (frame 77/622) D:\\programacion\\proyectos\\utec\\IA\\modulo_2_only_yolo\\basic_use\\data\\test.mp4: 640x384 2 persons, 1 umbrella, 45.9ms\n",
      "video 1/1 (frame 78/622) D:\\programacion\\proyectos\\utec\\IA\\modulo_2_only_yolo\\basic_use\\data\\test.mp4: 640x384 4 persons, 1 umbrella, 53.8ms\n",
      "video 1/1 (frame 79/622) D:\\programacion\\proyectos\\utec\\IA\\modulo_2_only_yolo\\basic_use\\data\\test.mp4: 640x384 2 persons, 1 umbrella, 45.7ms\n",
      "video 1/1 (frame 80/622) D:\\programacion\\proyectos\\utec\\IA\\modulo_2_only_yolo\\basic_use\\data\\test.mp4: 640x384 6 persons, 1 umbrella, 44.4ms\n",
      "video 1/1 (frame 81/622) D:\\programacion\\proyectos\\utec\\IA\\modulo_2_only_yolo\\basic_use\\data\\test.mp4: 640x384 4 persons, 47.9ms\n",
      "video 1/1 (frame 82/622) D:\\programacion\\proyectos\\utec\\IA\\modulo_2_only_yolo\\basic_use\\data\\test.mp4: 640x384 5 persons, 1 dog, 1 umbrella, 1 bottle, 51.9ms\n",
      "video 1/1 (frame 83/622) D:\\programacion\\proyectos\\utec\\IA\\modulo_2_only_yolo\\basic_use\\data\\test.mp4: 640x384 4 persons, 48.2ms\n",
      "video 1/1 (frame 84/622) D:\\programacion\\proyectos\\utec\\IA\\modulo_2_only_yolo\\basic_use\\data\\test.mp4: 640x384 4 persons, 1 dog, 47.5ms\n",
      "video 1/1 (frame 85/622) D:\\programacion\\proyectos\\utec\\IA\\modulo_2_only_yolo\\basic_use\\data\\test.mp4: 640x384 5 persons, 45.5ms\n",
      "video 1/1 (frame 86/622) D:\\programacion\\proyectos\\utec\\IA\\modulo_2_only_yolo\\basic_use\\data\\test.mp4: 640x384 5 persons, 52.8ms\n",
      "video 1/1 (frame 87/622) D:\\programacion\\proyectos\\utec\\IA\\modulo_2_only_yolo\\basic_use\\data\\test.mp4: 640x384 5 persons, 47.5ms\n",
      "video 1/1 (frame 88/622) D:\\programacion\\proyectos\\utec\\IA\\modulo_2_only_yolo\\basic_use\\data\\test.mp4: 640x384 5 persons, 47.4ms\n",
      "video 1/1 (frame 89/622) D:\\programacion\\proyectos\\utec\\IA\\modulo_2_only_yolo\\basic_use\\data\\test.mp4: 640x384 2 persons, 45.1ms\n",
      "video 1/1 (frame 90/622) D:\\programacion\\proyectos\\utec\\IA\\modulo_2_only_yolo\\basic_use\\data\\test.mp4: 640x384 3 persons, 45.0ms\n",
      "video 1/1 (frame 91/622) D:\\programacion\\proyectos\\utec\\IA\\modulo_2_only_yolo\\basic_use\\data\\test.mp4: 640x384 3 persons, 1 handbag, 50.6ms\n",
      "video 1/1 (frame 92/622) D:\\programacion\\proyectos\\utec\\IA\\modulo_2_only_yolo\\basic_use\\data\\test.mp4: 640x384 3 persons, 1 handbag, 48.1ms\n",
      "video 1/1 (frame 93/622) D:\\programacion\\proyectos\\utec\\IA\\modulo_2_only_yolo\\basic_use\\data\\test.mp4: 640x384 3 persons, 1 handbag, 47.5ms\n",
      "video 1/1 (frame 94/622) D:\\programacion\\proyectos\\utec\\IA\\modulo_2_only_yolo\\basic_use\\data\\test.mp4: 640x384 4 persons, 1 handbag, 1 cell phone, 51.0ms\n",
      "video 1/1 (frame 95/622) D:\\programacion\\proyectos\\utec\\IA\\modulo_2_only_yolo\\basic_use\\data\\test.mp4: 640x384 4 persons, 1 handbag, 1 cell phone, 51.8ms\n",
      "video 1/1 (frame 96/622) D:\\programacion\\proyectos\\utec\\IA\\modulo_2_only_yolo\\basic_use\\data\\test.mp4: 640x384 3 persons, 1 cell phone, 48.8ms\n",
      "video 1/1 (frame 97/622) D:\\programacion\\proyectos\\utec\\IA\\modulo_2_only_yolo\\basic_use\\data\\test.mp4: 640x384 4 persons, 48.1ms\n",
      "video 1/1 (frame 98/622) D:\\programacion\\proyectos\\utec\\IA\\modulo_2_only_yolo\\basic_use\\data\\test.mp4: 640x384 5 persons, 1 handbag, 47.5ms\n",
      "video 1/1 (frame 99/622) D:\\programacion\\proyectos\\utec\\IA\\modulo_2_only_yolo\\basic_use\\data\\test.mp4: 640x384 4 persons, 48.8ms\n",
      "video 1/1 (frame 100/622) D:\\programacion\\proyectos\\utec\\IA\\modulo_2_only_yolo\\basic_use\\data\\test.mp4: 640x384 2 persons, 1 handbag, 51.0ms\n",
      "video 1/1 (frame 101/622) D:\\programacion\\proyectos\\utec\\IA\\modulo_2_only_yolo\\basic_use\\data\\test.mp4: 640x384 3 persons, 1 handbag, 56.2ms\n",
      "video 1/1 (frame 102/622) D:\\programacion\\proyectos\\utec\\IA\\modulo_2_only_yolo\\basic_use\\data\\test.mp4: 640x384 2 persons, 55.6ms\n",
      "video 1/1 (frame 103/622) D:\\programacion\\proyectos\\utec\\IA\\modulo_2_only_yolo\\basic_use\\data\\test.mp4: 640x384 4 persons, 55.6ms\n",
      "video 1/1 (frame 104/622) D:\\programacion\\proyectos\\utec\\IA\\modulo_2_only_yolo\\basic_use\\data\\test.mp4: 640x384 5 persons, 53.1ms\n",
      "video 1/1 (frame 105/622) D:\\programacion\\proyectos\\utec\\IA\\modulo_2_only_yolo\\basic_use\\data\\test.mp4: 640x384 5 persons, 53.1ms\n",
      "video 1/1 (frame 106/622) D:\\programacion\\proyectos\\utec\\IA\\modulo_2_only_yolo\\basic_use\\data\\test.mp4: 640x384 4 persons, 1 handbag, 53.5ms\n",
      "video 1/1 (frame 107/622) D:\\programacion\\proyectos\\utec\\IA\\modulo_2_only_yolo\\basic_use\\data\\test.mp4: 640x384 2 persons, 54.9ms\n",
      "video 1/1 (frame 108/622) D:\\programacion\\proyectos\\utec\\IA\\modulo_2_only_yolo\\basic_use\\data\\test.mp4: 640x384 2 persons, 1 handbag, 52.5ms\n",
      "video 1/1 (frame 109/622) D:\\programacion\\proyectos\\utec\\IA\\modulo_2_only_yolo\\basic_use\\data\\test.mp4: 640x384 4 persons, 1 banana, 90.6ms\n",
      "video 1/1 (frame 110/622) D:\\programacion\\proyectos\\utec\\IA\\modulo_2_only_yolo\\basic_use\\data\\test.mp4: 640x384 2 persons, 1 handbag, 1 banana, 60.6ms\n",
      "video 1/1 (frame 111/622) D:\\programacion\\proyectos\\utec\\IA\\modulo_2_only_yolo\\basic_use\\data\\test.mp4: 640x384 2 persons, 53.9ms\n",
      "video 1/1 (frame 112/622) D:\\programacion\\proyectos\\utec\\IA\\modulo_2_only_yolo\\basic_use\\data\\test.mp4: 640x384 2 persons, 46.6ms\n",
      "video 1/1 (frame 113/622) D:\\programacion\\proyectos\\utec\\IA\\modulo_2_only_yolo\\basic_use\\data\\test.mp4: 640x384 3 persons, 47.0ms\n",
      "video 1/1 (frame 114/622) D:\\programacion\\proyectos\\utec\\IA\\modulo_2_only_yolo\\basic_use\\data\\test.mp4: 640x384 1 person, 52.3ms\n",
      "video 1/1 (frame 115/622) D:\\programacion\\proyectos\\utec\\IA\\modulo_2_only_yolo\\basic_use\\data\\test.mp4: 640x384 1 person, 51.6ms\n",
      "video 1/1 (frame 116/622) D:\\programacion\\proyectos\\utec\\IA\\modulo_2_only_yolo\\basic_use\\data\\test.mp4: 640x384 2 persons, 48.6ms\n",
      "video 1/1 (frame 117/622) D:\\programacion\\proyectos\\utec\\IA\\modulo_2_only_yolo\\basic_use\\data\\test.mp4: 640x384 3 persons, 45.9ms\n",
      "video 1/1 (frame 118/622) D:\\programacion\\proyectos\\utec\\IA\\modulo_2_only_yolo\\basic_use\\data\\test.mp4: 640x384 3 persons, 49.0ms\n",
      "video 1/1 (frame 119/622) D:\\programacion\\proyectos\\utec\\IA\\modulo_2_only_yolo\\basic_use\\data\\test.mp4: 640x384 4 persons, 46.5ms\n",
      "video 1/1 (frame 120/622) D:\\programacion\\proyectos\\utec\\IA\\modulo_2_only_yolo\\basic_use\\data\\test.mp4: 640x384 5 persons, 48.8ms\n",
      "video 1/1 (frame 121/622) D:\\programacion\\proyectos\\utec\\IA\\modulo_2_only_yolo\\basic_use\\data\\test.mp4: 640x384 2 persons, 44.4ms\n",
      "video 1/1 (frame 122/622) D:\\programacion\\proyectos\\utec\\IA\\modulo_2_only_yolo\\basic_use\\data\\test.mp4: 640x384 1 person, 2 umbrellas, 46.9ms\n",
      "video 1/1 (frame 123/622) D:\\programacion\\proyectos\\utec\\IA\\modulo_2_only_yolo\\basic_use\\data\\test.mp4: 640x384 2 persons, 51.4ms\n",
      "video 1/1 (frame 124/622) D:\\programacion\\proyectos\\utec\\IA\\modulo_2_only_yolo\\basic_use\\data\\test.mp4: 640x384 1 person, 54.3ms\n",
      "video 1/1 (frame 125/622) D:\\programacion\\proyectos\\utec\\IA\\modulo_2_only_yolo\\basic_use\\data\\test.mp4: 640x384 1 person, 52.4ms\n",
      "video 1/1 (frame 126/622) D:\\programacion\\proyectos\\utec\\IA\\modulo_2_only_yolo\\basic_use\\data\\test.mp4: 640x384 1 person, 58.8ms\n",
      "video 1/1 (frame 127/622) D:\\programacion\\proyectos\\utec\\IA\\modulo_2_only_yolo\\basic_use\\data\\test.mp4: 640x384 1 person, 58.7ms\n",
      "video 1/1 (frame 128/622) D:\\programacion\\proyectos\\utec\\IA\\modulo_2_only_yolo\\basic_use\\data\\test.mp4: 640x384 1 person, 52.5ms\n",
      "video 1/1 (frame 129/622) D:\\programacion\\proyectos\\utec\\IA\\modulo_2_only_yolo\\basic_use\\data\\test.mp4: 640x384 1 person, 53.2ms\n",
      "video 1/1 (frame 130/622) D:\\programacion\\proyectos\\utec\\IA\\modulo_2_only_yolo\\basic_use\\data\\test.mp4: 640x384 1 person, 57.9ms\n",
      "video 1/1 (frame 131/622) D:\\programacion\\proyectos\\utec\\IA\\modulo_2_only_yolo\\basic_use\\data\\test.mp4: 640x384 (no detections), 53.8ms\n",
      "video 1/1 (frame 132/622) D:\\programacion\\proyectos\\utec\\IA\\modulo_2_only_yolo\\basic_use\\data\\test.mp4: 640x384 (no detections), 57.3ms\n",
      "video 1/1 (frame 133/622) D:\\programacion\\proyectos\\utec\\IA\\modulo_2_only_yolo\\basic_use\\data\\test.mp4: 640x384 1 person, 53.5ms\n",
      "video 1/1 (frame 134/622) D:\\programacion\\proyectos\\utec\\IA\\modulo_2_only_yolo\\basic_use\\data\\test.mp4: 640x384 1 person, 56.9ms\n",
      "video 1/1 (frame 135/622) D:\\programacion\\proyectos\\utec\\IA\\modulo_2_only_yolo\\basic_use\\data\\test.mp4: 640x384 1 person, 57.1ms\n",
      "video 1/1 (frame 136/622) D:\\programacion\\proyectos\\utec\\IA\\modulo_2_only_yolo\\basic_use\\data\\test.mp4: 640x384 1 person, 50.0ms\n",
      "video 1/1 (frame 137/622) D:\\programacion\\proyectos\\utec\\IA\\modulo_2_only_yolo\\basic_use\\data\\test.mp4: 640x384 1 person, 52.0ms\n",
      "video 1/1 (frame 138/622) D:\\programacion\\proyectos\\utec\\IA\\modulo_2_only_yolo\\basic_use\\data\\test.mp4: 640x384 1 person, 49.8ms\n",
      "video 1/1 (frame 139/622) D:\\programacion\\proyectos\\utec\\IA\\modulo_2_only_yolo\\basic_use\\data\\test.mp4: 640x384 1 person, 50.7ms\n",
      "video 1/1 (frame 140/622) D:\\programacion\\proyectos\\utec\\IA\\modulo_2_only_yolo\\basic_use\\data\\test.mp4: 640x384 2 persons, 46.8ms\n",
      "video 1/1 (frame 141/622) D:\\programacion\\proyectos\\utec\\IA\\modulo_2_only_yolo\\basic_use\\data\\test.mp4: 640x384 2 persons, 47.8ms\n",
      "video 1/1 (frame 142/622) D:\\programacion\\proyectos\\utec\\IA\\modulo_2_only_yolo\\basic_use\\data\\test.mp4: 640x384 3 persons, 57.6ms\n",
      "video 1/1 (frame 143/622) D:\\programacion\\proyectos\\utec\\IA\\modulo_2_only_yolo\\basic_use\\data\\test.mp4: 640x384 1 person, 49.0ms\n",
      "video 1/1 (frame 144/622) D:\\programacion\\proyectos\\utec\\IA\\modulo_2_only_yolo\\basic_use\\data\\test.mp4: 640x384 2 persons, 43.7ms\n",
      "video 1/1 (frame 145/622) D:\\programacion\\proyectos\\utec\\IA\\modulo_2_only_yolo\\basic_use\\data\\test.mp4: 640x384 1 person, 46.2ms\n",
      "video 1/1 (frame 146/622) D:\\programacion\\proyectos\\utec\\IA\\modulo_2_only_yolo\\basic_use\\data\\test.mp4: 640x384 1 person, 48.2ms\n",
      "video 1/1 (frame 147/622) D:\\programacion\\proyectos\\utec\\IA\\modulo_2_only_yolo\\basic_use\\data\\test.mp4: 640x384 1 person, 50.7ms\n",
      "video 1/1 (frame 148/622) D:\\programacion\\proyectos\\utec\\IA\\modulo_2_only_yolo\\basic_use\\data\\test.mp4: 640x384 1 person, 47.1ms\n",
      "video 1/1 (frame 149/622) D:\\programacion\\proyectos\\utec\\IA\\modulo_2_only_yolo\\basic_use\\data\\test.mp4: 640x384 2 persons, 45.6ms\n",
      "video 1/1 (frame 150/622) D:\\programacion\\proyectos\\utec\\IA\\modulo_2_only_yolo\\basic_use\\data\\test.mp4: 640x384 1 person, 46.0ms\n",
      "video 1/1 (frame 151/622) D:\\programacion\\proyectos\\utec\\IA\\modulo_2_only_yolo\\basic_use\\data\\test.mp4: 640x384 1 person, 51.3ms\n",
      "video 1/1 (frame 152/622) D:\\programacion\\proyectos\\utec\\IA\\modulo_2_only_yolo\\basic_use\\data\\test.mp4: 640x384 (no detections), 48.6ms\n",
      "video 1/1 (frame 153/622) D:\\programacion\\proyectos\\utec\\IA\\modulo_2_only_yolo\\basic_use\\data\\test.mp4: 640x384 1 person, 54.2ms\n",
      "video 1/1 (frame 154/622) D:\\programacion\\proyectos\\utec\\IA\\modulo_2_only_yolo\\basic_use\\data\\test.mp4: 640x384 1 person, 46.0ms\n",
      "video 1/1 (frame 155/622) D:\\programacion\\proyectos\\utec\\IA\\modulo_2_only_yolo\\basic_use\\data\\test.mp4: 640x384 2 persons, 49.3ms\n",
      "video 1/1 (frame 156/622) D:\\programacion\\proyectos\\utec\\IA\\modulo_2_only_yolo\\basic_use\\data\\test.mp4: 640x384 2 persons, 45.4ms\n",
      "video 1/1 (frame 157/622) D:\\programacion\\proyectos\\utec\\IA\\modulo_2_only_yolo\\basic_use\\data\\test.mp4: 640x384 2 persons, 48.4ms\n",
      "video 1/1 (frame 158/622) D:\\programacion\\proyectos\\utec\\IA\\modulo_2_only_yolo\\basic_use\\data\\test.mp4: 640x384 1 person, 47.9ms\n",
      "video 1/1 (frame 159/622) D:\\programacion\\proyectos\\utec\\IA\\modulo_2_only_yolo\\basic_use\\data\\test.mp4: 640x384 1 person, 52.8ms\n",
      "video 1/1 (frame 160/622) D:\\programacion\\proyectos\\utec\\IA\\modulo_2_only_yolo\\basic_use\\data\\test.mp4: 640x384 1 handbag, 1 sports ball, 54.8ms\n",
      "video 1/1 (frame 161/622) D:\\programacion\\proyectos\\utec\\IA\\modulo_2_only_yolo\\basic_use\\data\\test.mp4: 640x384 1 sports ball, 60.1ms\n",
      "video 1/1 (frame 162/622) D:\\programacion\\proyectos\\utec\\IA\\modulo_2_only_yolo\\basic_use\\data\\test.mp4: 640x384 1 person, 56.4ms\n",
      "video 1/1 (frame 163/622) D:\\programacion\\proyectos\\utec\\IA\\modulo_2_only_yolo\\basic_use\\data\\test.mp4: 640x384 2 persons, 1 umbrella, 51.4ms\n",
      "video 1/1 (frame 164/622) D:\\programacion\\proyectos\\utec\\IA\\modulo_2_only_yolo\\basic_use\\data\\test.mp4: 640x384 1 person, 1 umbrella, 55.6ms\n",
      "video 1/1 (frame 165/622) D:\\programacion\\proyectos\\utec\\IA\\modulo_2_only_yolo\\basic_use\\data\\test.mp4: 640x384 1 person, 1 umbrella, 1 banana, 55.9ms\n",
      "video 1/1 (frame 166/622) D:\\programacion\\proyectos\\utec\\IA\\modulo_2_only_yolo\\basic_use\\data\\test.mp4: 640x384 6 persons, 1 handbag, 1 banana, 66.3ms\n",
      "video 1/1 (frame 167/622) D:\\programacion\\proyectos\\utec\\IA\\modulo_2_only_yolo\\basic_use\\data\\test.mp4: 640x384 5 persons, 1 umbrella, 59.6ms\n",
      "video 1/1 (frame 168/622) D:\\programacion\\proyectos\\utec\\IA\\modulo_2_only_yolo\\basic_use\\data\\test.mp4: 640x384 3 persons, 1 banana, 43.8ms\n",
      "video 1/1 (frame 169/622) D:\\programacion\\proyectos\\utec\\IA\\modulo_2_only_yolo\\basic_use\\data\\test.mp4: 640x384 4 persons, 1 umbrella, 44.4ms\n",
      "video 1/1 (frame 170/622) D:\\programacion\\proyectos\\utec\\IA\\modulo_2_only_yolo\\basic_use\\data\\test.mp4: 640x384 3 persons, 49.2ms\n",
      "video 1/1 (frame 171/622) D:\\programacion\\proyectos\\utec\\IA\\modulo_2_only_yolo\\basic_use\\data\\test.mp4: 640x384 2 persons, 48.4ms\n",
      "video 1/1 (frame 172/622) D:\\programacion\\proyectos\\utec\\IA\\modulo_2_only_yolo\\basic_use\\data\\test.mp4: 640x384 4 persons, 2 umbrellas, 49.1ms\n",
      "video 1/1 (frame 173/622) D:\\programacion\\proyectos\\utec\\IA\\modulo_2_only_yolo\\basic_use\\data\\test.mp4: 640x384 2 persons, 46.6ms\n",
      "video 1/1 (frame 174/622) D:\\programacion\\proyectos\\utec\\IA\\modulo_2_only_yolo\\basic_use\\data\\test.mp4: 640x384 3 persons, 50.2ms\n",
      "video 1/1 (frame 175/622) D:\\programacion\\proyectos\\utec\\IA\\modulo_2_only_yolo\\basic_use\\data\\test.mp4: 640x384 3 persons, 46.7ms\n",
      "video 1/1 (frame 176/622) D:\\programacion\\proyectos\\utec\\IA\\modulo_2_only_yolo\\basic_use\\data\\test.mp4: 640x384 2 persons, 1 umbrella, 46.9ms\n",
      "video 1/1 (frame 177/622) D:\\programacion\\proyectos\\utec\\IA\\modulo_2_only_yolo\\basic_use\\data\\test.mp4: 640x384 4 persons, 44.5ms\n",
      "video 1/1 (frame 178/622) D:\\programacion\\proyectos\\utec\\IA\\modulo_2_only_yolo\\basic_use\\data\\test.mp4: 640x384 4 persons, 1 umbrella, 46.2ms\n",
      "video 1/1 (frame 179/622) D:\\programacion\\proyectos\\utec\\IA\\modulo_2_only_yolo\\basic_use\\data\\test.mp4: 640x384 3 persons, 45.5ms\n",
      "video 1/1 (frame 180/622) D:\\programacion\\proyectos\\utec\\IA\\modulo_2_only_yolo\\basic_use\\data\\test.mp4: 640x384 4 persons, 45.9ms\n",
      "video 1/1 (frame 181/622) D:\\programacion\\proyectos\\utec\\IA\\modulo_2_only_yolo\\basic_use\\data\\test.mp4: 640x384 4 persons, 48.9ms\n",
      "video 1/1 (frame 182/622) D:\\programacion\\proyectos\\utec\\IA\\modulo_2_only_yolo\\basic_use\\data\\test.mp4: 640x384 4 persons, 46.3ms\n",
      "video 1/1 (frame 183/622) D:\\programacion\\proyectos\\utec\\IA\\modulo_2_only_yolo\\basic_use\\data\\test.mp4: 640x384 5 persons, 54.6ms\n",
      "video 1/1 (frame 184/622) D:\\programacion\\proyectos\\utec\\IA\\modulo_2_only_yolo\\basic_use\\data\\test.mp4: 640x384 4 persons, 45.3ms\n",
      "video 1/1 (frame 185/622) D:\\programacion\\proyectos\\utec\\IA\\modulo_2_only_yolo\\basic_use\\data\\test.mp4: 640x384 5 persons, 48.0ms\n",
      "video 1/1 (frame 186/622) D:\\programacion\\proyectos\\utec\\IA\\modulo_2_only_yolo\\basic_use\\data\\test.mp4: 640x384 5 persons, 48.7ms\n",
      "video 1/1 (frame 187/622) D:\\programacion\\proyectos\\utec\\IA\\modulo_2_only_yolo\\basic_use\\data\\test.mp4: 640x384 5 persons, 1 handbag, 51.0ms\n",
      "video 1/1 (frame 188/622) D:\\programacion\\proyectos\\utec\\IA\\modulo_2_only_yolo\\basic_use\\data\\test.mp4: 640x384 5 persons, 49.2ms\n",
      "video 1/1 (frame 189/622) D:\\programacion\\proyectos\\utec\\IA\\modulo_2_only_yolo\\basic_use\\data\\test.mp4: 640x384 6 persons, 1 handbag, 46.7ms\n",
      "video 1/1 (frame 190/622) D:\\programacion\\proyectos\\utec\\IA\\modulo_2_only_yolo\\basic_use\\data\\test.mp4: 640x384 6 persons, 1 handbag, 54.7ms\n",
      "video 1/1 (frame 191/622) D:\\programacion\\proyectos\\utec\\IA\\modulo_2_only_yolo\\basic_use\\data\\test.mp4: 640x384 5 persons, 1 handbag, 58.8ms\n",
      "video 1/1 (frame 192/622) D:\\programacion\\proyectos\\utec\\IA\\modulo_2_only_yolo\\basic_use\\data\\test.mp4: 640x384 5 persons, 2 handbags, 55.5ms\n",
      "video 1/1 (frame 193/622) D:\\programacion\\proyectos\\utec\\IA\\modulo_2_only_yolo\\basic_use\\data\\test.mp4: 640x384 6 persons, 1 handbag, 57.8ms\n",
      "video 1/1 (frame 194/622) D:\\programacion\\proyectos\\utec\\IA\\modulo_2_only_yolo\\basic_use\\data\\test.mp4: 640x384 5 persons, 1 handbag, 52.9ms\n",
      "video 1/1 (frame 195/622) D:\\programacion\\proyectos\\utec\\IA\\modulo_2_only_yolo\\basic_use\\data\\test.mp4: 640x384 6 persons, 1 handbag, 55.1ms\n",
      "video 1/1 (frame 196/622) D:\\programacion\\proyectos\\utec\\IA\\modulo_2_only_yolo\\basic_use\\data\\test.mp4: 640x384 5 persons, 53.9ms\n",
      "video 1/1 (frame 197/622) D:\\programacion\\proyectos\\utec\\IA\\modulo_2_only_yolo\\basic_use\\data\\test.mp4: 640x384 4 persons, 1 handbag, 51.0ms\n",
      "video 1/1 (frame 198/622) D:\\programacion\\proyectos\\utec\\IA\\modulo_2_only_yolo\\basic_use\\data\\test.mp4: 640x384 3 persons, 54.8ms\n",
      "video 1/1 (frame 199/622) D:\\programacion\\proyectos\\utec\\IA\\modulo_2_only_yolo\\basic_use\\data\\test.mp4: 640x384 3 persons, 1 handbag, 46.4ms\n",
      "video 1/1 (frame 200/622) D:\\programacion\\proyectos\\utec\\IA\\modulo_2_only_yolo\\basic_use\\data\\test.mp4: 640x384 4 persons, 1 handbag, 48.1ms\n",
      "video 1/1 (frame 201/622) D:\\programacion\\proyectos\\utec\\IA\\modulo_2_only_yolo\\basic_use\\data\\test.mp4: 640x384 5 persons, 44.6ms\n",
      "video 1/1 (frame 202/622) D:\\programacion\\proyectos\\utec\\IA\\modulo_2_only_yolo\\basic_use\\data\\test.mp4: 640x384 5 persons, 1 handbag, 49.5ms\n",
      "video 1/1 (frame 203/622) D:\\programacion\\proyectos\\utec\\IA\\modulo_2_only_yolo\\basic_use\\data\\test.mp4: 640x384 5 persons, 45.2ms\n",
      "video 1/1 (frame 204/622) D:\\programacion\\proyectos\\utec\\IA\\modulo_2_only_yolo\\basic_use\\data\\test.mp4: 640x384 4 persons, 44.5ms\n",
      "video 1/1 (frame 205/622) D:\\programacion\\proyectos\\utec\\IA\\modulo_2_only_yolo\\basic_use\\data\\test.mp4: 640x384 3 persons, 49.7ms\n",
      "video 1/1 (frame 206/622) D:\\programacion\\proyectos\\utec\\IA\\modulo_2_only_yolo\\basic_use\\data\\test.mp4: 640x384 5 persons, 49.9ms\n",
      "video 1/1 (frame 207/622) D:\\programacion\\proyectos\\utec\\IA\\modulo_2_only_yolo\\basic_use\\data\\test.mp4: 640x384 4 persons, 49.0ms\n",
      "video 1/1 (frame 208/622) D:\\programacion\\proyectos\\utec\\IA\\modulo_2_only_yolo\\basic_use\\data\\test.mp4: 640x384 4 persons, 50.4ms\n",
      "video 1/1 (frame 209/622) D:\\programacion\\proyectos\\utec\\IA\\modulo_2_only_yolo\\basic_use\\data\\test.mp4: 640x384 5 persons, 50.0ms\n",
      "video 1/1 (frame 210/622) D:\\programacion\\proyectos\\utec\\IA\\modulo_2_only_yolo\\basic_use\\data\\test.mp4: 640x384 4 persons, 50.8ms\n",
      "video 1/1 (frame 211/622) D:\\programacion\\proyectos\\utec\\IA\\modulo_2_only_yolo\\basic_use\\data\\test.mp4: 640x384 3 persons, 52.5ms\n",
      "video 1/1 (frame 212/622) D:\\programacion\\proyectos\\utec\\IA\\modulo_2_only_yolo\\basic_use\\data\\test.mp4: 640x384 3 persons, 1 handbag, 47.5ms\n",
      "video 1/1 (frame 213/622) D:\\programacion\\proyectos\\utec\\IA\\modulo_2_only_yolo\\basic_use\\data\\test.mp4: 640x384 6 persons, 1 handbag, 48.0ms\n",
      "video 1/1 (frame 214/622) D:\\programacion\\proyectos\\utec\\IA\\modulo_2_only_yolo\\basic_use\\data\\test.mp4: 640x384 5 persons, 1 handbag, 46.7ms\n",
      "video 1/1 (frame 215/622) D:\\programacion\\proyectos\\utec\\IA\\modulo_2_only_yolo\\basic_use\\data\\test.mp4: 640x384 5 persons, 50.8ms\n",
      "video 1/1 (frame 216/622) D:\\programacion\\proyectos\\utec\\IA\\modulo_2_only_yolo\\basic_use\\data\\test.mp4: 640x384 5 persons, 46.5ms\n",
      "video 1/1 (frame 217/622) D:\\programacion\\proyectos\\utec\\IA\\modulo_2_only_yolo\\basic_use\\data\\test.mp4: 640x384 5 persons, 48.6ms\n",
      "video 1/1 (frame 218/622) D:\\programacion\\proyectos\\utec\\IA\\modulo_2_only_yolo\\basic_use\\data\\test.mp4: 640x384 3 persons, 51.8ms\n",
      "video 1/1 (frame 219/622) D:\\programacion\\proyectos\\utec\\IA\\modulo_2_only_yolo\\basic_use\\data\\test.mp4: 640x384 3 persons, 50.4ms\n",
      "video 1/1 (frame 220/622) D:\\programacion\\proyectos\\utec\\IA\\modulo_2_only_yolo\\basic_use\\data\\test.mp4: 640x384 3 persons, 63.3ms\n",
      "video 1/1 (frame 221/622) D:\\programacion\\proyectos\\utec\\IA\\modulo_2_only_yolo\\basic_use\\data\\test.mp4: 640x384 4 persons, 64.4ms\n",
      "video 1/1 (frame 222/622) D:\\programacion\\proyectos\\utec\\IA\\modulo_2_only_yolo\\basic_use\\data\\test.mp4: 640x384 3 persons, 58.4ms\n",
      "video 1/1 (frame 223/622) D:\\programacion\\proyectos\\utec\\IA\\modulo_2_only_yolo\\basic_use\\data\\test.mp4: 640x384 4 persons, 57.7ms\n",
      "video 1/1 (frame 224/622) D:\\programacion\\proyectos\\utec\\IA\\modulo_2_only_yolo\\basic_use\\data\\test.mp4: 640x384 4 persons, 53.3ms\n",
      "video 1/1 (frame 225/622) D:\\programacion\\proyectos\\utec\\IA\\modulo_2_only_yolo\\basic_use\\data\\test.mp4: 640x384 4 persons, 1 cell phone, 57.1ms\n",
      "video 1/1 (frame 226/622) D:\\programacion\\proyectos\\utec\\IA\\modulo_2_only_yolo\\basic_use\\data\\test.mp4: 640x384 4 persons, 56.5ms\n",
      "video 1/1 (frame 227/622) D:\\programacion\\proyectos\\utec\\IA\\modulo_2_only_yolo\\basic_use\\data\\test.mp4: 640x384 3 persons, 48.6ms\n",
      "video 1/1 (frame 228/622) D:\\programacion\\proyectos\\utec\\IA\\modulo_2_only_yolo\\basic_use\\data\\test.mp4: 640x384 5 persons, 50.4ms\n",
      "video 1/1 (frame 229/622) D:\\programacion\\proyectos\\utec\\IA\\modulo_2_only_yolo\\basic_use\\data\\test.mp4: 640x384 5 persons, 47.4ms\n",
      "video 1/1 (frame 230/622) D:\\programacion\\proyectos\\utec\\IA\\modulo_2_only_yolo\\basic_use\\data\\test.mp4: 640x384 6 persons, 1 handbag, 49.3ms\n",
      "video 1/1 (frame 231/622) D:\\programacion\\proyectos\\utec\\IA\\modulo_2_only_yolo\\basic_use\\data\\test.mp4: 640x384 5 persons, 1 handbag, 47.4ms\n",
      "video 1/1 (frame 232/622) D:\\programacion\\proyectos\\utec\\IA\\modulo_2_only_yolo\\basic_use\\data\\test.mp4: 640x384 4 persons, 1 handbag, 45.4ms\n",
      "video 1/1 (frame 233/622) D:\\programacion\\proyectos\\utec\\IA\\modulo_2_only_yolo\\basic_use\\data\\test.mp4: 640x384 3 persons, 1 handbag, 43.1ms\n",
      "video 1/1 (frame 234/622) D:\\programacion\\proyectos\\utec\\IA\\modulo_2_only_yolo\\basic_use\\data\\test.mp4: 640x384 2 persons, 43.5ms\n",
      "video 1/1 (frame 235/622) D:\\programacion\\proyectos\\utec\\IA\\modulo_2_only_yolo\\basic_use\\data\\test.mp4: 640x384 2 persons, 53.7ms\n",
      "video 1/1 (frame 236/622) D:\\programacion\\proyectos\\utec\\IA\\modulo_2_only_yolo\\basic_use\\data\\test.mp4: 640x384 3 persons, 45.4ms\n",
      "video 1/1 (frame 237/622) D:\\programacion\\proyectos\\utec\\IA\\modulo_2_only_yolo\\basic_use\\data\\test.mp4: 640x384 3 persons, 48.5ms\n",
      "video 1/1 (frame 238/622) D:\\programacion\\proyectos\\utec\\IA\\modulo_2_only_yolo\\basic_use\\data\\test.mp4: 640x384 4 persons, 1 suitcase, 48.0ms\n",
      "video 1/1 (frame 239/622) D:\\programacion\\proyectos\\utec\\IA\\modulo_2_only_yolo\\basic_use\\data\\test.mp4: 640x384 4 persons, 51.3ms\n",
      "video 1/1 (frame 240/622) D:\\programacion\\proyectos\\utec\\IA\\modulo_2_only_yolo\\basic_use\\data\\test.mp4: 640x384 5 persons, 1 handbag, 49.1ms\n",
      "video 1/1 (frame 241/622) D:\\programacion\\proyectos\\utec\\IA\\modulo_2_only_yolo\\basic_use\\data\\test.mp4: 640x384 4 persons, 47.1ms\n",
      "video 1/1 (frame 242/622) D:\\programacion\\proyectos\\utec\\IA\\modulo_2_only_yolo\\basic_use\\data\\test.mp4: 640x384 3 persons, 2 handbags, 45.8ms\n",
      "video 1/1 (frame 243/622) D:\\programacion\\proyectos\\utec\\IA\\modulo_2_only_yolo\\basic_use\\data\\test.mp4: 640x384 4 persons, 3 handbags, 45.0ms\n",
      "video 1/1 (frame 244/622) D:\\programacion\\proyectos\\utec\\IA\\modulo_2_only_yolo\\basic_use\\data\\test.mp4: 640x384 3 persons, 3 handbags, 45.7ms\n",
      "video 1/1 (frame 245/622) D:\\programacion\\proyectos\\utec\\IA\\modulo_2_only_yolo\\basic_use\\data\\test.mp4: 640x384 3 persons, 3 handbags, 44.5ms\n",
      "video 1/1 (frame 246/622) D:\\programacion\\proyectos\\utec\\IA\\modulo_2_only_yolo\\basic_use\\data\\test.mp4: 640x384 4 persons, 3 handbags, 46.7ms\n",
      "video 1/1 (frame 247/622) D:\\programacion\\proyectos\\utec\\IA\\modulo_2_only_yolo\\basic_use\\data\\test.mp4: 640x384 4 persons, 2 handbags, 47.3ms\n",
      "video 1/1 (frame 248/622) D:\\programacion\\proyectos\\utec\\IA\\modulo_2_only_yolo\\basic_use\\data\\test.mp4: 640x384 4 persons, 48.7ms\n",
      "video 1/1 (frame 249/622) D:\\programacion\\proyectos\\utec\\IA\\modulo_2_only_yolo\\basic_use\\data\\test.mp4: 640x384 4 persons, 46.3ms\n",
      "video 1/1 (frame 250/622) D:\\programacion\\proyectos\\utec\\IA\\modulo_2_only_yolo\\basic_use\\data\\test.mp4: 640x384 3 persons, 50.1ms\n",
      "video 1/1 (frame 251/622) D:\\programacion\\proyectos\\utec\\IA\\modulo_2_only_yolo\\basic_use\\data\\test.mp4: 640x384 4 persons, 53.8ms\n",
      "video 1/1 (frame 252/622) D:\\programacion\\proyectos\\utec\\IA\\modulo_2_only_yolo\\basic_use\\data\\test.mp4: 640x384 5 persons, 53.5ms\n",
      "video 1/1 (frame 253/622) D:\\programacion\\proyectos\\utec\\IA\\modulo_2_only_yolo\\basic_use\\data\\test.mp4: 640x384 5 persons, 1 backpack, 52.5ms\n",
      "video 1/1 (frame 254/622) D:\\programacion\\proyectos\\utec\\IA\\modulo_2_only_yolo\\basic_use\\data\\test.mp4: 640x384 3 persons, 1 handbag, 56.2ms\n",
      "video 1/1 (frame 255/622) D:\\programacion\\proyectos\\utec\\IA\\modulo_2_only_yolo\\basic_use\\data\\test.mp4: 640x384 4 persons, 1 handbag, 61.2ms\n",
      "video 1/1 (frame 256/622) D:\\programacion\\proyectos\\utec\\IA\\modulo_2_only_yolo\\basic_use\\data\\test.mp4: 640x384 5 persons, 52.6ms\n",
      "video 1/1 (frame 257/622) D:\\programacion\\proyectos\\utec\\IA\\modulo_2_only_yolo\\basic_use\\data\\test.mp4: 640x384 3 persons, 52.9ms\n",
      "video 1/1 (frame 258/622) D:\\programacion\\proyectos\\utec\\IA\\modulo_2_only_yolo\\basic_use\\data\\test.mp4: 640x384 3 persons, 50.4ms\n",
      "video 1/1 (frame 259/622) D:\\programacion\\proyectos\\utec\\IA\\modulo_2_only_yolo\\basic_use\\data\\test.mp4: 640x384 4 persons, 51.2ms\n",
      "video 1/1 (frame 260/622) D:\\programacion\\proyectos\\utec\\IA\\modulo_2_only_yolo\\basic_use\\data\\test.mp4: 640x384 4 persons, 49.7ms\n",
      "video 1/1 (frame 261/622) D:\\programacion\\proyectos\\utec\\IA\\modulo_2_only_yolo\\basic_use\\data\\test.mp4: 640x384 4 persons, 51.4ms\n",
      "video 1/1 (frame 262/622) D:\\programacion\\proyectos\\utec\\IA\\modulo_2_only_yolo\\basic_use\\data\\test.mp4: 640x384 4 persons, 44.4ms\n",
      "video 1/1 (frame 263/622) D:\\programacion\\proyectos\\utec\\IA\\modulo_2_only_yolo\\basic_use\\data\\test.mp4: 640x384 3 persons, 49.2ms\n",
      "video 1/1 (frame 264/622) D:\\programacion\\proyectos\\utec\\IA\\modulo_2_only_yolo\\basic_use\\data\\test.mp4: 640x384 3 persons, 1 cell phone, 46.0ms\n",
      "video 1/1 (frame 265/622) D:\\programacion\\proyectos\\utec\\IA\\modulo_2_only_yolo\\basic_use\\data\\test.mp4: 640x384 2 persons, 48.2ms\n",
      "video 1/1 (frame 266/622) D:\\programacion\\proyectos\\utec\\IA\\modulo_2_only_yolo\\basic_use\\data\\test.mp4: 640x384 4 persons, 1 cell phone, 48.6ms\n",
      "video 1/1 (frame 267/622) D:\\programacion\\proyectos\\utec\\IA\\modulo_2_only_yolo\\basic_use\\data\\test.mp4: 640x384 2 persons, 50.5ms\n",
      "video 1/1 (frame 268/622) D:\\programacion\\proyectos\\utec\\IA\\modulo_2_only_yolo\\basic_use\\data\\test.mp4: 640x384 2 persons, 48.6ms\n",
      "video 1/1 (frame 269/622) D:\\programacion\\proyectos\\utec\\IA\\modulo_2_only_yolo\\basic_use\\data\\test.mp4: 640x384 2 persons, 46.6ms\n",
      "video 1/1 (frame 270/622) D:\\programacion\\proyectos\\utec\\IA\\modulo_2_only_yolo\\basic_use\\data\\test.mp4: 640x384 2 persons, 48.5ms\n",
      "video 1/1 (frame 271/622) D:\\programacion\\proyectos\\utec\\IA\\modulo_2_only_yolo\\basic_use\\data\\test.mp4: 640x384 2 persons, 47.4ms\n",
      "video 1/1 (frame 272/622) D:\\programacion\\proyectos\\utec\\IA\\modulo_2_only_yolo\\basic_use\\data\\test.mp4: 640x384 2 persons, 47.0ms\n",
      "video 1/1 (frame 273/622) D:\\programacion\\proyectos\\utec\\IA\\modulo_2_only_yolo\\basic_use\\data\\test.mp4: 640x384 2 persons, 45.1ms\n",
      "video 1/1 (frame 274/622) D:\\programacion\\proyectos\\utec\\IA\\modulo_2_only_yolo\\basic_use\\data\\test.mp4: 640x384 3 persons, 49.3ms\n",
      "video 1/1 (frame 275/622) D:\\programacion\\proyectos\\utec\\IA\\modulo_2_only_yolo\\basic_use\\data\\test.mp4: 640x384 3 persons, 49.8ms\n",
      "video 1/1 (frame 276/622) D:\\programacion\\proyectos\\utec\\IA\\modulo_2_only_yolo\\basic_use\\data\\test.mp4: 640x384 2 persons, 48.9ms\n",
      "video 1/1 (frame 277/622) D:\\programacion\\proyectos\\utec\\IA\\modulo_2_only_yolo\\basic_use\\data\\test.mp4: 640x384 2 persons, 45.6ms\n",
      "video 1/1 (frame 278/622) D:\\programacion\\proyectos\\utec\\IA\\modulo_2_only_yolo\\basic_use\\data\\test.mp4: 640x384 2 persons, 46.3ms\n",
      "video 1/1 (frame 279/622) D:\\programacion\\proyectos\\utec\\IA\\modulo_2_only_yolo\\basic_use\\data\\test.mp4: 640x384 2 persons, 50.7ms\n",
      "video 1/1 (frame 280/622) D:\\programacion\\proyectos\\utec\\IA\\modulo_2_only_yolo\\basic_use\\data\\test.mp4: 640x384 2 persons, 50.5ms\n",
      "video 1/1 (frame 281/622) D:\\programacion\\proyectos\\utec\\IA\\modulo_2_only_yolo\\basic_use\\data\\test.mp4: 640x384 2 persons, 54.5ms\n",
      "video 1/1 (frame 282/622) D:\\programacion\\proyectos\\utec\\IA\\modulo_2_only_yolo\\basic_use\\data\\test.mp4: 640x384 2 persons, 54.0ms\n",
      "video 1/1 (frame 283/622) D:\\programacion\\proyectos\\utec\\IA\\modulo_2_only_yolo\\basic_use\\data\\test.mp4: 640x384 2 persons, 55.7ms\n",
      "video 1/1 (frame 284/622) D:\\programacion\\proyectos\\utec\\IA\\modulo_2_only_yolo\\basic_use\\data\\test.mp4: 640x384 2 persons, 56.3ms\n",
      "video 1/1 (frame 285/622) D:\\programacion\\proyectos\\utec\\IA\\modulo_2_only_yolo\\basic_use\\data\\test.mp4: 640x384 3 persons, 55.0ms\n",
      "video 1/1 (frame 286/622) D:\\programacion\\proyectos\\utec\\IA\\modulo_2_only_yolo\\basic_use\\data\\test.mp4: 640x384 2 persons, 53.8ms\n",
      "video 1/1 (frame 287/622) D:\\programacion\\proyectos\\utec\\IA\\modulo_2_only_yolo\\basic_use\\data\\test.mp4: 640x384 3 persons, 54.9ms\n",
      "video 1/1 (frame 288/622) D:\\programacion\\proyectos\\utec\\IA\\modulo_2_only_yolo\\basic_use\\data\\test.mp4: 640x384 4 persons, 49.6ms\n",
      "video 1/1 (frame 289/622) D:\\programacion\\proyectos\\utec\\IA\\modulo_2_only_yolo\\basic_use\\data\\test.mp4: 640x384 5 persons, 1 handbag, 1 tie, 51.0ms\n",
      "video 1/1 (frame 290/622) D:\\programacion\\proyectos\\utec\\IA\\modulo_2_only_yolo\\basic_use\\data\\test.mp4: 640x384 4 persons, 49.6ms\n",
      "video 1/1 (frame 291/622) D:\\programacion\\proyectos\\utec\\IA\\modulo_2_only_yolo\\basic_use\\data\\test.mp4: 640x384 5 persons, 1 cell phone, 50.2ms\n",
      "video 1/1 (frame 292/622) D:\\programacion\\proyectos\\utec\\IA\\modulo_2_only_yolo\\basic_use\\data\\test.mp4: 640x384 7 persons, 53.7ms\n",
      "video 1/1 (frame 293/622) D:\\programacion\\proyectos\\utec\\IA\\modulo_2_only_yolo\\basic_use\\data\\test.mp4: 640x384 6 persons, 50.3ms\n",
      "video 1/1 (frame 294/622) D:\\programacion\\proyectos\\utec\\IA\\modulo_2_only_yolo\\basic_use\\data\\test.mp4: 640x384 7 persons, 54.9ms\n",
      "video 1/1 (frame 295/622) D:\\programacion\\proyectos\\utec\\IA\\modulo_2_only_yolo\\basic_use\\data\\test.mp4: 640x384 5 persons, 1 dog, 49.8ms\n",
      "video 1/1 (frame 296/622) D:\\programacion\\proyectos\\utec\\IA\\modulo_2_only_yolo\\basic_use\\data\\test.mp4: 640x384 6 persons, 1 handbag, 49.5ms\n",
      "video 1/1 (frame 297/622) D:\\programacion\\proyectos\\utec\\IA\\modulo_2_only_yolo\\basic_use\\data\\test.mp4: 640x384 6 persons, 1 dog, 52.3ms\n",
      "video 1/1 (frame 298/622) D:\\programacion\\proyectos\\utec\\IA\\modulo_2_only_yolo\\basic_use\\data\\test.mp4: 640x384 5 persons, 1 dog, 56.5ms\n",
      "video 1/1 (frame 299/622) D:\\programacion\\proyectos\\utec\\IA\\modulo_2_only_yolo\\basic_use\\data\\test.mp4: 640x384 4 persons, 1 dog, 1 backpack, 56.6ms\n",
      "video 1/1 (frame 300/622) D:\\programacion\\proyectos\\utec\\IA\\modulo_2_only_yolo\\basic_use\\data\\test.mp4: 640x384 5 persons, 54.1ms\n",
      "video 1/1 (frame 301/622) D:\\programacion\\proyectos\\utec\\IA\\modulo_2_only_yolo\\basic_use\\data\\test.mp4: 640x384 4 persons, 2 backpacks, 49.5ms\n",
      "video 1/1 (frame 302/622) D:\\programacion\\proyectos\\utec\\IA\\modulo_2_only_yolo\\basic_use\\data\\test.mp4: 640x384 3 persons, 3 backpacks, 50.1ms\n",
      "video 1/1 (frame 303/622) D:\\programacion\\proyectos\\utec\\IA\\modulo_2_only_yolo\\basic_use\\data\\test.mp4: 640x384 2 persons, 1 backpack, 52.5ms\n",
      "video 1/1 (frame 304/622) D:\\programacion\\proyectos\\utec\\IA\\modulo_2_only_yolo\\basic_use\\data\\test.mp4: 640x384 2 persons, 1 handbag, 52.0ms\n",
      "video 1/1 (frame 305/622) D:\\programacion\\proyectos\\utec\\IA\\modulo_2_only_yolo\\basic_use\\data\\test.mp4: 640x384 2 persons, 1 handbag, 1 suitcase, 50.3ms\n",
      "video 1/1 (frame 306/622) D:\\programacion\\proyectos\\utec\\IA\\modulo_2_only_yolo\\basic_use\\data\\test.mp4: 640x384 3 persons, 2 handbags, 50.0ms\n",
      "video 1/1 (frame 307/622) D:\\programacion\\proyectos\\utec\\IA\\modulo_2_only_yolo\\basic_use\\data\\test.mp4: 640x384 3 persons, 53.1ms\n",
      "video 1/1 (frame 308/622) D:\\programacion\\proyectos\\utec\\IA\\modulo_2_only_yolo\\basic_use\\data\\test.mp4: 640x384 4 persons, 52.5ms\n",
      "video 1/1 (frame 309/622) D:\\programacion\\proyectos\\utec\\IA\\modulo_2_only_yolo\\basic_use\\data\\test.mp4: 640x384 3 persons, 47.0ms\n",
      "video 1/1 (frame 310/622) D:\\programacion\\proyectos\\utec\\IA\\modulo_2_only_yolo\\basic_use\\data\\test.mp4: 640x384 5 persons, 1 handbag, 51.1ms\n",
      "video 1/1 (frame 311/622) D:\\programacion\\proyectos\\utec\\IA\\modulo_2_only_yolo\\basic_use\\data\\test.mp4: 640x384 5 persons, 60.8ms\n",
      "video 1/1 (frame 312/622) D:\\programacion\\proyectos\\utec\\IA\\modulo_2_only_yolo\\basic_use\\data\\test.mp4: 640x384 3 persons, 52.5ms\n",
      "video 1/1 (frame 313/622) D:\\programacion\\proyectos\\utec\\IA\\modulo_2_only_yolo\\basic_use\\data\\test.mp4: 640x384 4 persons, 1 handbag, 56.8ms\n",
      "video 1/1 (frame 314/622) D:\\programacion\\proyectos\\utec\\IA\\modulo_2_only_yolo\\basic_use\\data\\test.mp4: 640x384 4 persons, 55.0ms\n",
      "video 1/1 (frame 315/622) D:\\programacion\\proyectos\\utec\\IA\\modulo_2_only_yolo\\basic_use\\data\\test.mp4: 640x384 4 persons, 66.7ms\n",
      "video 1/1 (frame 316/622) D:\\programacion\\proyectos\\utec\\IA\\modulo_2_only_yolo\\basic_use\\data\\test.mp4: 640x384 3 persons, 1 handbag, 54.5ms\n",
      "video 1/1 (frame 317/622) D:\\programacion\\proyectos\\utec\\IA\\modulo_2_only_yolo\\basic_use\\data\\test.mp4: 640x384 2 persons, 84.6ms\n",
      "video 1/1 (frame 318/622) D:\\programacion\\proyectos\\utec\\IA\\modulo_2_only_yolo\\basic_use\\data\\test.mp4: 640x384 4 persons, 68.5ms\n",
      "video 1/1 (frame 319/622) D:\\programacion\\proyectos\\utec\\IA\\modulo_2_only_yolo\\basic_use\\data\\test.mp4: 640x384 5 persons, 61.5ms\n",
      "video 1/1 (frame 320/622) D:\\programacion\\proyectos\\utec\\IA\\modulo_2_only_yolo\\basic_use\\data\\test.mp4: 640x384 5 persons, 56.2ms\n",
      "video 1/1 (frame 321/622) D:\\programacion\\proyectos\\utec\\IA\\modulo_2_only_yolo\\basic_use\\data\\test.mp4: 640x384 5 persons, 62.9ms\n",
      "video 1/1 (frame 322/622) D:\\programacion\\proyectos\\utec\\IA\\modulo_2_only_yolo\\basic_use\\data\\test.mp4: 640x384 4 persons, 64.3ms\n",
      "video 1/1 (frame 323/622) D:\\programacion\\proyectos\\utec\\IA\\modulo_2_only_yolo\\basic_use\\data\\test.mp4: 640x384 5 persons, 1 handbag, 66.7ms\n",
      "video 1/1 (frame 324/622) D:\\programacion\\proyectos\\utec\\IA\\modulo_2_only_yolo\\basic_use\\data\\test.mp4: 640x384 5 persons, 57.9ms\n",
      "video 1/1 (frame 325/622) D:\\programacion\\proyectos\\utec\\IA\\modulo_2_only_yolo\\basic_use\\data\\test.mp4: 640x384 4 persons, 67.0ms\n",
      "video 1/1 (frame 326/622) D:\\programacion\\proyectos\\utec\\IA\\modulo_2_only_yolo\\basic_use\\data\\test.mp4: 640x384 4 persons, 65.6ms\n",
      "video 1/1 (frame 327/622) D:\\programacion\\proyectos\\utec\\IA\\modulo_2_only_yolo\\basic_use\\data\\test.mp4: 640x384 4 persons, 1 handbag, 61.7ms\n",
      "video 1/1 (frame 328/622) D:\\programacion\\proyectos\\utec\\IA\\modulo_2_only_yolo\\basic_use\\data\\test.mp4: 640x384 5 persons, 1 handbag, 82.9ms\n",
      "video 1/1 (frame 329/622) D:\\programacion\\proyectos\\utec\\IA\\modulo_2_only_yolo\\basic_use\\data\\test.mp4: 640x384 5 persons, 1 handbag, 69.3ms\n",
      "video 1/1 (frame 330/622) D:\\programacion\\proyectos\\utec\\IA\\modulo_2_only_yolo\\basic_use\\data\\test.mp4: 640x384 4 persons, 1 handbag, 74.2ms\n",
      "video 1/1 (frame 331/622) D:\\programacion\\proyectos\\utec\\IA\\modulo_2_only_yolo\\basic_use\\data\\test.mp4: 640x384 5 persons, 53.0ms\n",
      "video 1/1 (frame 332/622) D:\\programacion\\proyectos\\utec\\IA\\modulo_2_only_yolo\\basic_use\\data\\test.mp4: 640x384 5 persons, 49.1ms\n",
      "video 1/1 (frame 333/622) D:\\programacion\\proyectos\\utec\\IA\\modulo_2_only_yolo\\basic_use\\data\\test.mp4: 640x384 6 persons, 53.2ms\n",
      "video 1/1 (frame 334/622) D:\\programacion\\proyectos\\utec\\IA\\modulo_2_only_yolo\\basic_use\\data\\test.mp4: 640x384 6 persons, 62.8ms\n",
      "video 1/1 (frame 335/622) D:\\programacion\\proyectos\\utec\\IA\\modulo_2_only_yolo\\basic_use\\data\\test.mp4: 640x384 5 persons, 68.5ms\n",
      "video 1/1 (frame 336/622) D:\\programacion\\proyectos\\utec\\IA\\modulo_2_only_yolo\\basic_use\\data\\test.mp4: 640x384 5 persons, 67.6ms\n",
      "video 1/1 (frame 337/622) D:\\programacion\\proyectos\\utec\\IA\\modulo_2_only_yolo\\basic_use\\data\\test.mp4: 640x384 5 persons, 67.8ms\n",
      "video 1/1 (frame 338/622) D:\\programacion\\proyectos\\utec\\IA\\modulo_2_only_yolo\\basic_use\\data\\test.mp4: 640x384 4 persons, 57.7ms\n",
      "video 1/1 (frame 339/622) D:\\programacion\\proyectos\\utec\\IA\\modulo_2_only_yolo\\basic_use\\data\\test.mp4: 640x384 4 persons, 64.2ms\n",
      "video 1/1 (frame 340/622) D:\\programacion\\proyectos\\utec\\IA\\modulo_2_only_yolo\\basic_use\\data\\test.mp4: 640x384 4 persons, 59.3ms\n",
      "video 1/1 (frame 341/622) D:\\programacion\\proyectos\\utec\\IA\\modulo_2_only_yolo\\basic_use\\data\\test.mp4: 640x384 4 persons, 56.8ms\n",
      "video 1/1 (frame 342/622) D:\\programacion\\proyectos\\utec\\IA\\modulo_2_only_yolo\\basic_use\\data\\test.mp4: 640x384 5 persons, 50.0ms\n",
      "video 1/1 (frame 343/622) D:\\programacion\\proyectos\\utec\\IA\\modulo_2_only_yolo\\basic_use\\data\\test.mp4: 640x384 5 persons, 60.3ms\n",
      "video 1/1 (frame 344/622) D:\\programacion\\proyectos\\utec\\IA\\modulo_2_only_yolo\\basic_use\\data\\test.mp4: 640x384 4 persons, 1 horse, 58.4ms\n",
      "video 1/1 (frame 345/622) D:\\programacion\\proyectos\\utec\\IA\\modulo_2_only_yolo\\basic_use\\data\\test.mp4: 640x384 2 persons, 1 handbag, 57.8ms\n",
      "video 1/1 (frame 346/622) D:\\programacion\\proyectos\\utec\\IA\\modulo_2_only_yolo\\basic_use\\data\\test.mp4: 640x384 2 persons, 1 horse, 1 handbag, 59.5ms\n",
      "video 1/1 (frame 347/622) D:\\programacion\\proyectos\\utec\\IA\\modulo_2_only_yolo\\basic_use\\data\\test.mp4: 640x384 3 persons, 54.2ms\n",
      "video 1/1 (frame 348/622) D:\\programacion\\proyectos\\utec\\IA\\modulo_2_only_yolo\\basic_use\\data\\test.mp4: 640x384 5 persons, 54.0ms\n",
      "video 1/1 (frame 349/622) D:\\programacion\\proyectos\\utec\\IA\\modulo_2_only_yolo\\basic_use\\data\\test.mp4: 640x384 3 persons, 56.2ms\n",
      "video 1/1 (frame 350/622) D:\\programacion\\proyectos\\utec\\IA\\modulo_2_only_yolo\\basic_use\\data\\test.mp4: 640x384 3 persons, 48.2ms\n",
      "video 1/1 (frame 351/622) D:\\programacion\\proyectos\\utec\\IA\\modulo_2_only_yolo\\basic_use\\data\\test.mp4: 640x384 3 persons, 56.9ms\n",
      "video 1/1 (frame 352/622) D:\\programacion\\proyectos\\utec\\IA\\modulo_2_only_yolo\\basic_use\\data\\test.mp4: 640x384 3 persons, 49.2ms\n",
      "video 1/1 (frame 353/622) D:\\programacion\\proyectos\\utec\\IA\\modulo_2_only_yolo\\basic_use\\data\\test.mp4: 640x384 3 persons, 49.8ms\n",
      "video 1/1 (frame 354/622) D:\\programacion\\proyectos\\utec\\IA\\modulo_2_only_yolo\\basic_use\\data\\test.mp4: 640x384 3 persons, 51.7ms\n",
      "video 1/1 (frame 355/622) D:\\programacion\\proyectos\\utec\\IA\\modulo_2_only_yolo\\basic_use\\data\\test.mp4: 640x384 3 persons, 1 tie, 51.2ms\n",
      "video 1/1 (frame 356/622) D:\\programacion\\proyectos\\utec\\IA\\modulo_2_only_yolo\\basic_use\\data\\test.mp4: 640x384 4 persons, 1 tie, 48.4ms\n",
      "video 1/1 (frame 357/622) D:\\programacion\\proyectos\\utec\\IA\\modulo_2_only_yolo\\basic_use\\data\\test.mp4: 640x384 3 persons, 56.8ms\n",
      "video 1/1 (frame 358/622) D:\\programacion\\proyectos\\utec\\IA\\modulo_2_only_yolo\\basic_use\\data\\test.mp4: 640x384 3 persons, 49.6ms\n",
      "video 1/1 (frame 359/622) D:\\programacion\\proyectos\\utec\\IA\\modulo_2_only_yolo\\basic_use\\data\\test.mp4: 640x384 3 persons, 1 handbag, 48.5ms\n",
      "video 1/1 (frame 360/622) D:\\programacion\\proyectos\\utec\\IA\\modulo_2_only_yolo\\basic_use\\data\\test.mp4: 640x384 3 persons, 49.6ms\n",
      "video 1/1 (frame 361/622) D:\\programacion\\proyectos\\utec\\IA\\modulo_2_only_yolo\\basic_use\\data\\test.mp4: 640x384 4 persons, 55.3ms\n",
      "video 1/1 (frame 362/622) D:\\programacion\\proyectos\\utec\\IA\\modulo_2_only_yolo\\basic_use\\data\\test.mp4: 640x384 4 persons, 54.6ms\n",
      "video 1/1 (frame 363/622) D:\\programacion\\proyectos\\utec\\IA\\modulo_2_only_yolo\\basic_use\\data\\test.mp4: 640x384 5 persons, 54.5ms\n",
      "video 1/1 (frame 364/622) D:\\programacion\\proyectos\\utec\\IA\\modulo_2_only_yolo\\basic_use\\data\\test.mp4: 640x384 4 persons, 64.4ms\n",
      "video 1/1 (frame 365/622) D:\\programacion\\proyectos\\utec\\IA\\modulo_2_only_yolo\\basic_use\\data\\test.mp4: 640x384 3 persons, 53.8ms\n",
      "video 1/1 (frame 366/622) D:\\programacion\\proyectos\\utec\\IA\\modulo_2_only_yolo\\basic_use\\data\\test.mp4: 640x384 5 persons, 54.3ms\n",
      "video 1/1 (frame 367/622) D:\\programacion\\proyectos\\utec\\IA\\modulo_2_only_yolo\\basic_use\\data\\test.mp4: 640x384 3 persons, 57.7ms\n",
      "video 1/1 (frame 368/622) D:\\programacion\\proyectos\\utec\\IA\\modulo_2_only_yolo\\basic_use\\data\\test.mp4: 640x384 3 persons, 57.4ms\n",
      "video 1/1 (frame 369/622) D:\\programacion\\proyectos\\utec\\IA\\modulo_2_only_yolo\\basic_use\\data\\test.mp4: 640x384 3 persons, 57.4ms\n",
      "video 1/1 (frame 370/622) D:\\programacion\\proyectos\\utec\\IA\\modulo_2_only_yolo\\basic_use\\data\\test.mp4: 640x384 3 persons, 53.4ms\n",
      "video 1/1 (frame 371/622) D:\\programacion\\proyectos\\utec\\IA\\modulo_2_only_yolo\\basic_use\\data\\test.mp4: 640x384 3 persons, 51.8ms\n",
      "video 1/1 (frame 372/622) D:\\programacion\\proyectos\\utec\\IA\\modulo_2_only_yolo\\basic_use\\data\\test.mp4: 640x384 4 persons, 63.9ms\n",
      "video 1/1 (frame 373/622) D:\\programacion\\proyectos\\utec\\IA\\modulo_2_only_yolo\\basic_use\\data\\test.mp4: 640x384 3 persons, 1 handbag, 61.8ms\n",
      "video 1/1 (frame 374/622) D:\\programacion\\proyectos\\utec\\IA\\modulo_2_only_yolo\\basic_use\\data\\test.mp4: 640x384 4 persons, 62.1ms\n",
      "video 1/1 (frame 375/622) D:\\programacion\\proyectos\\utec\\IA\\modulo_2_only_yolo\\basic_use\\data\\test.mp4: 640x384 4 persons, 54.5ms\n",
      "video 1/1 (frame 376/622) D:\\programacion\\proyectos\\utec\\IA\\modulo_2_only_yolo\\basic_use\\data\\test.mp4: 640x384 6 persons, 48.6ms\n",
      "video 1/1 (frame 377/622) D:\\programacion\\proyectos\\utec\\IA\\modulo_2_only_yolo\\basic_use\\data\\test.mp4: 640x384 4 persons, 52.2ms\n",
      "video 1/1 (frame 378/622) D:\\programacion\\proyectos\\utec\\IA\\modulo_2_only_yolo\\basic_use\\data\\test.mp4: 640x384 4 persons, 57.5ms\n",
      "video 1/1 (frame 379/622) D:\\programacion\\proyectos\\utec\\IA\\modulo_2_only_yolo\\basic_use\\data\\test.mp4: 640x384 2 persons, 53.2ms\n",
      "video 1/1 (frame 380/622) D:\\programacion\\proyectos\\utec\\IA\\modulo_2_only_yolo\\basic_use\\data\\test.mp4: 640x384 4 persons, 50.5ms\n",
      "video 1/1 (frame 381/622) D:\\programacion\\proyectos\\utec\\IA\\modulo_2_only_yolo\\basic_use\\data\\test.mp4: 640x384 3 persons, 48.3ms\n",
      "video 1/1 (frame 382/622) D:\\programacion\\proyectos\\utec\\IA\\modulo_2_only_yolo\\basic_use\\data\\test.mp4: 640x384 3 persons, 48.7ms\n",
      "video 1/1 (frame 383/622) D:\\programacion\\proyectos\\utec\\IA\\modulo_2_only_yolo\\basic_use\\data\\test.mp4: 640x384 3 persons, 50.6ms\n",
      "video 1/1 (frame 384/622) D:\\programacion\\proyectos\\utec\\IA\\modulo_2_only_yolo\\basic_use\\data\\test.mp4: 640x384 3 persons, 48.5ms\n",
      "video 1/1 (frame 385/622) D:\\programacion\\proyectos\\utec\\IA\\modulo_2_only_yolo\\basic_use\\data\\test.mp4: 640x384 4 persons, 51.0ms\n",
      "video 1/1 (frame 386/622) D:\\programacion\\proyectos\\utec\\IA\\modulo_2_only_yolo\\basic_use\\data\\test.mp4: 640x384 3 persons, 46.0ms\n",
      "video 1/1 (frame 387/622) D:\\programacion\\proyectos\\utec\\IA\\modulo_2_only_yolo\\basic_use\\data\\test.mp4: 640x384 4 persons, 47.1ms\n",
      "video 1/1 (frame 388/622) D:\\programacion\\proyectos\\utec\\IA\\modulo_2_only_yolo\\basic_use\\data\\test.mp4: 640x384 3 persons, 1 tie, 51.1ms\n",
      "video 1/1 (frame 389/622) D:\\programacion\\proyectos\\utec\\IA\\modulo_2_only_yolo\\basic_use\\data\\test.mp4: 640x384 4 persons, 1 tie, 50.8ms\n",
      "video 1/1 (frame 390/622) D:\\programacion\\proyectos\\utec\\IA\\modulo_2_only_yolo\\basic_use\\data\\test.mp4: 640x384 4 persons, 51.7ms\n",
      "video 1/1 (frame 391/622) D:\\programacion\\proyectos\\utec\\IA\\modulo_2_only_yolo\\basic_use\\data\\test.mp4: 640x384 5 persons, 49.7ms\n",
      "video 1/1 (frame 392/622) D:\\programacion\\proyectos\\utec\\IA\\modulo_2_only_yolo\\basic_use\\data\\test.mp4: 640x384 4 persons, 59.4ms\n",
      "video 1/1 (frame 393/622) D:\\programacion\\proyectos\\utec\\IA\\modulo_2_only_yolo\\basic_use\\data\\test.mp4: 640x384 5 persons, 57.6ms\n",
      "video 1/1 (frame 394/622) D:\\programacion\\proyectos\\utec\\IA\\modulo_2_only_yolo\\basic_use\\data\\test.mp4: 640x384 5 persons, 58.8ms\n",
      "video 1/1 (frame 395/622) D:\\programacion\\proyectos\\utec\\IA\\modulo_2_only_yolo\\basic_use\\data\\test.mp4: 640x384 5 persons, 59.1ms\n",
      "video 1/1 (frame 396/622) D:\\programacion\\proyectos\\utec\\IA\\modulo_2_only_yolo\\basic_use\\data\\test.mp4: 640x384 4 persons, 53.5ms\n",
      "video 1/1 (frame 397/622) D:\\programacion\\proyectos\\utec\\IA\\modulo_2_only_yolo\\basic_use\\data\\test.mp4: 640x384 5 persons, 56.5ms\n",
      "video 1/1 (frame 398/622) D:\\programacion\\proyectos\\utec\\IA\\modulo_2_only_yolo\\basic_use\\data\\test.mp4: 640x384 4 persons, 55.1ms\n",
      "video 1/1 (frame 399/622) D:\\programacion\\proyectos\\utec\\IA\\modulo_2_only_yolo\\basic_use\\data\\test.mp4: 640x384 4 persons, 54.4ms\n",
      "video 1/1 (frame 400/622) D:\\programacion\\proyectos\\utec\\IA\\modulo_2_only_yolo\\basic_use\\data\\test.mp4: 640x384 3 persons, 47.3ms\n",
      "video 1/1 (frame 401/622) D:\\programacion\\proyectos\\utec\\IA\\modulo_2_only_yolo\\basic_use\\data\\test.mp4: 640x384 4 persons, 49.9ms\n",
      "video 1/1 (frame 402/622) D:\\programacion\\proyectos\\utec\\IA\\modulo_2_only_yolo\\basic_use\\data\\test.mp4: 640x384 4 persons, 61.3ms\n",
      "video 1/1 (frame 403/622) D:\\programacion\\proyectos\\utec\\IA\\modulo_2_only_yolo\\basic_use\\data\\test.mp4: 640x384 3 persons, 54.8ms\n",
      "video 1/1 (frame 404/622) D:\\programacion\\proyectos\\utec\\IA\\modulo_2_only_yolo\\basic_use\\data\\test.mp4: 640x384 3 persons, 48.3ms\n",
      "video 1/1 (frame 405/622) D:\\programacion\\proyectos\\utec\\IA\\modulo_2_only_yolo\\basic_use\\data\\test.mp4: 640x384 3 persons, 59.4ms\n",
      "video 1/1 (frame 406/622) D:\\programacion\\proyectos\\utec\\IA\\modulo_2_only_yolo\\basic_use\\data\\test.mp4: 640x384 5 persons, 1 car, 63.4ms\n",
      "video 1/1 (frame 407/622) D:\\programacion\\proyectos\\utec\\IA\\modulo_2_only_yolo\\basic_use\\data\\test.mp4: 640x384 2 persons, 1 car, 58.8ms\n",
      "video 1/1 (frame 408/622) D:\\programacion\\proyectos\\utec\\IA\\modulo_2_only_yolo\\basic_use\\data\\test.mp4: 640x384 4 persons, 62.9ms\n",
      "video 1/1 (frame 409/622) D:\\programacion\\proyectos\\utec\\IA\\modulo_2_only_yolo\\basic_use\\data\\test.mp4: 640x384 6 persons, 59.3ms\n",
      "video 1/1 (frame 410/622) D:\\programacion\\proyectos\\utec\\IA\\modulo_2_only_yolo\\basic_use\\data\\test.mp4: 640x384 6 persons, 52.9ms\n",
      "video 1/1 (frame 411/622) D:\\programacion\\proyectos\\utec\\IA\\modulo_2_only_yolo\\basic_use\\data\\test.mp4: 640x384 5 persons, 52.7ms\n",
      "video 1/1 (frame 412/622) D:\\programacion\\proyectos\\utec\\IA\\modulo_2_only_yolo\\basic_use\\data\\test.mp4: 640x384 5 persons, 1 tie, 59.6ms\n",
      "video 1/1 (frame 413/622) D:\\programacion\\proyectos\\utec\\IA\\modulo_2_only_yolo\\basic_use\\data\\test.mp4: 640x384 5 persons, 67.7ms\n",
      "video 1/1 (frame 414/622) D:\\programacion\\proyectos\\utec\\IA\\modulo_2_only_yolo\\basic_use\\data\\test.mp4: 640x384 6 persons, 1 tie, 47.9ms\n",
      "video 1/1 (frame 415/622) D:\\programacion\\proyectos\\utec\\IA\\modulo_2_only_yolo\\basic_use\\data\\test.mp4: 640x384 5 persons, 1 tie, 56.3ms\n",
      "video 1/1 (frame 416/622) D:\\programacion\\proyectos\\utec\\IA\\modulo_2_only_yolo\\basic_use\\data\\test.mp4: 640x384 3 persons, 1 tie, 60.1ms\n",
      "video 1/1 (frame 417/622) D:\\programacion\\proyectos\\utec\\IA\\modulo_2_only_yolo\\basic_use\\data\\test.mp4: 640x384 6 persons, 1 tie, 54.0ms\n",
      "video 1/1 (frame 418/622) D:\\programacion\\proyectos\\utec\\IA\\modulo_2_only_yolo\\basic_use\\data\\test.mp4: 640x384 5 persons, 1 tie, 55.8ms\n",
      "video 1/1 (frame 419/622) D:\\programacion\\proyectos\\utec\\IA\\modulo_2_only_yolo\\basic_use\\data\\test.mp4: 640x384 5 persons, 1 tie, 63.2ms\n",
      "video 1/1 (frame 420/622) D:\\programacion\\proyectos\\utec\\IA\\modulo_2_only_yolo\\basic_use\\data\\test.mp4: 640x384 4 persons, 2 ties, 61.6ms\n",
      "video 1/1 (frame 421/622) D:\\programacion\\proyectos\\utec\\IA\\modulo_2_only_yolo\\basic_use\\data\\test.mp4: 640x384 6 persons, 1 tie, 1 banana, 57.7ms\n",
      "video 1/1 (frame 422/622) D:\\programacion\\proyectos\\utec\\IA\\modulo_2_only_yolo\\basic_use\\data\\test.mp4: 640x384 5 persons, 1 tie, 63.0ms\n",
      "video 1/1 (frame 423/622) D:\\programacion\\proyectos\\utec\\IA\\modulo_2_only_yolo\\basic_use\\data\\test.mp4: 640x384 5 persons, 1 tie, 59.7ms\n",
      "video 1/1 (frame 424/622) D:\\programacion\\proyectos\\utec\\IA\\modulo_2_only_yolo\\basic_use\\data\\test.mp4: 640x384 3 persons, 1 tie, 55.9ms\n",
      "video 1/1 (frame 425/622) D:\\programacion\\proyectos\\utec\\IA\\modulo_2_only_yolo\\basic_use\\data\\test.mp4: 640x384 3 persons, 60.0ms\n",
      "video 1/1 (frame 426/622) D:\\programacion\\proyectos\\utec\\IA\\modulo_2_only_yolo\\basic_use\\data\\test.mp4: 640x384 3 persons, 1 tie, 59.5ms\n",
      "video 1/1 (frame 427/622) D:\\programacion\\proyectos\\utec\\IA\\modulo_2_only_yolo\\basic_use\\data\\test.mp4: 640x384 3 persons, 52.4ms\n",
      "video 1/1 (frame 428/622) D:\\programacion\\proyectos\\utec\\IA\\modulo_2_only_yolo\\basic_use\\data\\test.mp4: 640x384 2 persons, 1 tie, 52.9ms\n",
      "video 1/1 (frame 429/622) D:\\programacion\\proyectos\\utec\\IA\\modulo_2_only_yolo\\basic_use\\data\\test.mp4: 640x384 2 persons, 58.1ms\n",
      "video 1/1 (frame 430/622) D:\\programacion\\proyectos\\utec\\IA\\modulo_2_only_yolo\\basic_use\\data\\test.mp4: 640x384 3 persons, 50.9ms\n",
      "video 1/1 (frame 431/622) D:\\programacion\\proyectos\\utec\\IA\\modulo_2_only_yolo\\basic_use\\data\\test.mp4: 640x384 3 persons, 1 tie, 62.6ms\n",
      "video 1/1 (frame 432/622) D:\\programacion\\proyectos\\utec\\IA\\modulo_2_only_yolo\\basic_use\\data\\test.mp4: 640x384 2 persons, 1 tie, 55.8ms\n",
      "video 1/1 (frame 433/622) D:\\programacion\\proyectos\\utec\\IA\\modulo_2_only_yolo\\basic_use\\data\\test.mp4: 640x384 4 persons, 1 tie, 55.5ms\n",
      "video 1/1 (frame 434/622) D:\\programacion\\proyectos\\utec\\IA\\modulo_2_only_yolo\\basic_use\\data\\test.mp4: 640x384 4 persons, 53.6ms\n",
      "video 1/1 (frame 435/622) D:\\programacion\\proyectos\\utec\\IA\\modulo_2_only_yolo\\basic_use\\data\\test.mp4: 640x384 3 persons, 46.4ms\n",
      "video 1/1 (frame 436/622) D:\\programacion\\proyectos\\utec\\IA\\modulo_2_only_yolo\\basic_use\\data\\test.mp4: 640x384 3 persons, 54.0ms\n",
      "video 1/1 (frame 437/622) D:\\programacion\\proyectos\\utec\\IA\\modulo_2_only_yolo\\basic_use\\data\\test.mp4: 640x384 4 persons, 1 tie, 1 banana, 53.9ms\n",
      "video 1/1 (frame 438/622) D:\\programacion\\proyectos\\utec\\IA\\modulo_2_only_yolo\\basic_use\\data\\test.mp4: 640x384 2 persons, 1 banana, 52.8ms\n",
      "video 1/1 (frame 439/622) D:\\programacion\\proyectos\\utec\\IA\\modulo_2_only_yolo\\basic_use\\data\\test.mp4: 640x384 2 persons, 48.9ms\n",
      "video 1/1 (frame 440/622) D:\\programacion\\proyectos\\utec\\IA\\modulo_2_only_yolo\\basic_use\\data\\test.mp4: 640x384 2 persons, 1 tie, 50.8ms\n",
      "video 1/1 (frame 441/622) D:\\programacion\\proyectos\\utec\\IA\\modulo_2_only_yolo\\basic_use\\data\\test.mp4: 640x384 4 persons, 1 tie, 49.4ms\n",
      "video 1/1 (frame 442/622) D:\\programacion\\proyectos\\utec\\IA\\modulo_2_only_yolo\\basic_use\\data\\test.mp4: 640x384 4 persons, 55.7ms\n",
      "video 1/1 (frame 443/622) D:\\programacion\\proyectos\\utec\\IA\\modulo_2_only_yolo\\basic_use\\data\\test.mp4: 640x384 5 persons, 55.1ms\n",
      "video 1/1 (frame 444/622) D:\\programacion\\proyectos\\utec\\IA\\modulo_2_only_yolo\\basic_use\\data\\test.mp4: 640x384 2 persons, 49.4ms\n",
      "video 1/1 (frame 445/622) D:\\programacion\\proyectos\\utec\\IA\\modulo_2_only_yolo\\basic_use\\data\\test.mp4: 640x384 2 persons, 46.7ms\n",
      "video 1/1 (frame 446/622) D:\\programacion\\proyectos\\utec\\IA\\modulo_2_only_yolo\\basic_use\\data\\test.mp4: 640x384 3 persons, 65.4ms\n",
      "video 1/1 (frame 447/622) D:\\programacion\\proyectos\\utec\\IA\\modulo_2_only_yolo\\basic_use\\data\\test.mp4: 640x384 4 persons, 63.0ms\n",
      "video 1/1 (frame 448/622) D:\\programacion\\proyectos\\utec\\IA\\modulo_2_only_yolo\\basic_use\\data\\test.mp4: 640x384 4 persons, 60.1ms\n",
      "video 1/1 (frame 449/622) D:\\programacion\\proyectos\\utec\\IA\\modulo_2_only_yolo\\basic_use\\data\\test.mp4: 640x384 4 persons, 57.9ms\n",
      "video 1/1 (frame 450/622) D:\\programacion\\proyectos\\utec\\IA\\modulo_2_only_yolo\\basic_use\\data\\test.mp4: 640x384 4 persons, 61.5ms\n",
      "video 1/1 (frame 451/622) D:\\programacion\\proyectos\\utec\\IA\\modulo_2_only_yolo\\basic_use\\data\\test.mp4: 640x384 3 persons, 60.6ms\n",
      "video 1/1 (frame 452/622) D:\\programacion\\proyectos\\utec\\IA\\modulo_2_only_yolo\\basic_use\\data\\test.mp4: 640x384 2 persons, 1 banana, 54.2ms\n",
      "video 1/1 (frame 453/622) D:\\programacion\\proyectos\\utec\\IA\\modulo_2_only_yolo\\basic_use\\data\\test.mp4: 640x384 2 persons, 60.4ms\n",
      "video 1/1 (frame 454/622) D:\\programacion\\proyectos\\utec\\IA\\modulo_2_only_yolo\\basic_use\\data\\test.mp4: 640x384 3 persons, 50.9ms\n",
      "video 1/1 (frame 455/622) D:\\programacion\\proyectos\\utec\\IA\\modulo_2_only_yolo\\basic_use\\data\\test.mp4: 640x384 3 persons, 1 tie, 48.8ms\n",
      "video 1/1 (frame 456/622) D:\\programacion\\proyectos\\utec\\IA\\modulo_2_only_yolo\\basic_use\\data\\test.mp4: 640x384 4 persons, 1 tie, 46.7ms\n",
      "video 1/1 (frame 457/622) D:\\programacion\\proyectos\\utec\\IA\\modulo_2_only_yolo\\basic_use\\data\\test.mp4: 640x384 4 persons, 1 tie, 1 suitcase, 58.7ms\n",
      "video 1/1 (frame 458/622) D:\\programacion\\proyectos\\utec\\IA\\modulo_2_only_yolo\\basic_use\\data\\test.mp4: 640x384 2 persons, 1 tie, 58.0ms\n",
      "video 1/1 (frame 459/622) D:\\programacion\\proyectos\\utec\\IA\\modulo_2_only_yolo\\basic_use\\data\\test.mp4: 640x384 4 persons, 1 tie, 46.5ms\n",
      "video 1/1 (frame 460/622) D:\\programacion\\proyectos\\utec\\IA\\modulo_2_only_yolo\\basic_use\\data\\test.mp4: 640x384 5 persons, 1 tie, 49.6ms\n",
      "video 1/1 (frame 461/622) D:\\programacion\\proyectos\\utec\\IA\\modulo_2_only_yolo\\basic_use\\data\\test.mp4: 640x384 2 persons, 1 tie, 58.8ms\n",
      "video 1/1 (frame 462/622) D:\\programacion\\proyectos\\utec\\IA\\modulo_2_only_yolo\\basic_use\\data\\test.mp4: 640x384 6 persons, 1 tie, 55.8ms\n",
      "video 1/1 (frame 463/622) D:\\programacion\\proyectos\\utec\\IA\\modulo_2_only_yolo\\basic_use\\data\\test.mp4: 640x384 3 persons, 1 tie, 50.1ms\n",
      "video 1/1 (frame 464/622) D:\\programacion\\proyectos\\utec\\IA\\modulo_2_only_yolo\\basic_use\\data\\test.mp4: 640x384 4 persons, 1 tie, 57.5ms\n",
      "video 1/1 (frame 465/622) D:\\programacion\\proyectos\\utec\\IA\\modulo_2_only_yolo\\basic_use\\data\\test.mp4: 640x384 3 persons, 1 tie, 56.4ms\n",
      "video 1/1 (frame 466/622) D:\\programacion\\proyectos\\utec\\IA\\modulo_2_only_yolo\\basic_use\\data\\test.mp4: 640x384 4 persons, 1 tie, 47.6ms\n",
      "video 1/1 (frame 467/622) D:\\programacion\\proyectos\\utec\\IA\\modulo_2_only_yolo\\basic_use\\data\\test.mp4: 640x384 3 persons, 1 tie, 50.2ms\n",
      "video 1/1 (frame 468/622) D:\\programacion\\proyectos\\utec\\IA\\modulo_2_only_yolo\\basic_use\\data\\test.mp4: 640x384 2 persons, 1 tie, 62.6ms\n",
      "video 1/1 (frame 469/622) D:\\programacion\\proyectos\\utec\\IA\\modulo_2_only_yolo\\basic_use\\data\\test.mp4: 640x384 2 persons, 1 tie, 1 banana, 56.8ms\n",
      "video 1/1 (frame 470/622) D:\\programacion\\proyectos\\utec\\IA\\modulo_2_only_yolo\\basic_use\\data\\test.mp4: 640x384 2 persons, 1 tie, 55.9ms\n",
      "video 1/1 (frame 471/622) D:\\programacion\\proyectos\\utec\\IA\\modulo_2_only_yolo\\basic_use\\data\\test.mp4: 640x384 2 persons, 1 tie, 1 banana, 51.0ms\n",
      "video 1/1 (frame 472/622) D:\\programacion\\proyectos\\utec\\IA\\modulo_2_only_yolo\\basic_use\\data\\test.mp4: 640x384 2 persons, 1 tie, 53.5ms\n",
      "video 1/1 (frame 473/622) D:\\programacion\\proyectos\\utec\\IA\\modulo_2_only_yolo\\basic_use\\data\\test.mp4: 640x384 3 persons, 1 tie, 52.2ms\n",
      "video 1/1 (frame 474/622) D:\\programacion\\proyectos\\utec\\IA\\modulo_2_only_yolo\\basic_use\\data\\test.mp4: 640x384 4 persons, 1 tie, 54.1ms\n",
      "video 1/1 (frame 475/622) D:\\programacion\\proyectos\\utec\\IA\\modulo_2_only_yolo\\basic_use\\data\\test.mp4: 640x384 5 persons, 54.6ms\n",
      "video 1/1 (frame 476/622) D:\\programacion\\proyectos\\utec\\IA\\modulo_2_only_yolo\\basic_use\\data\\test.mp4: 640x384 4 persons, 1 tie, 57.1ms\n",
      "video 1/1 (frame 477/622) D:\\programacion\\proyectos\\utec\\IA\\modulo_2_only_yolo\\basic_use\\data\\test.mp4: 640x384 2 persons, 1 tie, 63.0ms\n",
      "video 1/1 (frame 478/622) D:\\programacion\\proyectos\\utec\\IA\\modulo_2_only_yolo\\basic_use\\data\\test.mp4: 640x384 3 persons, 58.8ms\n",
      "video 1/1 (frame 479/622) D:\\programacion\\proyectos\\utec\\IA\\modulo_2_only_yolo\\basic_use\\data\\test.mp4: 640x384 4 persons, 1 tie, 64.8ms\n",
      "video 1/1 (frame 480/622) D:\\programacion\\proyectos\\utec\\IA\\modulo_2_only_yolo\\basic_use\\data\\test.mp4: 640x384 3 persons, 1 tie, 58.8ms\n",
      "video 1/1 (frame 481/622) D:\\programacion\\proyectos\\utec\\IA\\modulo_2_only_yolo\\basic_use\\data\\test.mp4: 640x384 4 persons, 1 tie, 57.7ms\n",
      "video 1/1 (frame 482/622) D:\\programacion\\proyectos\\utec\\IA\\modulo_2_only_yolo\\basic_use\\data\\test.mp4: 640x384 3 persons, 1 tie, 48.4ms\n",
      "video 1/1 (frame 483/622) D:\\programacion\\proyectos\\utec\\IA\\modulo_2_only_yolo\\basic_use\\data\\test.mp4: 640x384 5 persons, 46.1ms\n",
      "video 1/1 (frame 484/622) D:\\programacion\\proyectos\\utec\\IA\\modulo_2_only_yolo\\basic_use\\data\\test.mp4: 640x384 3 persons, 47.0ms\n",
      "video 1/1 (frame 485/622) D:\\programacion\\proyectos\\utec\\IA\\modulo_2_only_yolo\\basic_use\\data\\test.mp4: 640x384 2 persons, 52.1ms\n",
      "video 1/1 (frame 486/622) D:\\programacion\\proyectos\\utec\\IA\\modulo_2_only_yolo\\basic_use\\data\\test.mp4: 640x384 2 persons, 47.1ms\n",
      "video 1/1 (frame 487/622) D:\\programacion\\proyectos\\utec\\IA\\modulo_2_only_yolo\\basic_use\\data\\test.mp4: 640x384 3 persons, 55.9ms\n",
      "video 1/1 (frame 488/622) D:\\programacion\\proyectos\\utec\\IA\\modulo_2_only_yolo\\basic_use\\data\\test.mp4: 640x384 3 persons, 57.1ms\n",
      "video 1/1 (frame 489/622) D:\\programacion\\proyectos\\utec\\IA\\modulo_2_only_yolo\\basic_use\\data\\test.mp4: 640x384 3 persons, 49.9ms\n",
      "video 1/1 (frame 490/622) D:\\programacion\\proyectos\\utec\\IA\\modulo_2_only_yolo\\basic_use\\data\\test.mp4: 640x384 4 persons, 54.1ms\n",
      "video 1/1 (frame 491/622) D:\\programacion\\proyectos\\utec\\IA\\modulo_2_only_yolo\\basic_use\\data\\test.mp4: 640x384 3 persons, 46.5ms\n",
      "video 1/1 (frame 492/622) D:\\programacion\\proyectos\\utec\\IA\\modulo_2_only_yolo\\basic_use\\data\\test.mp4: 640x384 5 persons, 44.5ms\n",
      "video 1/1 (frame 493/622) D:\\programacion\\proyectos\\utec\\IA\\modulo_2_only_yolo\\basic_use\\data\\test.mp4: 640x384 3 persons, 48.2ms\n",
      "video 1/1 (frame 494/622) D:\\programacion\\proyectos\\utec\\IA\\modulo_2_only_yolo\\basic_use\\data\\test.mp4: 640x384 5 persons, 49.0ms\n",
      "video 1/1 (frame 495/622) D:\\programacion\\proyectos\\utec\\IA\\modulo_2_only_yolo\\basic_use\\data\\test.mp4: 640x384 6 persons, 46.3ms\n",
      "video 1/1 (frame 496/622) D:\\programacion\\proyectos\\utec\\IA\\modulo_2_only_yolo\\basic_use\\data\\test.mp4: 640x384 6 persons, 50.1ms\n",
      "video 1/1 (frame 497/622) D:\\programacion\\proyectos\\utec\\IA\\modulo_2_only_yolo\\basic_use\\data\\test.mp4: 640x384 5 persons, 46.6ms\n",
      "video 1/1 (frame 498/622) D:\\programacion\\proyectos\\utec\\IA\\modulo_2_only_yolo\\basic_use\\data\\test.mp4: 640x384 7 persons, 44.8ms\n",
      "video 1/1 (frame 499/622) D:\\programacion\\proyectos\\utec\\IA\\modulo_2_only_yolo\\basic_use\\data\\test.mp4: 640x384 7 persons, 50.7ms\n",
      "video 1/1 (frame 500/622) D:\\programacion\\proyectos\\utec\\IA\\modulo_2_only_yolo\\basic_use\\data\\test.mp4: 640x384 4 persons, 46.0ms\n",
      "video 1/1 (frame 501/622) D:\\programacion\\proyectos\\utec\\IA\\modulo_2_only_yolo\\basic_use\\data\\test.mp4: 640x384 4 persons, 49.2ms\n",
      "video 1/1 (frame 502/622) D:\\programacion\\proyectos\\utec\\IA\\modulo_2_only_yolo\\basic_use\\data\\test.mp4: 640x384 4 persons, 51.8ms\n",
      "video 1/1 (frame 503/622) D:\\programacion\\proyectos\\utec\\IA\\modulo_2_only_yolo\\basic_use\\data\\test.mp4: 640x384 4 persons, 62.6ms\n",
      "video 1/1 (frame 504/622) D:\\programacion\\proyectos\\utec\\IA\\modulo_2_only_yolo\\basic_use\\data\\test.mp4: 640x384 3 persons, 60.4ms\n",
      "video 1/1 (frame 505/622) D:\\programacion\\proyectos\\utec\\IA\\modulo_2_only_yolo\\basic_use\\data\\test.mp4: 640x384 4 persons, 54.5ms\n",
      "video 1/1 (frame 506/622) D:\\programacion\\proyectos\\utec\\IA\\modulo_2_only_yolo\\basic_use\\data\\test.mp4: 640x384 5 persons, 60.5ms\n",
      "video 1/1 (frame 507/622) D:\\programacion\\proyectos\\utec\\IA\\modulo_2_only_yolo\\basic_use\\data\\test.mp4: 640x384 3 persons, 52.8ms\n",
      "video 1/1 (frame 508/622) D:\\programacion\\proyectos\\utec\\IA\\modulo_2_only_yolo\\basic_use\\data\\test.mp4: 640x384 4 persons, 51.7ms\n",
      "video 1/1 (frame 509/622) D:\\programacion\\proyectos\\utec\\IA\\modulo_2_only_yolo\\basic_use\\data\\test.mp4: 640x384 4 persons, 53.1ms\n",
      "video 1/1 (frame 510/622) D:\\programacion\\proyectos\\utec\\IA\\modulo_2_only_yolo\\basic_use\\data\\test.mp4: 640x384 3 persons, 53.9ms\n",
      "video 1/1 (frame 511/622) D:\\programacion\\proyectos\\utec\\IA\\modulo_2_only_yolo\\basic_use\\data\\test.mp4: 640x384 4 persons, 51.0ms\n",
      "video 1/1 (frame 512/622) D:\\programacion\\proyectos\\utec\\IA\\modulo_2_only_yolo\\basic_use\\data\\test.mp4: 640x384 4 persons, 1 tv, 45.8ms\n",
      "video 1/1 (frame 513/622) D:\\programacion\\proyectos\\utec\\IA\\modulo_2_only_yolo\\basic_use\\data\\test.mp4: 640x384 4 persons, 45.4ms\n",
      "video 1/1 (frame 514/622) D:\\programacion\\proyectos\\utec\\IA\\modulo_2_only_yolo\\basic_use\\data\\test.mp4: 640x384 2 persons, 54.0ms\n",
      "video 1/1 (frame 515/622) D:\\programacion\\proyectos\\utec\\IA\\modulo_2_only_yolo\\basic_use\\data\\test.mp4: 640x384 2 persons, 48.0ms\n",
      "video 1/1 (frame 516/622) D:\\programacion\\proyectos\\utec\\IA\\modulo_2_only_yolo\\basic_use\\data\\test.mp4: 640x384 4 persons, 47.0ms\n",
      "video 1/1 (frame 517/622) D:\\programacion\\proyectos\\utec\\IA\\modulo_2_only_yolo\\basic_use\\data\\test.mp4: 640x384 5 persons, 48.6ms\n",
      "video 1/1 (frame 518/622) D:\\programacion\\proyectos\\utec\\IA\\modulo_2_only_yolo\\basic_use\\data\\test.mp4: 640x384 5 persons, 1 tv, 63.0ms\n",
      "video 1/1 (frame 519/622) D:\\programacion\\proyectos\\utec\\IA\\modulo_2_only_yolo\\basic_use\\data\\test.mp4: 640x384 3 persons, 1 tie, 59.6ms\n",
      "video 1/1 (frame 520/622) D:\\programacion\\proyectos\\utec\\IA\\modulo_2_only_yolo\\basic_use\\data\\test.mp4: 640x384 3 persons, 48.4ms\n",
      "video 1/1 (frame 521/622) D:\\programacion\\proyectos\\utec\\IA\\modulo_2_only_yolo\\basic_use\\data\\test.mp4: 640x384 4 persons, 1 tie, 46.4ms\n",
      "video 1/1 (frame 522/622) D:\\programacion\\proyectos\\utec\\IA\\modulo_2_only_yolo\\basic_use\\data\\test.mp4: 640x384 3 persons, 49.6ms\n",
      "video 1/1 (frame 523/622) D:\\programacion\\proyectos\\utec\\IA\\modulo_2_only_yolo\\basic_use\\data\\test.mp4: 640x384 7 persons, 1 tie, 46.6ms\n",
      "video 1/1 (frame 524/622) D:\\programacion\\proyectos\\utec\\IA\\modulo_2_only_yolo\\basic_use\\data\\test.mp4: 640x384 7 persons, 1 tie, 45.8ms\n",
      "video 1/1 (frame 525/622) D:\\programacion\\proyectos\\utec\\IA\\modulo_2_only_yolo\\basic_use\\data\\test.mp4: 640x384 7 persons, 1 tie, 47.4ms\n",
      "video 1/1 (frame 526/622) D:\\programacion\\proyectos\\utec\\IA\\modulo_2_only_yolo\\basic_use\\data\\test.mp4: 640x384 5 persons, 1 tie, 51.1ms\n",
      "video 1/1 (frame 527/622) D:\\programacion\\proyectos\\utec\\IA\\modulo_2_only_yolo\\basic_use\\data\\test.mp4: 640x384 5 persons, 51.3ms\n",
      "video 1/1 (frame 528/622) D:\\programacion\\proyectos\\utec\\IA\\modulo_2_only_yolo\\basic_use\\data\\test.mp4: 640x384 4 persons, 44.1ms\n",
      "video 1/1 (frame 529/622) D:\\programacion\\proyectos\\utec\\IA\\modulo_2_only_yolo\\basic_use\\data\\test.mp4: 640x384 3 persons, 51.7ms\n",
      "video 1/1 (frame 530/622) D:\\programacion\\proyectos\\utec\\IA\\modulo_2_only_yolo\\basic_use\\data\\test.mp4: 640x384 5 persons, 51.8ms\n",
      "video 1/1 (frame 531/622) D:\\programacion\\proyectos\\utec\\IA\\modulo_2_only_yolo\\basic_use\\data\\test.mp4: 640x384 5 persons, 44.9ms\n",
      "video 1/1 (frame 532/622) D:\\programacion\\proyectos\\utec\\IA\\modulo_2_only_yolo\\basic_use\\data\\test.mp4: 640x384 7 persons, 53.7ms\n",
      "video 1/1 (frame 533/622) D:\\programacion\\proyectos\\utec\\IA\\modulo_2_only_yolo\\basic_use\\data\\test.mp4: 640x384 6 persons, 53.3ms\n",
      "video 1/1 (frame 534/622) D:\\programacion\\proyectos\\utec\\IA\\modulo_2_only_yolo\\basic_use\\data\\test.mp4: 640x384 7 persons, 58.5ms\n",
      "video 1/1 (frame 535/622) D:\\programacion\\proyectos\\utec\\IA\\modulo_2_only_yolo\\basic_use\\data\\test.mp4: 640x384 6 persons, 1 handbag, 54.9ms\n",
      "video 1/1 (frame 536/622) D:\\programacion\\proyectos\\utec\\IA\\modulo_2_only_yolo\\basic_use\\data\\test.mp4: 640x384 5 persons, 1 handbag, 54.6ms\n",
      "video 1/1 (frame 537/622) D:\\programacion\\proyectos\\utec\\IA\\modulo_2_only_yolo\\basic_use\\data\\test.mp4: 640x384 4 persons, 54.2ms\n",
      "video 1/1 (frame 538/622) D:\\programacion\\proyectos\\utec\\IA\\modulo_2_only_yolo\\basic_use\\data\\test.mp4: 640x384 4 persons, 54.9ms\n",
      "video 1/1 (frame 539/622) D:\\programacion\\proyectos\\utec\\IA\\modulo_2_only_yolo\\basic_use\\data\\test.mp4: 640x384 5 persons, 51.1ms\n",
      "video 1/1 (frame 540/622) D:\\programacion\\proyectos\\utec\\IA\\modulo_2_only_yolo\\basic_use\\data\\test.mp4: 640x384 4 persons, 46.4ms\n",
      "video 1/1 (frame 541/622) D:\\programacion\\proyectos\\utec\\IA\\modulo_2_only_yolo\\basic_use\\data\\test.mp4: 640x384 2 persons, 49.4ms\n",
      "video 1/1 (frame 542/622) D:\\programacion\\proyectos\\utec\\IA\\modulo_2_only_yolo\\basic_use\\data\\test.mp4: 640x384 2 persons, 46.4ms\n",
      "video 1/1 (frame 543/622) D:\\programacion\\proyectos\\utec\\IA\\modulo_2_only_yolo\\basic_use\\data\\test.mp4: 640x384 2 persons, 49.3ms\n",
      "video 1/1 (frame 544/622) D:\\programacion\\proyectos\\utec\\IA\\modulo_2_only_yolo\\basic_use\\data\\test.mp4: 640x384 4 persons, 51.0ms\n",
      "video 1/1 (frame 545/622) D:\\programacion\\proyectos\\utec\\IA\\modulo_2_only_yolo\\basic_use\\data\\test.mp4: 640x384 1 person, 49.9ms\n",
      "video 1/1 (frame 546/622) D:\\programacion\\proyectos\\utec\\IA\\modulo_2_only_yolo\\basic_use\\data\\test.mp4: 640x384 3 persons, 49.6ms\n",
      "video 1/1 (frame 547/622) D:\\programacion\\proyectos\\utec\\IA\\modulo_2_only_yolo\\basic_use\\data\\test.mp4: 640x384 4 persons, 51.5ms\n",
      "video 1/1 (frame 548/622) D:\\programacion\\proyectos\\utec\\IA\\modulo_2_only_yolo\\basic_use\\data\\test.mp4: 640x384 5 persons, 45.6ms\n",
      "video 1/1 (frame 549/622) D:\\programacion\\proyectos\\utec\\IA\\modulo_2_only_yolo\\basic_use\\data\\test.mp4: 640x384 3 persons, 56.1ms\n",
      "video 1/1 (frame 550/622) D:\\programacion\\proyectos\\utec\\IA\\modulo_2_only_yolo\\basic_use\\data\\test.mp4: 640x384 4 persons, 50.4ms\n",
      "video 1/1 (frame 551/622) D:\\programacion\\proyectos\\utec\\IA\\modulo_2_only_yolo\\basic_use\\data\\test.mp4: 640x384 3 persons, 48.4ms\n",
      "video 1/1 (frame 552/622) D:\\programacion\\proyectos\\utec\\IA\\modulo_2_only_yolo\\basic_use\\data\\test.mp4: 640x384 5 persons, 48.9ms\n",
      "video 1/1 (frame 553/622) D:\\programacion\\proyectos\\utec\\IA\\modulo_2_only_yolo\\basic_use\\data\\test.mp4: 640x384 2 persons, 50.0ms\n",
      "video 1/1 (frame 554/622) D:\\programacion\\proyectos\\utec\\IA\\modulo_2_only_yolo\\basic_use\\data\\test.mp4: 640x384 3 persons, 46.5ms\n",
      "video 1/1 (frame 555/622) D:\\programacion\\proyectos\\utec\\IA\\modulo_2_only_yolo\\basic_use\\data\\test.mp4: 640x384 4 persons, 49.7ms\n",
      "video 1/1 (frame 556/622) D:\\programacion\\proyectos\\utec\\IA\\modulo_2_only_yolo\\basic_use\\data\\test.mp4: 640x384 7 persons, 47.3ms\n",
      "video 1/1 (frame 557/622) D:\\programacion\\proyectos\\utec\\IA\\modulo_2_only_yolo\\basic_use\\data\\test.mp4: 640x384 3 persons, 1 handbag, 50.0ms\n",
      "video 1/1 (frame 558/622) D:\\programacion\\proyectos\\utec\\IA\\modulo_2_only_yolo\\basic_use\\data\\test.mp4: 640x384 4 persons, 1 handbag, 47.7ms\n",
      "video 1/1 (frame 559/622) D:\\programacion\\proyectos\\utec\\IA\\modulo_2_only_yolo\\basic_use\\data\\test.mp4: 640x384 4 persons, 1 handbag, 59.1ms\n",
      "video 1/1 (frame 560/622) D:\\programacion\\proyectos\\utec\\IA\\modulo_2_only_yolo\\basic_use\\data\\test.mp4: 640x384 3 persons, 56.3ms\n",
      "video 1/1 (frame 561/622) D:\\programacion\\proyectos\\utec\\IA\\modulo_2_only_yolo\\basic_use\\data\\test.mp4: 640x384 4 persons, 58.7ms\n",
      "video 1/1 (frame 562/622) D:\\programacion\\proyectos\\utec\\IA\\modulo_2_only_yolo\\basic_use\\data\\test.mp4: 640x384 3 persons, 58.8ms\n",
      "video 1/1 (frame 563/622) D:\\programacion\\proyectos\\utec\\IA\\modulo_2_only_yolo\\basic_use\\data\\test.mp4: 640x384 3 persons, 53.3ms\n",
      "video 1/1 (frame 564/622) D:\\programacion\\proyectos\\utec\\IA\\modulo_2_only_yolo\\basic_use\\data\\test.mp4: 640x384 4 persons, 57.3ms\n",
      "video 1/1 (frame 565/622) D:\\programacion\\proyectos\\utec\\IA\\modulo_2_only_yolo\\basic_use\\data\\test.mp4: 640x384 4 persons, 64.0ms\n",
      "video 1/1 (frame 566/622) D:\\programacion\\proyectos\\utec\\IA\\modulo_2_only_yolo\\basic_use\\data\\test.mp4: 640x384 3 persons, 55.8ms\n",
      "video 1/1 (frame 567/622) D:\\programacion\\proyectos\\utec\\IA\\modulo_2_only_yolo\\basic_use\\data\\test.mp4: 640x384 4 persons, 58.8ms\n",
      "video 1/1 (frame 568/622) D:\\programacion\\proyectos\\utec\\IA\\modulo_2_only_yolo\\basic_use\\data\\test.mp4: 640x384 4 persons, 48.9ms\n",
      "video 1/1 (frame 569/622) D:\\programacion\\proyectos\\utec\\IA\\modulo_2_only_yolo\\basic_use\\data\\test.mp4: 640x384 4 persons, 69.7ms\n",
      "video 1/1 (frame 570/622) D:\\programacion\\proyectos\\utec\\IA\\modulo_2_only_yolo\\basic_use\\data\\test.mp4: 640x384 5 persons, 72.3ms\n",
      "video 1/1 (frame 571/622) D:\\programacion\\proyectos\\utec\\IA\\modulo_2_only_yolo\\basic_use\\data\\test.mp4: 640x384 4 persons, 46.6ms\n",
      "video 1/1 (frame 572/622) D:\\programacion\\proyectos\\utec\\IA\\modulo_2_only_yolo\\basic_use\\data\\test.mp4: 640x384 4 persons, 58.3ms\n",
      "video 1/1 (frame 573/622) D:\\programacion\\proyectos\\utec\\IA\\modulo_2_only_yolo\\basic_use\\data\\test.mp4: 640x384 4 persons, 54.5ms\n",
      "video 1/1 (frame 574/622) D:\\programacion\\proyectos\\utec\\IA\\modulo_2_only_yolo\\basic_use\\data\\test.mp4: 640x384 4 persons, 48.6ms\n",
      "video 1/1 (frame 575/622) D:\\programacion\\proyectos\\utec\\IA\\modulo_2_only_yolo\\basic_use\\data\\test.mp4: 640x384 4 persons, 52.2ms\n",
      "video 1/1 (frame 576/622) D:\\programacion\\proyectos\\utec\\IA\\modulo_2_only_yolo\\basic_use\\data\\test.mp4: 640x384 4 persons, 1 tie, 48.0ms\n",
      "video 1/1 (frame 577/622) D:\\programacion\\proyectos\\utec\\IA\\modulo_2_only_yolo\\basic_use\\data\\test.mp4: 640x384 5 persons, 1 tie, 51.4ms\n",
      "video 1/1 (frame 578/622) D:\\programacion\\proyectos\\utec\\IA\\modulo_2_only_yolo\\basic_use\\data\\test.mp4: 640x384 5 persons, 1 tie, 47.1ms\n",
      "video 1/1 (frame 579/622) D:\\programacion\\proyectos\\utec\\IA\\modulo_2_only_yolo\\basic_use\\data\\test.mp4: 640x384 8 persons, 1 tie, 50.6ms\n",
      "video 1/1 (frame 580/622) D:\\programacion\\proyectos\\utec\\IA\\modulo_2_only_yolo\\basic_use\\data\\test.mp4: 640x384 6 persons, 1 tie, 51.2ms\n",
      "video 1/1 (frame 581/622) D:\\programacion\\proyectos\\utec\\IA\\modulo_2_only_yolo\\basic_use\\data\\test.mp4: 640x384 7 persons, 1 tie, 64.1ms\n",
      "video 1/1 (frame 582/622) D:\\programacion\\proyectos\\utec\\IA\\modulo_2_only_yolo\\basic_use\\data\\test.mp4: 640x384 7 persons, 1 tie, 56.7ms\n",
      "video 1/1 (frame 583/622) D:\\programacion\\proyectos\\utec\\IA\\modulo_2_only_yolo\\basic_use\\data\\test.mp4: 640x384 7 persons, 1 tie, 68.3ms\n",
      "video 1/1 (frame 584/622) D:\\programacion\\proyectos\\utec\\IA\\modulo_2_only_yolo\\basic_use\\data\\test.mp4: 640x384 5 persons, 1 handbag, 59.7ms\n",
      "video 1/1 (frame 585/622) D:\\programacion\\proyectos\\utec\\IA\\modulo_2_only_yolo\\basic_use\\data\\test.mp4: 640x384 7 persons, 54.5ms\n",
      "video 1/1 (frame 586/622) D:\\programacion\\proyectos\\utec\\IA\\modulo_2_only_yolo\\basic_use\\data\\test.mp4: 640x384 4 persons, 55.5ms\n",
      "video 1/1 (frame 587/622) D:\\programacion\\proyectos\\utec\\IA\\modulo_2_only_yolo\\basic_use\\data\\test.mp4: 640x384 5 persons, 56.1ms\n",
      "video 1/1 (frame 588/622) D:\\programacion\\proyectos\\utec\\IA\\modulo_2_only_yolo\\basic_use\\data\\test.mp4: 640x384 4 persons, 58.2ms\n",
      "video 1/1 (frame 589/622) D:\\programacion\\proyectos\\utec\\IA\\modulo_2_only_yolo\\basic_use\\data\\test.mp4: 640x384 6 persons, 60.8ms\n",
      "video 1/1 (frame 590/622) D:\\programacion\\proyectos\\utec\\IA\\modulo_2_only_yolo\\basic_use\\data\\test.mp4: 640x384 5 persons, 63.9ms\n",
      "video 1/1 (frame 591/622) D:\\programacion\\proyectos\\utec\\IA\\modulo_2_only_yolo\\basic_use\\data\\test.mp4: 640x384 6 persons, 59.6ms\n",
      "video 1/1 (frame 592/622) D:\\programacion\\proyectos\\utec\\IA\\modulo_2_only_yolo\\basic_use\\data\\test.mp4: 640x384 6 persons, 1 handbag, 60.3ms\n",
      "video 1/1 (frame 593/622) D:\\programacion\\proyectos\\utec\\IA\\modulo_2_only_yolo\\basic_use\\data\\test.mp4: 640x384 6 persons, 59.7ms\n",
      "video 1/1 (frame 594/622) D:\\programacion\\proyectos\\utec\\IA\\modulo_2_only_yolo\\basic_use\\data\\test.mp4: 640x384 5 persons, 1 handbag, 60.4ms\n",
      "video 1/1 (frame 595/622) D:\\programacion\\proyectos\\utec\\IA\\modulo_2_only_yolo\\basic_use\\data\\test.mp4: 640x384 5 persons, 2 handbags, 60.2ms\n",
      "video 1/1 (frame 596/622) D:\\programacion\\proyectos\\utec\\IA\\modulo_2_only_yolo\\basic_use\\data\\test.mp4: 640x384 7 persons, 1 handbag, 49.5ms\n",
      "video 1/1 (frame 597/622) D:\\programacion\\proyectos\\utec\\IA\\modulo_2_only_yolo\\basic_use\\data\\test.mp4: 640x384 5 persons, 1 tie, 54.7ms\n",
      "video 1/1 (frame 598/622) D:\\programacion\\proyectos\\utec\\IA\\modulo_2_only_yolo\\basic_use\\data\\test.mp4: 640x384 5 persons, 45.7ms\n",
      "video 1/1 (frame 599/622) D:\\programacion\\proyectos\\utec\\IA\\modulo_2_only_yolo\\basic_use\\data\\test.mp4: 640x384 5 persons, 47.5ms\n",
      "video 1/1 (frame 600/622) D:\\programacion\\proyectos\\utec\\IA\\modulo_2_only_yolo\\basic_use\\data\\test.mp4: 640x384 4 persons, 45.9ms\n",
      "video 1/1 (frame 601/622) D:\\programacion\\proyectos\\utec\\IA\\modulo_2_only_yolo\\basic_use\\data\\test.mp4: 640x384 6 persons, 47.1ms\n",
      "video 1/1 (frame 602/622) D:\\programacion\\proyectos\\utec\\IA\\modulo_2_only_yolo\\basic_use\\data\\test.mp4: 640x384 6 persons, 1 tie, 46.1ms\n",
      "video 1/1 (frame 603/622) D:\\programacion\\proyectos\\utec\\IA\\modulo_2_only_yolo\\basic_use\\data\\test.mp4: 640x384 6 persons, 1 tie, 45.7ms\n",
      "video 1/1 (frame 604/622) D:\\programacion\\proyectos\\utec\\IA\\modulo_2_only_yolo\\basic_use\\data\\test.mp4: 640x384 6 persons, 1 tie, 44.2ms\n",
      "video 1/1 (frame 605/622) D:\\programacion\\proyectos\\utec\\IA\\modulo_2_only_yolo\\basic_use\\data\\test.mp4: 640x384 6 persons, 1 handbag, 1 tie, 44.9ms\n",
      "video 1/1 (frame 606/622) D:\\programacion\\proyectos\\utec\\IA\\modulo_2_only_yolo\\basic_use\\data\\test.mp4: 640x384 5 persons, 1 tie, 49.6ms\n",
      "video 1/1 (frame 607/622) D:\\programacion\\proyectos\\utec\\IA\\modulo_2_only_yolo\\basic_use\\data\\test.mp4: 640x384 6 persons, 1 tie, 47.3ms\n",
      "video 1/1 (frame 608/622) D:\\programacion\\proyectos\\utec\\IA\\modulo_2_only_yolo\\basic_use\\data\\test.mp4: 640x384 5 persons, 1 tie, 45.3ms\n",
      "video 1/1 (frame 609/622) D:\\programacion\\proyectos\\utec\\IA\\modulo_2_only_yolo\\basic_use\\data\\test.mp4: 640x384 4 persons, 1 tie, 45.8ms\n",
      "video 1/1 (frame 610/622) D:\\programacion\\proyectos\\utec\\IA\\modulo_2_only_yolo\\basic_use\\data\\test.mp4: 640x384 7 persons, 49.8ms\n",
      "video 1/1 (frame 611/622) D:\\programacion\\proyectos\\utec\\IA\\modulo_2_only_yolo\\basic_use\\data\\test.mp4: 640x384 5 persons, 49.1ms\n",
      "video 1/1 (frame 612/622) D:\\programacion\\proyectos\\utec\\IA\\modulo_2_only_yolo\\basic_use\\data\\test.mp4: 640x384 5 persons, 1 tie, 57.2ms\n",
      "video 1/1 (frame 613/622) D:\\programacion\\proyectos\\utec\\IA\\modulo_2_only_yolo\\basic_use\\data\\test.mp4: 640x384 5 persons, 1 tie, 58.5ms\n",
      "video 1/1 (frame 614/622) D:\\programacion\\proyectos\\utec\\IA\\modulo_2_only_yolo\\basic_use\\data\\test.mp4: 640x384 6 persons, 50.0ms\n",
      "video 1/1 (frame 615/622) D:\\programacion\\proyectos\\utec\\IA\\modulo_2_only_yolo\\basic_use\\data\\test.mp4: 640x384 5 persons, 2 ties, 49.8ms\n",
      "video 1/1 (frame 616/622) D:\\programacion\\proyectos\\utec\\IA\\modulo_2_only_yolo\\basic_use\\data\\test.mp4: 640x384 6 persons, 44.4ms\n",
      "video 1/1 (frame 617/622) D:\\programacion\\proyectos\\utec\\IA\\modulo_2_only_yolo\\basic_use\\data\\test.mp4: 640x384 5 persons, 1 tie, 53.6ms\n",
      "video 1/1 (frame 618/622) D:\\programacion\\proyectos\\utec\\IA\\modulo_2_only_yolo\\basic_use\\data\\test.mp4: 640x384 4 persons, 1 tie, 54.2ms\n",
      "video 1/1 (frame 619/622) D:\\programacion\\proyectos\\utec\\IA\\modulo_2_only_yolo\\basic_use\\data\\test.mp4: 640x384 5 persons, 1 tie, 56.5ms\n",
      "video 1/1 (frame 620/622) D:\\programacion\\proyectos\\utec\\IA\\modulo_2_only_yolo\\basic_use\\data\\test.mp4: 640x384 5 persons, 1 tie, 52.6ms\n",
      "video 1/1 (frame 621/622) D:\\programacion\\proyectos\\utec\\IA\\modulo_2_only_yolo\\basic_use\\data\\test.mp4: 640x384 6 persons, 1 tie, 56.3ms\n",
      "video 1/1 (frame 622/622) D:\\programacion\\proyectos\\utec\\IA\\modulo_2_only_yolo\\basic_use\\data\\test.mp4: 640x384 4 persons, 2 ties, 55.3ms\n",
      "Speed: 1.4ms preprocess, 53.6ms inference, 0.8ms postprocess per image at shape (1, 3, 640, 384)\n",
      "Results saved to \u001B[1mD:\\programacion\\proyectos\\utec\\IA\\runs\\detect\\train82\u001B[0m\n"
     ]
    }
   ],
   "execution_count": 5
  },
  {
   "metadata": {},
   "cell_type": "code",
   "outputs": [],
   "execution_count": null,
   "source": "",
   "id": "c314cd7e3dff184e"
  }
 ],
 "metadata": {
  "kernelspec": {
   "display_name": "Python 3",
   "language": "python",
   "name": "python3"
  },
  "language_info": {
   "codemirror_mode": {
    "name": "ipython",
    "version": 2
   },
   "file_extension": ".py",
   "mimetype": "text/x-python",
   "name": "python",
   "nbconvert_exporter": "python",
   "pygments_lexer": "ipython2",
   "version": "2.7.6"
  }
 },
 "nbformat": 4,
 "nbformat_minor": 5
}
