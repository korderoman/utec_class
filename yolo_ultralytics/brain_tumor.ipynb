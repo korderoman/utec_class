{
 "cells": [
  {
   "cell_type": "code",
   "id": "initial_id",
   "metadata": {
    "collapsed": true,
    "ExecuteTime": {
     "end_time": "2025-05-14T00:18:21.323822Z",
     "start_time": "2025-05-14T00:18:19.576362Z"
    }
   },
   "source": "from ultralytics import  YOLO",
   "outputs": [],
   "execution_count": 1
  },
  {
   "metadata": {
    "ExecuteTime": {
     "end_time": "2025-05-14T02:21:43.991600Z",
     "start_time": "2025-05-14T01:38:12.385752Z"
    }
   },
   "cell_type": "code",
   "source": [
    "#carga del modelo\n",
    "model=YOLO(\"yolo11n.pt\")\n",
    "path_yaml=r\"D:\\programacion\\proyectos\\utec\\IA\\modulo_2_only_yolo\\brain_tumor\\data\\brain-tumor\\data.yaml\"\n",
    "path_trained=r\"D:\\programacion\\proyectos\\utec\\IA\\modulo_2_only_yolo\\brain_tumor\\trained\"\n",
    "resuts=model.train(data=path_yaml, epochs=100, project=path_trained, name=\"brain_model\")"
   ],
   "id": "2186f78a55984bdd",
   "outputs": [
    {
     "name": "stdout",
     "output_type": "stream",
     "text": [
      "Ultralytics 8.3.133  Python-3.13.1 torch-2.7.0+cpu CPU (Intel Core(TM) i7-9700KF 3.60GHz)\n",
      "\u001B[34m\u001B[1mengine\\trainer: \u001B[0magnostic_nms=False, amp=True, augment=False, auto_augment=randaugment, batch=16, bgr=0.0, box=7.5, cache=False, cfg=None, classes=None, close_mosaic=10, cls=0.5, conf=None, copy_paste=0.0, copy_paste_mode=flip, cos_lr=False, cutmix=0.0, data=D:\\programacion\\proyectos\\utec\\IA\\modulo_2_only_yolo\\brain_tumor\\data\\brain-tumor\\data.yaml, degrees=0.0, deterministic=True, device=cpu, dfl=1.5, dnn=False, dropout=0.0, dynamic=False, embed=None, epochs=5, erasing=0.4, exist_ok=False, fliplr=0.5, flipud=0.0, format=torchscript, fraction=1.0, freeze=None, half=False, hsv_h=0.015, hsv_s=0.7, hsv_v=0.4, imgsz=640, int8=False, iou=0.7, keras=False, kobj=1.0, line_width=None, lr0=0.01, lrf=0.01, mask_ratio=4, max_det=300, mixup=0.0, mode=train, model=yolo11n.pt, momentum=0.937, mosaic=1.0, multi_scale=False, name=brain_model, nbs=64, nms=False, opset=None, optimize=False, optimizer=auto, overlap_mask=True, patience=100, perspective=0.0, plots=True, pose=12.0, pretrained=True, profile=False, project=D:\\programacion\\proyectos\\utec\\IA\\modulo_2_only_yolo\\brain_tumor\\trained, rect=False, resume=False, retina_masks=False, save=True, save_conf=False, save_crop=False, save_dir=D:\\programacion\\proyectos\\utec\\IA\\modulo_2_only_yolo\\brain_tumor\\trained\\brain_model, save_frames=False, save_json=False, save_period=-1, save_txt=False, scale=0.5, seed=0, shear=0.0, show=False, show_boxes=True, show_conf=True, show_labels=True, simplify=True, single_cls=False, source=None, split=val, stream_buffer=False, task=detect, time=None, tracker=botsort.yaml, translate=0.1, val=True, verbose=True, vid_stride=1, visualize=False, warmup_bias_lr=0.1, warmup_epochs=3.0, warmup_momentum=0.8, weight_decay=0.0005, workers=8, workspace=None\n",
      "Overriding model.yaml nc=80 with nc=2\n",
      "\n",
      "                   from  n    params  module                                       arguments                     \n",
      "  0                  -1  1       464  ultralytics.nn.modules.conv.Conv             [3, 16, 3, 2]                 \n",
      "  1                  -1  1      4672  ultralytics.nn.modules.conv.Conv             [16, 32, 3, 2]                \n",
      "  2                  -1  1      6640  ultralytics.nn.modules.block.C3k2            [32, 64, 1, False, 0.25]      \n",
      "  3                  -1  1     36992  ultralytics.nn.modules.conv.Conv             [64, 64, 3, 2]                \n",
      "  4                  -1  1     26080  ultralytics.nn.modules.block.C3k2            [64, 128, 1, False, 0.25]     \n",
      "  5                  -1  1    147712  ultralytics.nn.modules.conv.Conv             [128, 128, 3, 2]              \n",
      "  6                  -1  1     87040  ultralytics.nn.modules.block.C3k2            [128, 128, 1, True]           \n",
      "  7                  -1  1    295424  ultralytics.nn.modules.conv.Conv             [128, 256, 3, 2]              \n",
      "  8                  -1  1    346112  ultralytics.nn.modules.block.C3k2            [256, 256, 1, True]           \n",
      "  9                  -1  1    164608  ultralytics.nn.modules.block.SPPF            [256, 256, 5]                 \n",
      " 10                  -1  1    249728  ultralytics.nn.modules.block.C2PSA           [256, 256, 1]                 \n",
      " 11                  -1  1         0  torch.nn.modules.upsampling.Upsample         [None, 2, 'nearest']          \n",
      " 12             [-1, 6]  1         0  ultralytics.nn.modules.conv.Concat           [1]                           \n",
      " 13                  -1  1    111296  ultralytics.nn.modules.block.C3k2            [384, 128, 1, False]          \n",
      " 14                  -1  1         0  torch.nn.modules.upsampling.Upsample         [None, 2, 'nearest']          \n",
      " 15             [-1, 4]  1         0  ultralytics.nn.modules.conv.Concat           [1]                           \n",
      " 16                  -1  1     32096  ultralytics.nn.modules.block.C3k2            [256, 64, 1, False]           \n",
      " 17                  -1  1     36992  ultralytics.nn.modules.conv.Conv             [64, 64, 3, 2]                \n",
      " 18            [-1, 13]  1         0  ultralytics.nn.modules.conv.Concat           [1]                           \n",
      " 19                  -1  1     86720  ultralytics.nn.modules.block.C3k2            [192, 128, 1, False]          \n",
      " 20                  -1  1    147712  ultralytics.nn.modules.conv.Conv             [128, 128, 3, 2]              \n",
      " 21            [-1, 10]  1         0  ultralytics.nn.modules.conv.Concat           [1]                           \n",
      " 22                  -1  1    378880  ultralytics.nn.modules.block.C3k2            [384, 256, 1, True]           \n",
      " 23        [16, 19, 22]  1    431062  ultralytics.nn.modules.head.Detect           [2, [64, 128, 256]]           \n",
      "YOLO11n summary: 181 layers, 2,590,230 parameters, 2,590,214 gradients, 6.4 GFLOPs\n",
      "\n",
      "Transferred 448/499 items from pretrained weights\n",
      "Freezing layer 'model.23.dfl.conv.weight'\n",
      "\u001B[34m\u001B[1mtrain: \u001B[0mFast image access  (ping: 0.10.0 ms, read: 28.29.4 MB/s, size: 3.7 KB)\n"
     ]
    },
    {
     "name": "stderr",
     "output_type": "stream",
     "text": [
      "\u001B[34m\u001B[1mtrain: \u001B[0mScanning D:\\programacion\\proyectos\\utec\\datasets\\brain-tumor\\train\\labels.cache... 878 images, 15 backgrounds, 0 corrupt: 100%|██████████| 893/893 [00:00<?, ?it/s]"
     ]
    },
    {
     "name": "stdout",
     "output_type": "stream",
     "text": [
      "\u001B[34m\u001B[1mval: \u001B[0mFast image access  (ping: 0.10.0 ms, read: 9.54.1 MB/s, size: 3.4 KB)\n"
     ]
    },
    {
     "name": "stderr",
     "output_type": "stream",
     "text": [
      "\n",
      "D:\\programacion\\proyectos\\utec\\IA\\modulo_2_only_yolo\\.venv\\Lib\\site-packages\\torch\\utils\\data\\dataloader.py:665: UserWarning: 'pin_memory' argument is set as true but no accelerator is found, then device pinned memory won't be used.\n",
      "  warnings.warn(warn_msg)\n",
      "\u001B[34m\u001B[1mval: \u001B[0mScanning D:\\programacion\\proyectos\\utec\\datasets\\brain-tumor\\valid\\labels.cache... 223 images, 0 backgrounds, 0 corrupt: 100%|██████████| 223/223 [00:00<?, ?it/s]"
     ]
    },
    {
     "name": "stdout",
     "output_type": "stream",
     "text": [
      "Plotting labels to D:\\programacion\\proyectos\\utec\\IA\\modulo_2_only_yolo\\brain_tumor\\trained\\brain_model\\labels.jpg... \n"
     ]
    },
    {
     "name": "stderr",
     "output_type": "stream",
     "text": [
      "\n",
      "D:\\programacion\\proyectos\\utec\\IA\\modulo_2_only_yolo\\.venv\\Lib\\site-packages\\torch\\utils\\data\\dataloader.py:665: UserWarning: 'pin_memory' argument is set as true but no accelerator is found, then device pinned memory won't be used.\n",
      "  warnings.warn(warn_msg)\n"
     ]
    },
    {
     "name": "stdout",
     "output_type": "stream",
     "text": [
      "\u001B[34m\u001B[1moptimizer:\u001B[0m 'optimizer=auto' found, ignoring 'lr0=0.01' and 'momentum=0.937' and determining best 'optimizer', 'lr0' and 'momentum' automatically... \n",
      "\u001B[34m\u001B[1moptimizer:\u001B[0m AdamW(lr=0.001667, momentum=0.9) with parameter groups 81 weight(decay=0.0), 88 weight(decay=0.0005), 87 bias(decay=0.0)\n",
      "Image sizes 640 train, 640 val\n",
      "Using 0 dataloader workers\n",
      "Logging results to \u001B[1mD:\\programacion\\proyectos\\utec\\IA\\modulo_2_only_yolo\\brain_tumor\\trained\\brain_model\u001B[0m\n",
      "Starting training for 5 epochs...\n",
      "\n",
      "      Epoch    GPU_mem   box_loss   cls_loss   dfl_loss  Instances       Size\n"
     ]
    },
    {
     "name": "stderr",
     "output_type": "stream",
     "text": [
      "        4/5         0G      1.154      1.912      1.116         22        640: 100%|██████████| 56/56 [10:48<00:00, 11.58s/it]\n",
      "                 Class     Images  Instances      Box(P          R      mAP50  mAP50-95): 100%|██████████| 7/7 [00:48<00:00,  6.98s/it]"
     ]
    },
    {
     "name": "stdout",
     "output_type": "stream",
     "text": [
      "                   all        223        241      0.454      0.774      0.475      0.326\n"
     ]
    },
    {
     "name": "stderr",
     "output_type": "stream",
     "text": [
      "\n"
     ]
    },
    {
     "name": "stdout",
     "output_type": "stream",
     "text": [
      "\n",
      "      Epoch    GPU_mem   box_loss   cls_loss   dfl_loss  Instances       Size\n"
     ]
    },
    {
     "name": "stderr",
     "output_type": "stream",
     "text": [
      "        5/5         0G      1.062      1.699      1.066         22        640: 100%|██████████| 56/56 [08:32<00:00,  9.15s/it]\n",
      "                 Class     Images  Instances      Box(P          R      mAP50  mAP50-95): 100%|██████████| 7/7 [00:30<00:00,  4.31s/it]"
     ]
    },
    {
     "name": "stdout",
     "output_type": "stream",
     "text": [
      "                   all        223        241      0.473      0.815       0.47      0.332\n"
     ]
    },
    {
     "name": "stderr",
     "output_type": "stream",
     "text": [
      "\n"
     ]
    },
    {
     "name": "stdout",
     "output_type": "stream",
     "text": [
      "\n",
      "5 epochs completed in 0.717 hours.\n",
      "Optimizer stripped from D:\\programacion\\proyectos\\utec\\IA\\modulo_2_only_yolo\\brain_tumor\\trained\\brain_model\\weights\\last.pt, 5.5MB\n",
      "Optimizer stripped from D:\\programacion\\proyectos\\utec\\IA\\modulo_2_only_yolo\\brain_tumor\\trained\\brain_model\\weights\\best.pt, 5.5MB\n",
      "\n",
      "Validating D:\\programacion\\proyectos\\utec\\IA\\modulo_2_only_yolo\\brain_tumor\\trained\\brain_model\\weights\\best.pt...\n",
      "Ultralytics 8.3.133  Python-3.13.1 torch-2.7.0+cpu CPU (Intel Core(TM) i7-9700KF 3.60GHz)\n",
      "YOLO11n summary (fused): 100 layers, 2,582,542 parameters, 0 gradients, 6.3 GFLOPs\n"
     ]
    },
    {
     "name": "stderr",
     "output_type": "stream",
     "text": [
      "                 Class     Images  Instances      Box(P          R      mAP50  mAP50-95): 100%|██████████| 7/7 [00:25<00:00,  3.59s/it]\n"
     ]
    },
    {
     "name": "stdout",
     "output_type": "stream",
     "text": [
      "                   all        223        241      0.473      0.815      0.469      0.332\n",
      "              negative        142        154      0.591      0.779      0.566      0.402\n",
      "              positive         81         87      0.355      0.851      0.373      0.262\n",
      "Speed: 3.1ms preprocess, 100.3ms inference, 0.0ms loss, 3.1ms postprocess per image\n",
      "Results saved to \u001B[1mD:\\programacion\\proyectos\\utec\\IA\\modulo_2_only_yolo\\brain_tumor\\trained\\brain_model\u001B[0m\n"
     ]
    }
   ],
   "execution_count": 8
  },
  {
   "metadata": {
    "ExecuteTime": {
     "end_time": "2025-05-14T02:21:44.282884Z",
     "start_time": "2025-05-14T02:21:44.025333Z"
    }
   },
   "cell_type": "code",
   "source": [
    "# Load a model\n",
    "path_model_trained=r\"D:\\programacion\\proyectos\\utec\\IA\\modulo_2_only_yolo\\brain_tumor\\trained\\brain_model\\weights\\best.pt\"\n",
    "model = YOLO(path_model_trained)  # load a brain-tumor fine-tuned model\n",
    "\n",
    "# Inference using the model\n",
    "results = model.predict(\"https://ultralytics.com/assets/brain-tumor-sample.jpg\")"
   ],
   "id": "7b63c7f6815f3d53",
   "outputs": [
    {
     "name": "stdout",
     "output_type": "stream",
     "text": [
      "\n",
      "Found https://ultralytics.com/assets/brain-tumor-sample.jpg locally at brain-tumor-sample.jpg\n",
      "image 1/1 D:\\programacion\\proyectos\\utec\\IA\\modulo_2_only_yolo\\brain_tumor\\brain-tumor-sample.jpg: 640x640 (no detections), 127.2ms\n",
      "Speed: 8.4ms preprocess, 127.2ms inference, 0.5ms postprocess per image at shape (1, 3, 640, 640)\n"
     ]
    }
   ],
   "execution_count": 9
  },
  {
   "metadata": {
    "ExecuteTime": {
     "end_time": "2025-05-14T02:22:41.849117Z",
     "start_time": "2025-05-14T02:22:41.746395Z"
    }
   },
   "cell_type": "code",
   "source": [
    "path_model_2=r\"D:\\programacion\\proyectos\\utec\\IA\\modulo_2_only_yolo\\brain_tumor\\data\\brain-tumor\\valid\\images\\val_1 (1).jpg\"\n",
    "results=model.predict(path_model_2)"
   ],
   "id": "257afd6aad57a23e",
   "outputs": [
    {
     "name": "stdout",
     "output_type": "stream",
     "text": [
      "\n",
      "image 1/1 D:\\programacion\\proyectos\\utec\\IA\\modulo_2_only_yolo\\brain_tumor\\data\\brain-tumor\\valid\\images\\val_1 (1).jpg: 640x640 1 negative, 1 positive, 89.4ms\n",
      "Speed: 4.9ms preprocess, 89.4ms inference, 0.9ms postprocess per image at shape (1, 3, 640, 640)\n"
     ]
    }
   ],
   "execution_count": 10
  },
  {
   "metadata": {
    "ExecuteTime": {
     "end_time": "2025-05-14T03:06:19.778482Z",
     "start_time": "2025-05-14T03:06:19.717842Z"
    }
   },
   "cell_type": "code",
   "source": [
    "#Modelo entrenado en colab: https://colab.research.google.com/drive/1-tX6D6vzIiiOF9oMWEjgapChIsYJPOn6?usp=sharing\n",
    "path_model=r\"D:\\programacion\\proyectos\\utec\\IA\\modulo_2_only_yolo\\brain_tumor\\trained\\brain_model_colab\\weight\\best.pt\"\n",
    "model = YOLO(path_model)"
   ],
   "id": "69b55250f99e0fcb",
   "outputs": [],
   "execution_count": 11
  },
  {
   "metadata": {
    "ExecuteTime": {
     "end_time": "2025-05-14T03:10:11.884582Z",
     "start_time": "2025-05-14T03:10:11.751859Z"
    }
   },
   "cell_type": "code",
   "source": [
    "results = model.predict(\"https://ultralytics.com/assets/brain-tumor-sample.jpg\")\n",
    "results[0].show()"
   ],
   "id": "678f0c7ffe915ff5",
   "outputs": [
    {
     "name": "stdout",
     "output_type": "stream",
     "text": [
      "\n",
      "Found https://ultralytics.com/assets/brain-tumor-sample.jpg locally at brain-tumor-sample.jpg\n",
      "image 1/1 D:\\programacion\\proyectos\\utec\\IA\\modulo_2_only_yolo\\brain_tumor\\brain-tumor-sample.jpg: 640x640 1 positive, 102.6ms\n",
      "Speed: 8.0ms preprocess, 102.6ms inference, 0.8ms postprocess per image at shape (1, 3, 640, 640)\n"
     ]
    }
   ],
   "execution_count": 16
  },
  {
   "metadata": {
    "ExecuteTime": {
     "end_time": "2025-05-14T03:07:57.559025Z",
     "start_time": "2025-05-14T03:07:57.385112Z"
    }
   },
   "cell_type": "code",
   "source": [
    "path_model_2=r\"D:\\programacion\\proyectos\\utec\\IA\\modulo_2_only_yolo\\brain_tumor\\data\\brain-tumor\\valid\\images\\val_1 (1).jpg\"\n",
    "results=model.predict(path_model_2)\n",
    "results[0].show()"
   ],
   "id": "bd22f0ac3576749b",
   "outputs": [
    {
     "name": "stdout",
     "output_type": "stream",
     "text": [
      "\n",
      "image 1/1 D:\\programacion\\proyectos\\utec\\IA\\modulo_2_only_yolo\\brain_tumor\\data\\brain-tumor\\valid\\images\\val_1 (1).jpg: 640x640 1 positive, 137.2ms\n",
      "Speed: 4.9ms preprocess, 137.2ms inference, 0.7ms postprocess per image at shape (1, 3, 640, 640)\n"
     ]
    }
   ],
   "execution_count": 15
  }
 ],
 "metadata": {
  "kernelspec": {
   "display_name": "Python 3",
   "language": "python",
   "name": "python3"
  },
  "language_info": {
   "codemirror_mode": {
    "name": "ipython",
    "version": 2
   },
   "file_extension": ".py",
   "mimetype": "text/x-python",
   "name": "python",
   "nbconvert_exporter": "python",
   "pygments_lexer": "ipython2",
   "version": "2.7.6"
  }
 },
 "nbformat": 4,
 "nbformat_minor": 5
}
