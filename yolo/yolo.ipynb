{
 "cells": [
  {
   "metadata": {},
   "cell_type": "markdown",
   "source": "# Definimos el bloque convolucional",
   "id": "72ce48f75cfeea77"
  },
  {
   "cell_type": "code",
   "id": "initial_id",
   "metadata": {
    "collapsed": true,
    "jupyter": {
     "is_executing": true
    }
   },
   "source": [
    "import torch\n",
    "import torch.nn as nn\n",
    "def conv_block(in_channels, out_channels, kernel_size, stride=1, padding=0):\n",
    "    return nn.Sequencial(\n",
    "       nn.Conv2d(in_channels, out_channels, kernel_size, stride, padding, bias=False),\n",
    "        nn.BatchNorm2d(out_channels),\n",
    "        nn.LeakyReLU(0.1)\n",
    "    )"
   ],
   "outputs": [],
   "execution_count": null
  },
  {
   "metadata": {},
   "cell_type": "markdown",
   "source": "# Creámos nuestra red YoloV1",
   "id": "7c67ca3721aec0ba"
  },
  {
   "metadata": {},
   "cell_type": "code",
   "outputs": [],
   "execution_count": null,
   "source": [
    "class Yolo(nn.Module):\n",
    "    def __init__(self, s=7,b=2, c=1):\n",
    "        super(Yolo, self).__init__()\n",
    "        self.s = s\n",
    "        self.b = b\n",
    "        self.c = c\n",
    "    def layer1(self):\n",
    "        return nn.Sequential(\n",
    "            conv_block(3,64,7, stride=2, padding=3),\n",
    "            nn.MaxPool2d(2,2),\n",
    "        )\n",
    "    def layer2(self):\n",
    "        return nn.Sequential(\n",
    "            conv_block(64,192,3,padding=1),\n",
    "            nn.MaxPool2d(2,2),\n",
    "        )\n",
    "    def layer3(self):\n",
    "        return nn.Sequential(\n",
    "            conv_block(192,128,1),\n",
    "            conv_block(128,256,3, padding=1),\n",
    "            conv_block(256,256,1),\n",
    "            conv_block(256,512,3, padding=1),\n",
    "            nn.MaxPool2d(2,2),\n",
    "        )\n",
    "    def layer4(self):\n",
    "        blocks=[\n",
    "            nn.Sequential(\n",
    "                conv_block(512,256,1),\n",
    "                conv_block(256,512,3, padding=1),\n",
    "            ) for _ in range(4)\n",
    "        ]\n",
    "        return nn.Sequential(\n",
    "            *blocks,\n",
    "            conv_block(512,512,1),\n",
    "            conv_block(512,1024,3, padding=1),\n",
    "            nn.MaxPool2d(2,2)\n",
    "        )\n",
    "    def layer5(self):\n",
    "        blocks=[\n",
    "            nn.Sequential(\n",
    "                conv_block(1024,512,1),\n",
    "                conv_block(512,1024,3, padding=1),\n",
    "            ) for _ in range(2)\n",
    "        ]\n",
    "        return nn.Sequential(\n",
    "            *blocks,\n",
    "            conv_block(1024,1024,3, padding=1),\n",
    "            conv_block(1024,1024,3, stride=2, padding=1)\n",
    "        )\n",
    "    def layer6(self):\n",
    "        return nn.Sequential(\n",
    "            conv_block(1024,1024,3, padding=1),\n",
    "            conv_block(1024,1024,3, padding=1)\n",
    "        )"
   ],
   "id": "1edba11e85330f4f"
  }
 ],
 "metadata": {
  "kernelspec": {
   "display_name": "Python 3",
   "language": "python",
   "name": "python3"
  },
  "language_info": {
   "codemirror_mode": {
    "name": "ipython",
    "version": 2
   },
   "file_extension": ".py",
   "mimetype": "text/x-python",
   "name": "python",
   "nbconvert_exporter": "python",
   "pygments_lexer": "ipython2",
   "version": "2.7.6"
  }
 },
 "nbformat": 4,
 "nbformat_minor": 5
}
